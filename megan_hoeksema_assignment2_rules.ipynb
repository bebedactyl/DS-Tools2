{
 "cells": [
  {
   "cell_type": "markdown",
   "id": "e763eed0",
   "metadata": {},
   "source": [
    "## Megan Hoeksema\n",
    "\n",
    "## Comp4448 DS Tools 2\n",
    "\n",
    "## Assignment: Rule Based Classification"
   ]
  },
  {
   "cell_type": "markdown",
   "id": "e80f8f0c",
   "metadata": {},
   "source": [
    "### Packages"
   ]
  },
  {
   "cell_type": "code",
   "execution_count": 1,
   "id": "b82347d3",
   "metadata": {},
   "outputs": [],
   "source": [
    "from math import log2\n",
    "import matplotlib.pyplot as plt\n",
    "%matplotlib inline\n",
    "import numpy as np\n",
    "import pandas as pd\n",
    "import seaborn as sns"
   ]
  },
  {
   "cell_type": "markdown",
   "id": "8ff06e88",
   "metadata": {},
   "source": [
    "## Question 1"
   ]
  },
  {
   "cell_type": "markdown",
   "id": "02a374f3",
   "metadata": {},
   "source": [
    "You are provided with the following training data set.The data is to be used to predict whether individuals will cheat in filing their taxes or not. The attributes are refund, indicating whether an individual received tax refund or not, marital_status indicating whether the individual is married, single, or divorced, the income_above_80k, indicating whether an individual’s taxable income is above $80,000 or not. The output variable, cheat, is a binary variable indicating whether an individual cheated in filing taxes or not. "
   ]
  },
  {
   "cell_type": "code",
   "execution_count": 2,
   "id": "8c3bc711",
   "metadata": {},
   "outputs": [
    {
     "data": {
      "text/html": [
       "<div>\n",
       "<style scoped>\n",
       "    .dataframe tbody tr th:only-of-type {\n",
       "        vertical-align: middle;\n",
       "    }\n",
       "\n",
       "    .dataframe tbody tr th {\n",
       "        vertical-align: top;\n",
       "    }\n",
       "\n",
       "    .dataframe thead th {\n",
       "        text-align: right;\n",
       "    }\n",
       "</style>\n",
       "<table border=\"1\" class=\"dataframe\">\n",
       "  <thead>\n",
       "    <tr style=\"text-align: right;\">\n",
       "      <th></th>\n",
       "      <th>refund</th>\n",
       "      <th>marital_status</th>\n",
       "      <th>income_above_80k</th>\n",
       "      <th>cheat</th>\n",
       "    </tr>\n",
       "  </thead>\n",
       "  <tbody>\n",
       "    <tr>\n",
       "      <th>0</th>\n",
       "      <td>yes</td>\n",
       "      <td>single</td>\n",
       "      <td>yes</td>\n",
       "      <td>no</td>\n",
       "    </tr>\n",
       "    <tr>\n",
       "      <th>1</th>\n",
       "      <td>no</td>\n",
       "      <td>married</td>\n",
       "      <td>yes</td>\n",
       "      <td>no</td>\n",
       "    </tr>\n",
       "    <tr>\n",
       "      <th>2</th>\n",
       "      <td>no</td>\n",
       "      <td>single</td>\n",
       "      <td>no</td>\n",
       "      <td>no</td>\n",
       "    </tr>\n",
       "    <tr>\n",
       "      <th>3</th>\n",
       "      <td>yes</td>\n",
       "      <td>married</td>\n",
       "      <td>yes</td>\n",
       "      <td>no</td>\n",
       "    </tr>\n",
       "    <tr>\n",
       "      <th>4</th>\n",
       "      <td>no</td>\n",
       "      <td>divorced</td>\n",
       "      <td>yes</td>\n",
       "      <td>yes</td>\n",
       "    </tr>\n",
       "    <tr>\n",
       "      <th>5</th>\n",
       "      <td>no</td>\n",
       "      <td>married</td>\n",
       "      <td>no</td>\n",
       "      <td>no</td>\n",
       "    </tr>\n",
       "    <tr>\n",
       "      <th>6</th>\n",
       "      <td>yes</td>\n",
       "      <td>divorced</td>\n",
       "      <td>yes</td>\n",
       "      <td>no</td>\n",
       "    </tr>\n",
       "    <tr>\n",
       "      <th>7</th>\n",
       "      <td>no</td>\n",
       "      <td>single</td>\n",
       "      <td>yes</td>\n",
       "      <td>yes</td>\n",
       "    </tr>\n",
       "    <tr>\n",
       "      <th>8</th>\n",
       "      <td>no</td>\n",
       "      <td>married</td>\n",
       "      <td>no</td>\n",
       "      <td>no</td>\n",
       "    </tr>\n",
       "    <tr>\n",
       "      <th>9</th>\n",
       "      <td>no</td>\n",
       "      <td>single</td>\n",
       "      <td>yes</td>\n",
       "      <td>yes</td>\n",
       "    </tr>\n",
       "  </tbody>\n",
       "</table>\n",
       "</div>"
      ],
      "text/plain": [
       "  refund marital_status income_above_80k cheat\n",
       "0    yes         single              yes    no\n",
       "1     no        married              yes    no\n",
       "2     no         single               no    no\n",
       "3    yes        married              yes    no\n",
       "4     no       divorced              yes   yes\n",
       "5     no        married               no    no\n",
       "6    yes       divorced              yes    no\n",
       "7     no         single              yes   yes\n",
       "8     no        married               no    no\n",
       "9     no         single              yes   yes"
      ]
     },
     "execution_count": 2,
     "metadata": {},
     "output_type": "execute_result"
    }
   ],
   "source": [
    "refund = ['yes', 'no', 'no', 'yes', 'no', 'no', 'yes', 'no', 'no', 'no']\n",
    "marital_status = ['single', 'married', 'single', 'married', 'divorced', 'married', 'divorced', 'single', 'married', 'single']\n",
    "income_above_80k = ['yes', 'yes', 'no', 'yes', 'yes', 'no', 'yes', 'yes', 'no', 'yes']\n",
    "cheat = ['no', 'no', 'no', 'no', 'yes', 'no', 'no', 'yes', 'no', 'yes']\n",
    "\n",
    "zipped = zip(refund, marital_status, income_above_80k, cheat)\n",
    "data = pd.DataFrame(zipped, columns=['refund', 'marital_status', 'income_above_80k', 'cheat'])\n",
    "data"
   ]
  },
  {
   "cell_type": "markdown",
   "id": "771a678d",
   "metadata": {},
   "source": [
    "## Question 1a"
   ]
  },
  {
   "cell_type": "markdown",
   "id": "6d87a575",
   "metadata": {},
   "source": [
    "Write an IF-THEN rule derived from this decision tree, that can be used to classify instances in the data suppose your desire is to predict “yes” for the output variable. "
   ]
  },
  {
   "cell_type": "markdown",
   "id": "5ce4c240",
   "metadata": {},
   "source": [
    "if refund = no and income_above_80k = yes and marital_status = single or divorced, predict yes"
   ]
  },
  {
   "cell_type": "markdown",
   "id": "18b4cb87",
   "metadata": {},
   "source": [
    "## Question 1b"
   ]
  },
  {
   "cell_type": "markdown",
   "id": "463f3775",
   "metadata": {},
   "source": [
    "In code, create a function with an if-else statement to implement the rule you wrote above in question 1a. You can name the function predict. The function takes the input data and returns a vector of predicted output values. You can decide if you want your function’s input data argument to be a numpy array or a data frame, ,then structure your function body to process the input data accordingly. Provide some brief document of your function. You can loop through each instance in the input data and assess whether the instance satisfies the rule for predicting “yes” or not. If the instance satisfies the rule for predicting “yes”, then predict 1, otherwise, predict 0. "
   ]
  },
  {
   "cell_type": "code",
   "execution_count": 3,
   "id": "af7dfec6",
   "metadata": {},
   "outputs": [],
   "source": [
    "def predict(row):\n",
    "    for value in row:\n",
    "        if (row['marital_status'] == 'divorced') & (row['income_above_80k'] == 'yes') & (row['refund'] == 'no'):\n",
    "            return 1\n",
    "        elif (row['marital_status'] == 'single') & (row['income_above_80k'] == 'yes') & (row['refund'] == 'no'):\n",
    "            return 1\n",
    "        else: \n",
    "            return 0"
   ]
  },
  {
   "cell_type": "markdown",
   "id": "9d476944",
   "metadata": {},
   "source": [
    "## Question 1c"
   ]
  },
  {
   "cell_type": "markdown",
   "id": "a7ef0c82",
   "metadata": {},
   "source": [
    "Create another function that implements the rule for predicting “yes” for the output, but this time, you will not use if-else statement or a loop. Rather use numpy arrays, matrices or vector to vectorize your code for faster and more efficient implementation. If the instance satisfies the rule for predicting “yes”, then predict 1, otherwise, predict 0. You can use logical operators for such implementation to compare values of test instances to values of attributes in the rule. This function still takes the input data and returns a vector of predicted values. You can call this function vectorized_predict. "
   ]
  },
  {
   "cell_type": "code",
   "execution_count": 4,
   "id": "4c1493bd",
   "metadata": {},
   "outputs": [],
   "source": [
    "def vectorized_predict(row):\n",
    "    vector = np.where((row['marital_status'] == 'divorced') & \n",
    "                                          (row['income_above_80k'] == 'yes') & \n",
    "                                          (row['refund'] == 'no'), 1, np.where((row['marital_status'] == 'single') & \n",
    "                                                                               (row['income_above_80k'] == 'yes') & \n",
    "                                                                               (row['refund'] == 'no'), 1, 0))\n",
    "    return vector"
   ]
  },
  {
   "cell_type": "markdown",
   "id": "fbde93b7",
   "metadata": {},
   "source": [
    "## Question 1d"
   ]
  },
  {
   "cell_type": "markdown",
   "id": "dd1ce423",
   "metadata": {},
   "source": [
    "Select the input data (refund, marital_status, income_above_80k) in the training data and apply your predict function to the input data to predict the outcome values of the input data. Your function should return a vector of predicted values. "
   ]
  },
  {
   "cell_type": "code",
   "execution_count": 5,
   "id": "5e6ce119",
   "metadata": {},
   "outputs": [
    {
     "data": {
      "text/plain": [
       "[0, 0, 0, 0, 1, 0, 0, 1, 0, 1]"
      ]
     },
     "execution_count": 5,
     "metadata": {},
     "output_type": "execute_result"
    }
   ],
   "source": [
    "data['predict'] = data.apply(predict, axis=1)\n",
    "\n",
    "col_list = data.predict.values.tolist()\n",
    "col_list"
   ]
  },
  {
   "cell_type": "markdown",
   "id": "2dae6b01",
   "metadata": {},
   "source": [
    "## Question 1e"
   ]
  },
  {
   "cell_type": "markdown",
   "id": "5c334b24",
   "metadata": {},
   "source": [
    "Select the input data (refund, marital_status, income_above_80k) in the training data and apply your vectorized_predict function to the input data to predict the outcome values of the input data. Your function should return a vector of predicted values. Are the predicted values with the vectorized_predict function the same as the predicted values obtained through the predict function? (you should have the same results). "
   ]
  },
  {
   "cell_type": "code",
   "execution_count": 6,
   "id": "3138b733",
   "metadata": {},
   "outputs": [
    {
     "name": "stdout",
     "output_type": "stream",
     "text": [
      "[0 0 0 0 1 0 0 1 0 1]\n"
     ]
    }
   ],
   "source": [
    "print(vectorized_predict(data))"
   ]
  },
  {
   "cell_type": "markdown",
   "id": "2963497e",
   "metadata": {},
   "source": [
    "## Question 1f"
   ]
  },
  {
   "cell_type": "markdown",
   "id": "ad569dd7",
   "metadata": {},
   "source": [
    "Include the predicted values as a column to the training data and name that column predicted_cheat. "
   ]
  },
  {
   "cell_type": "code",
   "execution_count": 7,
   "id": "cddce2ea",
   "metadata": {},
   "outputs": [
    {
     "data": {
      "text/html": [
       "<div>\n",
       "<style scoped>\n",
       "    .dataframe tbody tr th:only-of-type {\n",
       "        vertical-align: middle;\n",
       "    }\n",
       "\n",
       "    .dataframe tbody tr th {\n",
       "        vertical-align: top;\n",
       "    }\n",
       "\n",
       "    .dataframe thead th {\n",
       "        text-align: right;\n",
       "    }\n",
       "</style>\n",
       "<table border=\"1\" class=\"dataframe\">\n",
       "  <thead>\n",
       "    <tr style=\"text-align: right;\">\n",
       "      <th></th>\n",
       "      <th>refund</th>\n",
       "      <th>marital_status</th>\n",
       "      <th>income_above_80k</th>\n",
       "      <th>cheat</th>\n",
       "      <th>predicted_cheat</th>\n",
       "    </tr>\n",
       "  </thead>\n",
       "  <tbody>\n",
       "    <tr>\n",
       "      <th>0</th>\n",
       "      <td>yes</td>\n",
       "      <td>single</td>\n",
       "      <td>yes</td>\n",
       "      <td>no</td>\n",
       "      <td>0</td>\n",
       "    </tr>\n",
       "    <tr>\n",
       "      <th>1</th>\n",
       "      <td>no</td>\n",
       "      <td>married</td>\n",
       "      <td>yes</td>\n",
       "      <td>no</td>\n",
       "      <td>0</td>\n",
       "    </tr>\n",
       "    <tr>\n",
       "      <th>2</th>\n",
       "      <td>no</td>\n",
       "      <td>single</td>\n",
       "      <td>no</td>\n",
       "      <td>no</td>\n",
       "      <td>0</td>\n",
       "    </tr>\n",
       "    <tr>\n",
       "      <th>3</th>\n",
       "      <td>yes</td>\n",
       "      <td>married</td>\n",
       "      <td>yes</td>\n",
       "      <td>no</td>\n",
       "      <td>0</td>\n",
       "    </tr>\n",
       "    <tr>\n",
       "      <th>4</th>\n",
       "      <td>no</td>\n",
       "      <td>divorced</td>\n",
       "      <td>yes</td>\n",
       "      <td>yes</td>\n",
       "      <td>1</td>\n",
       "    </tr>\n",
       "    <tr>\n",
       "      <th>5</th>\n",
       "      <td>no</td>\n",
       "      <td>married</td>\n",
       "      <td>no</td>\n",
       "      <td>no</td>\n",
       "      <td>0</td>\n",
       "    </tr>\n",
       "    <tr>\n",
       "      <th>6</th>\n",
       "      <td>yes</td>\n",
       "      <td>divorced</td>\n",
       "      <td>yes</td>\n",
       "      <td>no</td>\n",
       "      <td>0</td>\n",
       "    </tr>\n",
       "    <tr>\n",
       "      <th>7</th>\n",
       "      <td>no</td>\n",
       "      <td>single</td>\n",
       "      <td>yes</td>\n",
       "      <td>yes</td>\n",
       "      <td>1</td>\n",
       "    </tr>\n",
       "    <tr>\n",
       "      <th>8</th>\n",
       "      <td>no</td>\n",
       "      <td>married</td>\n",
       "      <td>no</td>\n",
       "      <td>no</td>\n",
       "      <td>0</td>\n",
       "    </tr>\n",
       "    <tr>\n",
       "      <th>9</th>\n",
       "      <td>no</td>\n",
       "      <td>single</td>\n",
       "      <td>yes</td>\n",
       "      <td>yes</td>\n",
       "      <td>1</td>\n",
       "    </tr>\n",
       "  </tbody>\n",
       "</table>\n",
       "</div>"
      ],
      "text/plain": [
       "  refund marital_status income_above_80k cheat  predicted_cheat\n",
       "0    yes         single              yes    no                0\n",
       "1     no        married              yes    no                0\n",
       "2     no         single               no    no                0\n",
       "3    yes        married              yes    no                0\n",
       "4     no       divorced              yes   yes                1\n",
       "5     no        married               no    no                0\n",
       "6    yes       divorced              yes    no                0\n",
       "7     no         single              yes   yes                1\n",
       "8     no        married               no    no                0\n",
       "9     no         single              yes   yes                1"
      ]
     },
     "execution_count": 7,
     "metadata": {},
     "output_type": "execute_result"
    }
   ],
   "source": [
    "data = data.drop(columns = ['predict'])\n",
    "\n",
    "data['predicted_cheat'] = vectorized_predict(data)\n",
    "\n",
    "data"
   ]
  },
  {
   "cell_type": "markdown",
   "id": "d3d81833",
   "metadata": {},
   "source": [
    "## Question 1g"
   ]
  },
  {
   "cell_type": "markdown",
   "id": "28e8e965",
   "metadata": {},
   "source": [
    "Create a function that computes the overall accuracy of the classification. You can call this function overall_accuracy. The function should take two arguments, a vector of  actual output values and a vector of predicted output values, then returns the classification accuracy. Inside the function, you can use boolean logic to compare the actual and predicted values, then count the proportion of how many predicted values are equal to the actual values to get the overall accuracy. "
   ]
  },
  {
   "cell_type": "code",
   "execution_count": 8,
   "id": "cd960df6",
   "metadata": {},
   "outputs": [
    {
     "name": "stdout",
     "output_type": "stream",
     "text": [
      "Overall Accuracy: 100.0\n"
     ]
    }
   ],
   "source": [
    "def overall_accuracy(col1, col2):\n",
    "    vector = np.where((col1== 'no') & (col2 == 0), 1, \n",
    "                      np.where((col1 == 'yes') & (col2 == 1), 1, 0))\n",
    "    \n",
    "    return(np.mean(vector)*100)\n",
    "\n",
    "print('Overall Accuracy: ' + str(overall_accuracy(data['cheat'], data['predicted_cheat'])))"
   ]
  },
  {
   "cell_type": "markdown",
   "id": "53cc0220",
   "metadata": {},
   "source": [
    "## Question 1h"
   ]
  },
  {
   "cell_type": "markdown",
   "id": "1fc04c10",
   "metadata": {},
   "source": [
    "Create a confusion matrix using the predicted and actual output values. You can use pandas crosstab function. "
   ]
  },
  {
   "cell_type": "code",
   "execution_count": 9,
   "id": "bf0e0021",
   "metadata": {},
   "outputs": [
    {
     "data": {
      "text/html": [
       "<div>\n",
       "<style scoped>\n",
       "    .dataframe tbody tr th:only-of-type {\n",
       "        vertical-align: middle;\n",
       "    }\n",
       "\n",
       "    .dataframe tbody tr th {\n",
       "        vertical-align: top;\n",
       "    }\n",
       "\n",
       "    .dataframe thead th {\n",
       "        text-align: right;\n",
       "    }\n",
       "</style>\n",
       "<table border=\"1\" class=\"dataframe\">\n",
       "  <thead>\n",
       "    <tr style=\"text-align: right;\">\n",
       "      <th>predicted_cheat</th>\n",
       "      <th>0</th>\n",
       "      <th>1</th>\n",
       "    </tr>\n",
       "    <tr>\n",
       "      <th>cheat</th>\n",
       "      <th></th>\n",
       "      <th></th>\n",
       "    </tr>\n",
       "  </thead>\n",
       "  <tbody>\n",
       "    <tr>\n",
       "      <th>no</th>\n",
       "      <td>7</td>\n",
       "      <td>0</td>\n",
       "    </tr>\n",
       "    <tr>\n",
       "      <th>yes</th>\n",
       "      <td>0</td>\n",
       "      <td>3</td>\n",
       "    </tr>\n",
       "  </tbody>\n",
       "</table>\n",
       "</div>"
      ],
      "text/plain": [
       "predicted_cheat  0  1\n",
       "cheat                \n",
       "no               7  0\n",
       "yes              0  3"
      ]
     },
     "execution_count": 9,
     "metadata": {},
     "output_type": "execute_result"
    }
   ],
   "source": [
    "conf_matrix = pd.crosstab(data['cheat'], data['predicted_cheat'])\n",
    "conf_matrix"
   ]
  },
  {
   "cell_type": "markdown",
   "id": "edc99055",
   "metadata": {},
   "source": [
    "## Question 1i"
   ]
  },
  {
   "cell_type": "markdown",
   "id": "d721c627",
   "metadata": {},
   "source": [
    "Supose the test set data is as follows. "
   ]
  },
  {
   "cell_type": "code",
   "execution_count": 10,
   "id": "9237e987",
   "metadata": {},
   "outputs": [
    {
     "data": {
      "text/html": [
       "<div>\n",
       "<style scoped>\n",
       "    .dataframe tbody tr th:only-of-type {\n",
       "        vertical-align: middle;\n",
       "    }\n",
       "\n",
       "    .dataframe tbody tr th {\n",
       "        vertical-align: top;\n",
       "    }\n",
       "\n",
       "    .dataframe thead th {\n",
       "        text-align: right;\n",
       "    }\n",
       "</style>\n",
       "<table border=\"1\" class=\"dataframe\">\n",
       "  <thead>\n",
       "    <tr style=\"text-align: right;\">\n",
       "      <th></th>\n",
       "      <th>refund</th>\n",
       "      <th>marital_status</th>\n",
       "      <th>income_above_80k</th>\n",
       "      <th>cheat</th>\n",
       "    </tr>\n",
       "  </thead>\n",
       "  <tbody>\n",
       "    <tr>\n",
       "      <th>0</th>\n",
       "      <td>no</td>\n",
       "      <td>single</td>\n",
       "      <td>yes</td>\n",
       "      <td>no</td>\n",
       "    </tr>\n",
       "    <tr>\n",
       "      <th>1</th>\n",
       "      <td>no</td>\n",
       "      <td>single</td>\n",
       "      <td>yes</td>\n",
       "      <td>no</td>\n",
       "    </tr>\n",
       "    <tr>\n",
       "      <th>2</th>\n",
       "      <td>no</td>\n",
       "      <td>married</td>\n",
       "      <td>yes</td>\n",
       "      <td>no</td>\n",
       "    </tr>\n",
       "    <tr>\n",
       "      <th>3</th>\n",
       "      <td>no</td>\n",
       "      <td>divorced</td>\n",
       "      <td>no</td>\n",
       "      <td>no</td>\n",
       "    </tr>\n",
       "    <tr>\n",
       "      <th>4</th>\n",
       "      <td>no</td>\n",
       "      <td>married</td>\n",
       "      <td>yes</td>\n",
       "      <td>no</td>\n",
       "    </tr>\n",
       "    <tr>\n",
       "      <th>5</th>\n",
       "      <td>no</td>\n",
       "      <td>single</td>\n",
       "      <td>yes</td>\n",
       "      <td>no</td>\n",
       "    </tr>\n",
       "    <tr>\n",
       "      <th>6</th>\n",
       "      <td>yes</td>\n",
       "      <td>single</td>\n",
       "      <td>yes</td>\n",
       "      <td>no</td>\n",
       "    </tr>\n",
       "    <tr>\n",
       "      <th>7</th>\n",
       "      <td>no</td>\n",
       "      <td>single</td>\n",
       "      <td>yes</td>\n",
       "      <td>yes</td>\n",
       "    </tr>\n",
       "    <tr>\n",
       "      <th>8</th>\n",
       "      <td>yes</td>\n",
       "      <td>married</td>\n",
       "      <td>yes</td>\n",
       "      <td>yes</td>\n",
       "    </tr>\n",
       "    <tr>\n",
       "      <th>9</th>\n",
       "      <td>yes</td>\n",
       "      <td>single</td>\n",
       "      <td>no</td>\n",
       "      <td>yes</td>\n",
       "    </tr>\n",
       "  </tbody>\n",
       "</table>\n",
       "</div>"
      ],
      "text/plain": [
       "  refund marital_status income_above_80k cheat\n",
       "0     no         single              yes    no\n",
       "1     no         single              yes    no\n",
       "2     no        married              yes    no\n",
       "3     no       divorced               no    no\n",
       "4     no        married              yes    no\n",
       "5     no         single              yes    no\n",
       "6    yes         single              yes    no\n",
       "7     no         single              yes   yes\n",
       "8    yes        married              yes   yes\n",
       "9    yes         single               no   yes"
      ]
     },
     "execution_count": 10,
     "metadata": {},
     "output_type": "execute_result"
    }
   ],
   "source": [
    "refund = ['no', 'no', 'no', 'no', 'no', 'no', 'yes', 'no', 'yes', 'yes']\n",
    "marital_status = ['single', 'single', 'married', 'divorced','married', 'single', 'single', 'single', 'married', 'single']\n",
    "income_above_80k = ['yes', 'yes', 'yes', 'no', 'yes', 'yes', 'yes', 'yes', 'yes', 'no']\n",
    "cheat = ['no', 'no', 'no', 'no', 'no', 'no', 'no', 'yes', 'yes', 'yes']\n",
    "\n",
    "zipped = zip(refund, marital_status, income_above_80k, cheat)\n",
    "data2 = pd.DataFrame(zipped, columns=['refund', 'marital_status', 'income_above_80k', 'cheat'])\n",
    "data2"
   ]
  },
  {
   "cell_type": "markdown",
   "id": "9260c974",
   "metadata": {},
   "source": [
    "Apply the vectorized_predict function to the input of the test dataset to predict the output values for the test dataset. Include these predicted values as a column to the test dataset and called this column predicted_cheat. "
   ]
  },
  {
   "cell_type": "code",
   "execution_count": 11,
   "id": "47f6bc45",
   "metadata": {},
   "outputs": [
    {
     "data": {
      "text/html": [
       "<div>\n",
       "<style scoped>\n",
       "    .dataframe tbody tr th:only-of-type {\n",
       "        vertical-align: middle;\n",
       "    }\n",
       "\n",
       "    .dataframe tbody tr th {\n",
       "        vertical-align: top;\n",
       "    }\n",
       "\n",
       "    .dataframe thead th {\n",
       "        text-align: right;\n",
       "    }\n",
       "</style>\n",
       "<table border=\"1\" class=\"dataframe\">\n",
       "  <thead>\n",
       "    <tr style=\"text-align: right;\">\n",
       "      <th></th>\n",
       "      <th>refund</th>\n",
       "      <th>marital_status</th>\n",
       "      <th>income_above_80k</th>\n",
       "      <th>cheat</th>\n",
       "      <th>predicted_cheat</th>\n",
       "    </tr>\n",
       "  </thead>\n",
       "  <tbody>\n",
       "    <tr>\n",
       "      <th>0</th>\n",
       "      <td>no</td>\n",
       "      <td>single</td>\n",
       "      <td>yes</td>\n",
       "      <td>no</td>\n",
       "      <td>1</td>\n",
       "    </tr>\n",
       "    <tr>\n",
       "      <th>1</th>\n",
       "      <td>no</td>\n",
       "      <td>single</td>\n",
       "      <td>yes</td>\n",
       "      <td>no</td>\n",
       "      <td>1</td>\n",
       "    </tr>\n",
       "    <tr>\n",
       "      <th>2</th>\n",
       "      <td>no</td>\n",
       "      <td>married</td>\n",
       "      <td>yes</td>\n",
       "      <td>no</td>\n",
       "      <td>0</td>\n",
       "    </tr>\n",
       "    <tr>\n",
       "      <th>3</th>\n",
       "      <td>no</td>\n",
       "      <td>divorced</td>\n",
       "      <td>no</td>\n",
       "      <td>no</td>\n",
       "      <td>0</td>\n",
       "    </tr>\n",
       "    <tr>\n",
       "      <th>4</th>\n",
       "      <td>no</td>\n",
       "      <td>married</td>\n",
       "      <td>yes</td>\n",
       "      <td>no</td>\n",
       "      <td>0</td>\n",
       "    </tr>\n",
       "    <tr>\n",
       "      <th>5</th>\n",
       "      <td>no</td>\n",
       "      <td>single</td>\n",
       "      <td>yes</td>\n",
       "      <td>no</td>\n",
       "      <td>1</td>\n",
       "    </tr>\n",
       "    <tr>\n",
       "      <th>6</th>\n",
       "      <td>yes</td>\n",
       "      <td>single</td>\n",
       "      <td>yes</td>\n",
       "      <td>no</td>\n",
       "      <td>0</td>\n",
       "    </tr>\n",
       "    <tr>\n",
       "      <th>7</th>\n",
       "      <td>no</td>\n",
       "      <td>single</td>\n",
       "      <td>yes</td>\n",
       "      <td>yes</td>\n",
       "      <td>1</td>\n",
       "    </tr>\n",
       "    <tr>\n",
       "      <th>8</th>\n",
       "      <td>yes</td>\n",
       "      <td>married</td>\n",
       "      <td>yes</td>\n",
       "      <td>yes</td>\n",
       "      <td>0</td>\n",
       "    </tr>\n",
       "    <tr>\n",
       "      <th>9</th>\n",
       "      <td>yes</td>\n",
       "      <td>single</td>\n",
       "      <td>no</td>\n",
       "      <td>yes</td>\n",
       "      <td>0</td>\n",
       "    </tr>\n",
       "  </tbody>\n",
       "</table>\n",
       "</div>"
      ],
      "text/plain": [
       "  refund marital_status income_above_80k cheat  predicted_cheat\n",
       "0     no         single              yes    no                1\n",
       "1     no         single              yes    no                1\n",
       "2     no        married              yes    no                0\n",
       "3     no       divorced               no    no                0\n",
       "4     no        married              yes    no                0\n",
       "5     no         single              yes    no                1\n",
       "6    yes         single              yes    no                0\n",
       "7     no         single              yes   yes                1\n",
       "8    yes        married              yes   yes                0\n",
       "9    yes         single               no   yes                0"
      ]
     },
     "execution_count": 11,
     "metadata": {},
     "output_type": "execute_result"
    }
   ],
   "source": [
    "data2['predicted_cheat'] = vectorized_predict(data2)\n",
    "\n",
    "data2"
   ]
  },
  {
   "cell_type": "markdown",
   "id": "f409280c",
   "metadata": {},
   "source": [
    "## Question 1j"
   ]
  },
  {
   "cell_type": "markdown",
   "id": "233d6f36",
   "metadata": {},
   "source": [
    "Apply the overall_accuracy function to the predicted out values and actual output values of the test set to compute the overall accuracy. Compare the overall accuracy of the test set and that of the training set. Is there overfitting? Why or why not? If there is overfitting, what would you do to avoid overfitting the rule to the training set? "
   ]
  },
  {
   "cell_type": "code",
   "execution_count": 12,
   "id": "b9fd7dfc",
   "metadata": {},
   "outputs": [
    {
     "name": "stdout",
     "output_type": "stream",
     "text": [
      "Overall Accuracy: 50.0\n"
     ]
    }
   ],
   "source": [
    "print('Overall Accuracy: ' + str(overall_accuracy(data2['cheat'], data2['predicted_cheat'])))"
   ]
  },
  {
   "cell_type": "markdown",
   "id": "9f66b8be",
   "metadata": {},
   "source": [
    "Yes, overfitting is occuring. You can see this because the accuracy of the training set is 100% and the accuracy of the test set is 50%. In order to avoid overfitting, we would need to be less specific in the rule described. For instance, we would need to sacrifice the accuracy of the training set to increase the accuracy of the test set."
   ]
  },
  {
   "cell_type": "markdown",
   "id": "f9f3ff3b",
   "metadata": {},
   "source": [
    "## Question 2"
   ]
  },
  {
   "cell_type": "markdown",
   "id": "8f89772e",
   "metadata": {},
   "source": [
    "You will use the same training dataset provided in question 1. Suppose we wanted to create one rule using only one attribute that best classifies the input data, you will need to write a function or an algorithm to find that best attribute. There are different approaches we can use to evaluate the best attritubute that will classify our data with the highest accuracy. One of the accuracy measures we can use to find the best attribute is information gain, which uses entropy. "
   ]
  },
  {
   "cell_type": "code",
   "execution_count": 13,
   "id": "3f3d46e6",
   "metadata": {},
   "outputs": [
    {
     "data": {
      "text/html": [
       "<div>\n",
       "<style scoped>\n",
       "    .dataframe tbody tr th:only-of-type {\n",
       "        vertical-align: middle;\n",
       "    }\n",
       "\n",
       "    .dataframe tbody tr th {\n",
       "        vertical-align: top;\n",
       "    }\n",
       "\n",
       "    .dataframe thead th {\n",
       "        text-align: right;\n",
       "    }\n",
       "</style>\n",
       "<table border=\"1\" class=\"dataframe\">\n",
       "  <thead>\n",
       "    <tr style=\"text-align: right;\">\n",
       "      <th></th>\n",
       "      <th>refund</th>\n",
       "      <th>marital_status</th>\n",
       "      <th>income_above_80k</th>\n",
       "      <th>cheat</th>\n",
       "    </tr>\n",
       "  </thead>\n",
       "  <tbody>\n",
       "    <tr>\n",
       "      <th>0</th>\n",
       "      <td>yes</td>\n",
       "      <td>single</td>\n",
       "      <td>yes</td>\n",
       "      <td>no</td>\n",
       "    </tr>\n",
       "    <tr>\n",
       "      <th>1</th>\n",
       "      <td>no</td>\n",
       "      <td>married</td>\n",
       "      <td>yes</td>\n",
       "      <td>no</td>\n",
       "    </tr>\n",
       "    <tr>\n",
       "      <th>2</th>\n",
       "      <td>no</td>\n",
       "      <td>single</td>\n",
       "      <td>no</td>\n",
       "      <td>no</td>\n",
       "    </tr>\n",
       "    <tr>\n",
       "      <th>3</th>\n",
       "      <td>yes</td>\n",
       "      <td>married</td>\n",
       "      <td>yes</td>\n",
       "      <td>no</td>\n",
       "    </tr>\n",
       "    <tr>\n",
       "      <th>4</th>\n",
       "      <td>no</td>\n",
       "      <td>divorced</td>\n",
       "      <td>yes</td>\n",
       "      <td>yes</td>\n",
       "    </tr>\n",
       "    <tr>\n",
       "      <th>5</th>\n",
       "      <td>no</td>\n",
       "      <td>married</td>\n",
       "      <td>no</td>\n",
       "      <td>no</td>\n",
       "    </tr>\n",
       "    <tr>\n",
       "      <th>6</th>\n",
       "      <td>yes</td>\n",
       "      <td>divorced</td>\n",
       "      <td>yes</td>\n",
       "      <td>no</td>\n",
       "    </tr>\n",
       "    <tr>\n",
       "      <th>7</th>\n",
       "      <td>no</td>\n",
       "      <td>single</td>\n",
       "      <td>yes</td>\n",
       "      <td>yes</td>\n",
       "    </tr>\n",
       "    <tr>\n",
       "      <th>8</th>\n",
       "      <td>no</td>\n",
       "      <td>married</td>\n",
       "      <td>no</td>\n",
       "      <td>no</td>\n",
       "    </tr>\n",
       "    <tr>\n",
       "      <th>9</th>\n",
       "      <td>no</td>\n",
       "      <td>single</td>\n",
       "      <td>yes</td>\n",
       "      <td>yes</td>\n",
       "    </tr>\n",
       "  </tbody>\n",
       "</table>\n",
       "</div>"
      ],
      "text/plain": [
       "  refund marital_status income_above_80k cheat\n",
       "0    yes         single              yes    no\n",
       "1     no        married              yes    no\n",
       "2     no         single               no    no\n",
       "3    yes        married              yes    no\n",
       "4     no       divorced              yes   yes\n",
       "5     no        married               no    no\n",
       "6    yes       divorced              yes    no\n",
       "7     no         single              yes   yes\n",
       "8     no        married               no    no\n",
       "9     no         single              yes   yes"
      ]
     },
     "execution_count": 13,
     "metadata": {},
     "output_type": "execute_result"
    }
   ],
   "source": [
    "data = data.drop(columns = ['predicted_cheat'])\n",
    "\n",
    "data"
   ]
  },
  {
   "cell_type": "code",
   "execution_count": 14,
   "id": "89ab7eb6",
   "metadata": {},
   "outputs": [
    {
     "data": {
      "text/html": [
       "<div>\n",
       "<style scoped>\n",
       "    .dataframe tbody tr th:only-of-type {\n",
       "        vertical-align: middle;\n",
       "    }\n",
       "\n",
       "    .dataframe tbody tr th {\n",
       "        vertical-align: top;\n",
       "    }\n",
       "\n",
       "    .dataframe thead th {\n",
       "        text-align: right;\n",
       "    }\n",
       "</style>\n",
       "<table border=\"1\" class=\"dataframe\">\n",
       "  <thead>\n",
       "    <tr style=\"text-align: right;\">\n",
       "      <th></th>\n",
       "      <th>refund</th>\n",
       "      <th>marital_status</th>\n",
       "      <th>income_above_80k</th>\n",
       "      <th>cheat</th>\n",
       "    </tr>\n",
       "  </thead>\n",
       "  <tbody>\n",
       "    <tr>\n",
       "      <th>0</th>\n",
       "      <td>no</td>\n",
       "      <td>single</td>\n",
       "      <td>yes</td>\n",
       "      <td>no</td>\n",
       "    </tr>\n",
       "    <tr>\n",
       "      <th>1</th>\n",
       "      <td>no</td>\n",
       "      <td>single</td>\n",
       "      <td>yes</td>\n",
       "      <td>no</td>\n",
       "    </tr>\n",
       "    <tr>\n",
       "      <th>2</th>\n",
       "      <td>no</td>\n",
       "      <td>married</td>\n",
       "      <td>yes</td>\n",
       "      <td>no</td>\n",
       "    </tr>\n",
       "    <tr>\n",
       "      <th>3</th>\n",
       "      <td>no</td>\n",
       "      <td>divorced</td>\n",
       "      <td>no</td>\n",
       "      <td>no</td>\n",
       "    </tr>\n",
       "    <tr>\n",
       "      <th>4</th>\n",
       "      <td>no</td>\n",
       "      <td>married</td>\n",
       "      <td>yes</td>\n",
       "      <td>no</td>\n",
       "    </tr>\n",
       "    <tr>\n",
       "      <th>5</th>\n",
       "      <td>no</td>\n",
       "      <td>single</td>\n",
       "      <td>yes</td>\n",
       "      <td>no</td>\n",
       "    </tr>\n",
       "    <tr>\n",
       "      <th>6</th>\n",
       "      <td>yes</td>\n",
       "      <td>single</td>\n",
       "      <td>yes</td>\n",
       "      <td>no</td>\n",
       "    </tr>\n",
       "    <tr>\n",
       "      <th>7</th>\n",
       "      <td>no</td>\n",
       "      <td>single</td>\n",
       "      <td>yes</td>\n",
       "      <td>yes</td>\n",
       "    </tr>\n",
       "    <tr>\n",
       "      <th>8</th>\n",
       "      <td>yes</td>\n",
       "      <td>married</td>\n",
       "      <td>yes</td>\n",
       "      <td>yes</td>\n",
       "    </tr>\n",
       "    <tr>\n",
       "      <th>9</th>\n",
       "      <td>yes</td>\n",
       "      <td>single</td>\n",
       "      <td>no</td>\n",
       "      <td>yes</td>\n",
       "    </tr>\n",
       "  </tbody>\n",
       "</table>\n",
       "</div>"
      ],
      "text/plain": [
       "  refund marital_status income_above_80k cheat\n",
       "0     no         single              yes    no\n",
       "1     no         single              yes    no\n",
       "2     no        married              yes    no\n",
       "3     no       divorced               no    no\n",
       "4     no        married              yes    no\n",
       "5     no         single              yes    no\n",
       "6    yes         single              yes    no\n",
       "7     no         single              yes   yes\n",
       "8    yes        married              yes   yes\n",
       "9    yes         single               no   yes"
      ]
     },
     "execution_count": 14,
     "metadata": {},
     "output_type": "execute_result"
    }
   ],
   "source": [
    "data2 = data2.drop(columns = ['predicted_cheat'])\n",
    "\n",
    "data2"
   ]
  },
  {
   "cell_type": "markdown",
   "id": "88030e8f",
   "metadata": {},
   "source": [
    "## Question 2a"
   ]
  },
  {
   "cell_type": "markdown",
   "id": "8f4697c1",
   "metadata": {},
   "source": [
    "Given the training dataset in question 1, write a function that computes the entropy of output variable. The function should take the entire training dataset, and the name of the output variable as arguments and return the entropy value. You can call the function, entropy. \n",
    "\n",
    "Apply the entropy function to the training dataset to compute the entropy. Do you think the data is more pure, less pure or more/less pure?"
   ]
  },
  {
   "cell_type": "code",
   "execution_count": 15,
   "id": "cdeeee34",
   "metadata": {},
   "outputs": [
    {
     "data": {
      "text/plain": [
       "0.8812908992306927"
      ]
     },
     "execution_count": 15,
     "metadata": {},
     "output_type": "execute_result"
    }
   ],
   "source": [
    "def entropy(dataset, output_variable):\n",
    "    p = output_variable.value_counts()['yes']/dataset.shape[0]                \n",
    "    return -p * log2(p) - (1-p) * log2(1-p)\n",
    "\n",
    "entropy(data, data['cheat'])"
   ]
  },
  {
   "cell_type": "markdown",
   "id": "10f37aa4",
   "metadata": {},
   "source": [
    "The data is showing a high level of disorder, meaning low level of purity."
   ]
  },
  {
   "cell_type": "markdown",
   "id": "8fa69247",
   "metadata": {},
   "source": [
    "## Question 2b"
   ]
  },
  {
   "cell_type": "markdown",
   "id": "1bfab42d",
   "metadata": {},
   "source": [
    "Create another function that takes the dataset, the name of the output variable, and a specific input variable as arguments and returns the information gain for a split of the data on that specific input variable. You can call the function, information_gain. Apply the information_gain function to each input variable to compute the information gain for each input variable. Which input variables is the best (has the highest information gain) for creating one-rule? "
   ]
  },
  {
   "cell_type": "code",
   "execution_count": 16,
   "id": "a4510394",
   "metadata": {},
   "outputs": [
    {
     "ename": "ValueError",
     "evalue": "math domain error",
     "output_type": "error",
     "traceback": [
      "\u001b[0;31m---------------------------------------------------------------------------\u001b[0m",
      "\u001b[0;31mValueError\u001b[0m                                Traceback (most recent call last)",
      "Input \u001b[0;32mIn [16]\u001b[0m, in \u001b[0;36m<cell line: 28>\u001b[0;34m()\u001b[0m\n\u001b[1;32m     25\u001b[0m     gain \u001b[38;5;241m=\u001b[39m entropy_targ \u001b[38;5;241m-\u001b[39m ((p_input_yes \u001b[38;5;241m*\u001b[39m entropy_inp_yes) \u001b[38;5;241m+\u001b[39m (p_input_no \u001b[38;5;241m*\u001b[39m entropy_inp_yes))\n\u001b[1;32m     26\u001b[0m     \u001b[38;5;28mprint\u001b[39m(gain)\n\u001b[0;32m---> 28\u001b[0m \u001b[43minformation_gain\u001b[49m\u001b[43m(\u001b[49m\u001b[43mdata\u001b[49m\u001b[43m,\u001b[49m\u001b[43m \u001b[49m\u001b[43mdata\u001b[49m\u001b[43m[\u001b[49m\u001b[38;5;124;43m'\u001b[39;49m\u001b[38;5;124;43mcheat\u001b[39;49m\u001b[38;5;124;43m'\u001b[39;49m\u001b[43m]\u001b[49m\u001b[43m,\u001b[49m\u001b[43m \u001b[49m\u001b[43mdata\u001b[49m\u001b[43m[\u001b[49m\u001b[38;5;124;43m'\u001b[39;49m\u001b[38;5;124;43mrefund\u001b[39;49m\u001b[38;5;124;43m'\u001b[39;49m\u001b[43m]\u001b[49m\u001b[43m)\u001b[49m\n",
      "Input \u001b[0;32mIn [16]\u001b[0m, in \u001b[0;36minformation_gain\u001b[0;34m(dataset, output, input)\u001b[0m\n\u001b[1;32m     17\u001b[0m p_input_no \u001b[38;5;241m=\u001b[39m \u001b[38;5;28minput\u001b[39m\u001b[38;5;241m.\u001b[39mvalue_counts()[\u001b[38;5;124m'\u001b[39m\u001b[38;5;124mno\u001b[39m\u001b[38;5;124m'\u001b[39m]\u001b[38;5;241m/\u001b[39mdataset\u001b[38;5;241m.\u001b[39mshape[\u001b[38;5;241m0\u001b[39m]\n\u001b[1;32m     19\u001b[0m entropy_targ \u001b[38;5;241m=\u001b[39m \u001b[38;5;241m-\u001b[39mp_output \u001b[38;5;241m*\u001b[39m log2(p_output) \u001b[38;5;241m-\u001b[39m (\u001b[38;5;241m1\u001b[39m\u001b[38;5;241m-\u001b[39mp_output) \u001b[38;5;241m*\u001b[39m log2(\u001b[38;5;241m1\u001b[39m\u001b[38;5;241m-\u001b[39mp_output)\n\u001b[0;32m---> 21\u001b[0m entropy_inp_yes \u001b[38;5;241m=\u001b[39m \u001b[38;5;241m-\u001b[39mp_input_yes_output_yes \u001b[38;5;241m*\u001b[39m \u001b[43mlog2\u001b[49m\u001b[43m(\u001b[49m\u001b[43mp_input_yes_output_yes\u001b[49m\u001b[43m)\u001b[49m \u001b[38;5;241m-\u001b[39m p_input_yes_output_no \u001b[38;5;241m*\u001b[39m log2(p_input_yes_output_no)\n\u001b[1;32m     23\u001b[0m entropy_inp_no \u001b[38;5;241m=\u001b[39m \u001b[38;5;241m-\u001b[39mp_input_no_output_yes \u001b[38;5;241m*\u001b[39m log2(p_input_no_output_yes) \u001b[38;5;241m-\u001b[39m p_input_no_output_no \u001b[38;5;241m*\u001b[39m log2(p_input_no_output_no)\n\u001b[1;32m     25\u001b[0m gain \u001b[38;5;241m=\u001b[39m entropy_targ \u001b[38;5;241m-\u001b[39m ((p_input_yes \u001b[38;5;241m*\u001b[39m entropy_inp_yes) \u001b[38;5;241m+\u001b[39m (p_input_no \u001b[38;5;241m*\u001b[39m entropy_inp_yes))\n",
      "\u001b[0;31mValueError\u001b[0m: math domain error"
     ]
    }
   ],
   "source": [
    "def information_gain(dataset, output, input):\n",
    "    p_output = output.value_counts()['yes']/dataset.shape[0]\n",
    "    p_input_yes_output_yes = (sum((input == 'yes') & (output == 'yes')))/(sum((input == 'yes') & (output == 'yes')) \n",
    "                                                                          + sum((input == 'yes') & (output == 'no')))\n",
    "    \n",
    "    p_input_yes_output_no = (sum((input == 'yes') & (output == 'no')))/(sum((input == 'yes') & (output == 'yes')) \n",
    "                                                                         + sum((input == 'yes') & (output == 'no')))\n",
    "    \n",
    "    p_input_no_output_yes = (sum((input == 'no') & (output == 'yes')))/(sum((input == 'no') & (output == 'yes')) \n",
    "                                                                          + sum((input == 'no') & (output == 'no')))\n",
    "    \n",
    "    p_input_no_output_no = (sum((input == 'no') & (output == 'no')))/(sum((input == 'no') & (output == 'yes')) \n",
    "                                                                          + sum((input == 'no') & (output == 'no')))\n",
    "\n",
    "    p_input_yes = input.value_counts()['yes']/dataset.shape[0]\n",
    "    \n",
    "    p_input_no = input.value_counts()['no']/dataset.shape[0]\n",
    "    \n",
    "    entropy_targ = -p_output * log2(p_output) - (1-p_output) * log2(1-p_output)\n",
    "\n",
    "    entropy_inp_yes = -p_input_yes_output_yes * log2(p_input_yes_output_yes) - p_input_yes_output_no * log2(p_input_yes_output_no)\n",
    "\n",
    "    entropy_inp_no = -p_input_no_output_yes * log2(p_input_no_output_yes) - p_input_no_output_no * log2(p_input_no_output_no)\n",
    "    \n",
    "    gain = entropy_targ - ((p_input_yes * entropy_inp_yes) + (p_input_no * entropy_inp_yes))\n",
    "    print(gain)\n",
    "    \n",
    "information_gain(data, data['cheat'], data['refund'])\n"
   ]
  },
  {
   "cell_type": "markdown",
   "id": "d62e5f25",
   "metadata": {},
   "source": [
    "Calculated by hand:\n",
    "refund = 0.192\n",
    "marital_status = 0.281 \n",
    "income_above_80k = 0.192"
   ]
  },
  {
   "cell_type": "markdown",
   "id": "31e0456f",
   "metadata": {},
   "source": [
    "## Question 2c"
   ]
  },
  {
   "cell_type": "markdown",
   "id": "0bb25c8c",
   "metadata": {},
   "source": [
    "Do a cross tabulation using the best attribute obtained in 2b above and the output variable in the training dataset. "
   ]
  },
  {
   "cell_type": "code",
   "execution_count": 17,
   "id": "2fb41ea4",
   "metadata": {},
   "outputs": [
    {
     "data": {
      "text/html": [
       "<div>\n",
       "<style scoped>\n",
       "    .dataframe tbody tr th:only-of-type {\n",
       "        vertical-align: middle;\n",
       "    }\n",
       "\n",
       "    .dataframe tbody tr th {\n",
       "        vertical-align: top;\n",
       "    }\n",
       "\n",
       "    .dataframe thead th {\n",
       "        text-align: right;\n",
       "    }\n",
       "</style>\n",
       "<table border=\"1\" class=\"dataframe\">\n",
       "  <thead>\n",
       "    <tr style=\"text-align: right;\">\n",
       "      <th>marital_status</th>\n",
       "      <th>divorced</th>\n",
       "      <th>married</th>\n",
       "      <th>single</th>\n",
       "    </tr>\n",
       "    <tr>\n",
       "      <th>cheat</th>\n",
       "      <th></th>\n",
       "      <th></th>\n",
       "      <th></th>\n",
       "    </tr>\n",
       "  </thead>\n",
       "  <tbody>\n",
       "    <tr>\n",
       "      <th>no</th>\n",
       "      <td>1</td>\n",
       "      <td>4</td>\n",
       "      <td>2</td>\n",
       "    </tr>\n",
       "    <tr>\n",
       "      <th>yes</th>\n",
       "      <td>1</td>\n",
       "      <td>0</td>\n",
       "      <td>2</td>\n",
       "    </tr>\n",
       "  </tbody>\n",
       "</table>\n",
       "</div>"
      ],
      "text/plain": [
       "marital_status  divorced  married  single\n",
       "cheat                                    \n",
       "no                     1        4       2\n",
       "yes                    1        0       2"
      ]
     },
     "execution_count": 17,
     "metadata": {},
     "output_type": "execute_result"
    }
   ],
   "source": [
    "conf_matrix = pd.crosstab(data['cheat'], data['marital_status'])\n",
    "conf_matrix"
   ]
  },
  {
   "cell_type": "markdown",
   "id": "7e7791c0",
   "metadata": {},
   "source": [
    "## Question 2d"
   ]
  },
  {
   "cell_type": "markdown",
   "id": "e0147094",
   "metadata": {},
   "source": [
    "Draw a decision tree (use shapes in the word document) to show how the best variable can be used for classification. This is a decision tree with a single node or single variable. "
   ]
  },
  {
   "cell_type": "markdown",
   "id": "f07f4e6c",
   "metadata": {},
   "source": [
    "See word document"
   ]
  },
  {
   "cell_type": "markdown",
   "id": "f8f1fd67",
   "metadata": {},
   "source": [
    "## Question 2e"
   ]
  },
  {
   "cell_type": "markdown",
   "id": "25b43ea8",
   "metadata": {},
   "source": [
    "Create a one-rule from the decision tree in 2d. The rule should containing an antecedent and a consequent. The antecedent should use only the best attribute and it’s value or values. "
   ]
  },
  {
   "cell_type": "markdown",
   "id": "4b4ea019",
   "metadata": {},
   "source": [
    " if marital_status = divorced or single, predict yes"
   ]
  },
  {
   "cell_type": "markdown",
   "id": "33695061",
   "metadata": {},
   "source": [
    "## Question 2f"
   ]
  },
  {
   "cell_type": "markdown",
   "id": "884032ad",
   "metadata": {},
   "source": [
    "Using the antecedent of your rule, extract the data covered by the rule and compute the coverage of the rule. "
   ]
  },
  {
   "cell_type": "code",
   "execution_count": 18,
   "id": "02187230",
   "metadata": {},
   "outputs": [
    {
     "data": {
      "text/plain": [
       "60.0"
      ]
     },
     "execution_count": 18,
     "metadata": {},
     "output_type": "execute_result"
    }
   ],
   "source": [
    "coverage = ((data['marital_status'].value_counts()['divorced'] + data['marital_status'].value_counts()['single'])/\n",
    "            data.shape[0])*100\n",
    "\n",
    "coverage"
   ]
  },
  {
   "cell_type": "markdown",
   "id": "52d03e1e",
   "metadata": {},
   "source": [
    "## Question 2g"
   ]
  },
  {
   "cell_type": "markdown",
   "id": "b03033c2",
   "metadata": {},
   "source": [
    "Using the antecedent and precedent of your rule, extract the data covered by the rule and compute the accuracy of the rule. "
   ]
  },
  {
   "cell_type": "code",
   "execution_count": 27,
   "id": "f62c04f9",
   "metadata": {},
   "outputs": [
    {
     "name": "stdout",
     "output_type": "stream",
     "text": [
      "30.0\n"
     ]
    }
   ],
   "source": [
    "divorced = sum((data.marital_status == 'divorced') & (data.cheat == 'yes'))\n",
    "single = sum((data.marital_status == 'single') & (data.cheat == 'yes'))\n",
    "\n",
    "accuracy = ((divorced + single)/data.shape[0])*100\n",
    "print(accuracy)"
   ]
  },
  {
   "cell_type": "markdown",
   "id": "9766b95b",
   "metadata": {},
   "source": [
    "## Question 2h"
   ]
  },
  {
   "cell_type": "markdown",
   "id": "7a79ec56",
   "metadata": {},
   "source": [
    "Create a function that implents the rule as an if-else statement to predict the outcomes of any instance (a vector of values associated with the input variables for a specific individual). The function should be able to take one or more instances as an argument in the form of a dataframe or numpy arrary. "
   ]
  },
  {
   "cell_type": "code",
   "execution_count": 19,
   "id": "e57b7623",
   "metadata": {},
   "outputs": [
    {
     "name": "stdout",
     "output_type": "stream",
     "text": [
      "[1 0 1 0 1 0 1 1 0 1]\n"
     ]
    }
   ],
   "source": [
    "def vectorized_predict(row):\n",
    "    vector = np.where((row['marital_status'] == 'divorced') | (row['marital_status'] == 'single'), 1, 0)\n",
    "    return vector\n",
    "\n",
    "\n",
    "print(vectorized_predict(data))"
   ]
  },
  {
   "cell_type": "markdown",
   "id": "8b0d6278",
   "metadata": {},
   "source": [
    "## Question 2i"
   ]
  },
  {
   "cell_type": "markdown",
   "id": "235d9ce3",
   "metadata": {},
   "source": [
    "Implemement the function on the training set and test set in question 1 to get the predicted outputs for the training set and test set.  "
   ]
  },
  {
   "cell_type": "code",
   "execution_count": 20,
   "id": "f689d38f",
   "metadata": {},
   "outputs": [
    {
     "data": {
      "text/html": [
       "<div>\n",
       "<style scoped>\n",
       "    .dataframe tbody tr th:only-of-type {\n",
       "        vertical-align: middle;\n",
       "    }\n",
       "\n",
       "    .dataframe tbody tr th {\n",
       "        vertical-align: top;\n",
       "    }\n",
       "\n",
       "    .dataframe thead th {\n",
       "        text-align: right;\n",
       "    }\n",
       "</style>\n",
       "<table border=\"1\" class=\"dataframe\">\n",
       "  <thead>\n",
       "    <tr style=\"text-align: right;\">\n",
       "      <th></th>\n",
       "      <th>refund</th>\n",
       "      <th>marital_status</th>\n",
       "      <th>income_above_80k</th>\n",
       "      <th>cheat</th>\n",
       "      <th>predicted_cheat</th>\n",
       "    </tr>\n",
       "  </thead>\n",
       "  <tbody>\n",
       "    <tr>\n",
       "      <th>0</th>\n",
       "      <td>yes</td>\n",
       "      <td>single</td>\n",
       "      <td>yes</td>\n",
       "      <td>no</td>\n",
       "      <td>1</td>\n",
       "    </tr>\n",
       "    <tr>\n",
       "      <th>1</th>\n",
       "      <td>no</td>\n",
       "      <td>married</td>\n",
       "      <td>yes</td>\n",
       "      <td>no</td>\n",
       "      <td>0</td>\n",
       "    </tr>\n",
       "    <tr>\n",
       "      <th>2</th>\n",
       "      <td>no</td>\n",
       "      <td>single</td>\n",
       "      <td>no</td>\n",
       "      <td>no</td>\n",
       "      <td>1</td>\n",
       "    </tr>\n",
       "    <tr>\n",
       "      <th>3</th>\n",
       "      <td>yes</td>\n",
       "      <td>married</td>\n",
       "      <td>yes</td>\n",
       "      <td>no</td>\n",
       "      <td>0</td>\n",
       "    </tr>\n",
       "    <tr>\n",
       "      <th>4</th>\n",
       "      <td>no</td>\n",
       "      <td>divorced</td>\n",
       "      <td>yes</td>\n",
       "      <td>yes</td>\n",
       "      <td>1</td>\n",
       "    </tr>\n",
       "    <tr>\n",
       "      <th>5</th>\n",
       "      <td>no</td>\n",
       "      <td>married</td>\n",
       "      <td>no</td>\n",
       "      <td>no</td>\n",
       "      <td>0</td>\n",
       "    </tr>\n",
       "    <tr>\n",
       "      <th>6</th>\n",
       "      <td>yes</td>\n",
       "      <td>divorced</td>\n",
       "      <td>yes</td>\n",
       "      <td>no</td>\n",
       "      <td>1</td>\n",
       "    </tr>\n",
       "    <tr>\n",
       "      <th>7</th>\n",
       "      <td>no</td>\n",
       "      <td>single</td>\n",
       "      <td>yes</td>\n",
       "      <td>yes</td>\n",
       "      <td>1</td>\n",
       "    </tr>\n",
       "    <tr>\n",
       "      <th>8</th>\n",
       "      <td>no</td>\n",
       "      <td>married</td>\n",
       "      <td>no</td>\n",
       "      <td>no</td>\n",
       "      <td>0</td>\n",
       "    </tr>\n",
       "    <tr>\n",
       "      <th>9</th>\n",
       "      <td>no</td>\n",
       "      <td>single</td>\n",
       "      <td>yes</td>\n",
       "      <td>yes</td>\n",
       "      <td>1</td>\n",
       "    </tr>\n",
       "  </tbody>\n",
       "</table>\n",
       "</div>"
      ],
      "text/plain": [
       "  refund marital_status income_above_80k cheat  predicted_cheat\n",
       "0    yes         single              yes    no                1\n",
       "1     no        married              yes    no                0\n",
       "2     no         single               no    no                1\n",
       "3    yes        married              yes    no                0\n",
       "4     no       divorced              yes   yes                1\n",
       "5     no        married               no    no                0\n",
       "6    yes       divorced              yes    no                1\n",
       "7     no         single              yes   yes                1\n",
       "8     no        married               no    no                0\n",
       "9     no         single              yes   yes                1"
      ]
     },
     "execution_count": 20,
     "metadata": {},
     "output_type": "execute_result"
    }
   ],
   "source": [
    "data['predicted_cheat'] = vectorized_predict(data)\n",
    "\n",
    "data"
   ]
  },
  {
   "cell_type": "code",
   "execution_count": 21,
   "id": "ccc6f45d",
   "metadata": {},
   "outputs": [
    {
     "data": {
      "text/html": [
       "<div>\n",
       "<style scoped>\n",
       "    .dataframe tbody tr th:only-of-type {\n",
       "        vertical-align: middle;\n",
       "    }\n",
       "\n",
       "    .dataframe tbody tr th {\n",
       "        vertical-align: top;\n",
       "    }\n",
       "\n",
       "    .dataframe thead th {\n",
       "        text-align: right;\n",
       "    }\n",
       "</style>\n",
       "<table border=\"1\" class=\"dataframe\">\n",
       "  <thead>\n",
       "    <tr style=\"text-align: right;\">\n",
       "      <th></th>\n",
       "      <th>refund</th>\n",
       "      <th>marital_status</th>\n",
       "      <th>income_above_80k</th>\n",
       "      <th>cheat</th>\n",
       "      <th>predicted_cheat</th>\n",
       "    </tr>\n",
       "  </thead>\n",
       "  <tbody>\n",
       "    <tr>\n",
       "      <th>0</th>\n",
       "      <td>no</td>\n",
       "      <td>single</td>\n",
       "      <td>yes</td>\n",
       "      <td>no</td>\n",
       "      <td>1</td>\n",
       "    </tr>\n",
       "    <tr>\n",
       "      <th>1</th>\n",
       "      <td>no</td>\n",
       "      <td>single</td>\n",
       "      <td>yes</td>\n",
       "      <td>no</td>\n",
       "      <td>1</td>\n",
       "    </tr>\n",
       "    <tr>\n",
       "      <th>2</th>\n",
       "      <td>no</td>\n",
       "      <td>married</td>\n",
       "      <td>yes</td>\n",
       "      <td>no</td>\n",
       "      <td>0</td>\n",
       "    </tr>\n",
       "    <tr>\n",
       "      <th>3</th>\n",
       "      <td>no</td>\n",
       "      <td>divorced</td>\n",
       "      <td>no</td>\n",
       "      <td>no</td>\n",
       "      <td>1</td>\n",
       "    </tr>\n",
       "    <tr>\n",
       "      <th>4</th>\n",
       "      <td>no</td>\n",
       "      <td>married</td>\n",
       "      <td>yes</td>\n",
       "      <td>no</td>\n",
       "      <td>0</td>\n",
       "    </tr>\n",
       "    <tr>\n",
       "      <th>5</th>\n",
       "      <td>no</td>\n",
       "      <td>single</td>\n",
       "      <td>yes</td>\n",
       "      <td>no</td>\n",
       "      <td>1</td>\n",
       "    </tr>\n",
       "    <tr>\n",
       "      <th>6</th>\n",
       "      <td>yes</td>\n",
       "      <td>single</td>\n",
       "      <td>yes</td>\n",
       "      <td>no</td>\n",
       "      <td>1</td>\n",
       "    </tr>\n",
       "    <tr>\n",
       "      <th>7</th>\n",
       "      <td>no</td>\n",
       "      <td>single</td>\n",
       "      <td>yes</td>\n",
       "      <td>yes</td>\n",
       "      <td>1</td>\n",
       "    </tr>\n",
       "    <tr>\n",
       "      <th>8</th>\n",
       "      <td>yes</td>\n",
       "      <td>married</td>\n",
       "      <td>yes</td>\n",
       "      <td>yes</td>\n",
       "      <td>0</td>\n",
       "    </tr>\n",
       "    <tr>\n",
       "      <th>9</th>\n",
       "      <td>yes</td>\n",
       "      <td>single</td>\n",
       "      <td>no</td>\n",
       "      <td>yes</td>\n",
       "      <td>1</td>\n",
       "    </tr>\n",
       "  </tbody>\n",
       "</table>\n",
       "</div>"
      ],
      "text/plain": [
       "  refund marital_status income_above_80k cheat  predicted_cheat\n",
       "0     no         single              yes    no                1\n",
       "1     no         single              yes    no                1\n",
       "2     no        married              yes    no                0\n",
       "3     no       divorced               no    no                1\n",
       "4     no        married              yes    no                0\n",
       "5     no         single              yes    no                1\n",
       "6    yes         single              yes    no                1\n",
       "7     no         single              yes   yes                1\n",
       "8    yes        married              yes   yes                0\n",
       "9    yes         single               no   yes                1"
      ]
     },
     "execution_count": 21,
     "metadata": {},
     "output_type": "execute_result"
    }
   ],
   "source": [
    "data2['predicted_cheat'] = vectorized_predict(data2)\n",
    "\n",
    "data2"
   ]
  },
  {
   "cell_type": "markdown",
   "id": "d06bd492",
   "metadata": {},
   "source": [
    "## Question 2j"
   ]
  },
  {
   "cell_type": "markdown",
   "id": "e98c4983",
   "metadata": {},
   "source": [
    "What is the overall prediction accuracies for the training set and test set? You can use the overall_accuracy function you initially defined. "
   ]
  },
  {
   "cell_type": "code",
   "execution_count": 22,
   "id": "db55479e",
   "metadata": {},
   "outputs": [
    {
     "name": "stdout",
     "output_type": "stream",
     "text": [
      "Overall Accuracy for training: 70.0\n"
     ]
    }
   ],
   "source": [
    "print('Overall Accuracy for training: ' + str(overall_accuracy(data['cheat'], data['predicted_cheat'])))"
   ]
  },
  {
   "cell_type": "code",
   "execution_count": 23,
   "id": "1ffe0ef1",
   "metadata": {},
   "outputs": [
    {
     "name": "stdout",
     "output_type": "stream",
     "text": [
      "Overall Accuracy for test: 40.0\n"
     ]
    }
   ],
   "source": [
    "print('Overall Accuracy for test: ' + str(overall_accuracy(data2['cheat'], data2['predicted_cheat'])))"
   ]
  },
  {
   "cell_type": "markdown",
   "id": "b8d6b211",
   "metadata": {},
   "source": [
    "## Question 2k"
   ]
  },
  {
   "cell_type": "markdown",
   "id": "143d716c",
   "metadata": {},
   "source": [
    "Do you think there is overfitting or underfitting? Why or why not? "
   ]
  },
  {
   "cell_type": "markdown",
   "id": "337225b1",
   "metadata": {},
   "source": [
    "Still overfitting potentially as the accuracy of the training is much higher than that of the test set."
   ]
  }
 ],
 "metadata": {
  "kernelspec": {
   "display_name": "Python 3 (ipykernel)",
   "language": "python",
   "name": "python3"
  },
  "language_info": {
   "codemirror_mode": {
    "name": "ipython",
    "version": 3
   },
   "file_extension": ".py",
   "mimetype": "text/x-python",
   "name": "python",
   "nbconvert_exporter": "python",
   "pygments_lexer": "ipython3",
   "version": "3.8.10"
  }
 },
 "nbformat": 4,
 "nbformat_minor": 5
}
