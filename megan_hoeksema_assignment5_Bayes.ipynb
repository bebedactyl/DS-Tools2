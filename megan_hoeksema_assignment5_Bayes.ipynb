{
 "cells": [
  {
   "cell_type": "markdown",
   "id": "a4101beb",
   "metadata": {},
   "source": [
    "## Megan Hoeksema\n",
    "\n",
    "## Assignment 5: Naive Bayes"
   ]
  },
  {
   "cell_type": "markdown",
   "id": "a0588500",
   "metadata": {},
   "source": [
    "#### Packages"
   ]
  },
  {
   "cell_type": "code",
   "execution_count": 3,
   "id": "650f4469",
   "metadata": {},
   "outputs": [],
   "source": [
    "%matplotlib inline\n",
    "import matplotlib.pyplot as plt\n",
    "import numpy as np\n",
    "import pandas as pd\n",
    "from nltk.corpus import stopwords\n",
    "import seaborn as sns\n",
    "from sklearn.feature_extraction.text import TfidfVectorizer\n",
    "from sklearn.metrics import accuracy_score\n",
    "from sklearn.model_selection import GridSearchCV, train_test_split, cross_val_score\n",
    "from sklearn.naive_bayes import CategoricalNB, GaussianNB, MultinomialNB\n",
    "from sklearn.pipeline import Pipeline\n",
    "from sklearn.preprocessing import StandardScaler, MinMaxScaler\n",
    "import string"
   ]
  },
  {
   "cell_type": "markdown",
   "id": "b2b9282b",
   "metadata": {},
   "source": [
    "### Question 1"
   ]
  },
  {
   "cell_type": "markdown",
   "id": "73a9d15d",
   "metadata": {},
   "source": [
    "#### 1A. Upload the income_evaluation_cat.csv provided on canvas.  The features in this data include workclass, education, race, and gender. The output variable is income and contains two categorical values (<=50k or >50k) indicating whether the income of an individual is less than/equal to 50,000 or greater than 50,000 respectively. Print the unique values of each variable in this data. "
   ]
  },
  {
   "cell_type": "code",
   "execution_count": 4,
   "id": "5b438844",
   "metadata": {},
   "outputs": [
    {
     "data": {
      "text/html": [
       "<div>\n",
       "<style scoped>\n",
       "    .dataframe tbody tr th:only-of-type {\n",
       "        vertical-align: middle;\n",
       "    }\n",
       "\n",
       "    .dataframe tbody tr th {\n",
       "        vertical-align: top;\n",
       "    }\n",
       "\n",
       "    .dataframe thead th {\n",
       "        text-align: right;\n",
       "    }\n",
       "</style>\n",
       "<table border=\"1\" class=\"dataframe\">\n",
       "  <thead>\n",
       "    <tr style=\"text-align: right;\">\n",
       "      <th></th>\n",
       "      <th>workclass</th>\n",
       "      <th>education</th>\n",
       "      <th>race</th>\n",
       "      <th>gender</th>\n",
       "      <th>income</th>\n",
       "    </tr>\n",
       "  </thead>\n",
       "  <tbody>\n",
       "    <tr>\n",
       "      <th>0</th>\n",
       "      <td>State-gov</td>\n",
       "      <td>Bachelors</td>\n",
       "      <td>White</td>\n",
       "      <td>Male</td>\n",
       "      <td>&lt;=50K</td>\n",
       "    </tr>\n",
       "    <tr>\n",
       "      <th>1</th>\n",
       "      <td>Self-emp-not-inc</td>\n",
       "      <td>Bachelors</td>\n",
       "      <td>White</td>\n",
       "      <td>Male</td>\n",
       "      <td>&lt;=50K</td>\n",
       "    </tr>\n",
       "    <tr>\n",
       "      <th>2</th>\n",
       "      <td>Private</td>\n",
       "      <td>HS-grad</td>\n",
       "      <td>White</td>\n",
       "      <td>Male</td>\n",
       "      <td>&lt;=50K</td>\n",
       "    </tr>\n",
       "    <tr>\n",
       "      <th>3</th>\n",
       "      <td>Private</td>\n",
       "      <td>11th</td>\n",
       "      <td>Black</td>\n",
       "      <td>Male</td>\n",
       "      <td>&lt;=50K</td>\n",
       "    </tr>\n",
       "    <tr>\n",
       "      <th>4</th>\n",
       "      <td>Private</td>\n",
       "      <td>Bachelors</td>\n",
       "      <td>Black</td>\n",
       "      <td>Female</td>\n",
       "      <td>&lt;=50K</td>\n",
       "    </tr>\n",
       "    <tr>\n",
       "      <th>...</th>\n",
       "      <td>...</td>\n",
       "      <td>...</td>\n",
       "      <td>...</td>\n",
       "      <td>...</td>\n",
       "      <td>...</td>\n",
       "    </tr>\n",
       "    <tr>\n",
       "      <th>32556</th>\n",
       "      <td>Private</td>\n",
       "      <td>Assoc-acdm</td>\n",
       "      <td>White</td>\n",
       "      <td>Female</td>\n",
       "      <td>&lt;=50K</td>\n",
       "    </tr>\n",
       "    <tr>\n",
       "      <th>32557</th>\n",
       "      <td>Private</td>\n",
       "      <td>HS-grad</td>\n",
       "      <td>White</td>\n",
       "      <td>Male</td>\n",
       "      <td>&gt;50K</td>\n",
       "    </tr>\n",
       "    <tr>\n",
       "      <th>32558</th>\n",
       "      <td>Private</td>\n",
       "      <td>HS-grad</td>\n",
       "      <td>White</td>\n",
       "      <td>Female</td>\n",
       "      <td>&lt;=50K</td>\n",
       "    </tr>\n",
       "    <tr>\n",
       "      <th>32559</th>\n",
       "      <td>Private</td>\n",
       "      <td>HS-grad</td>\n",
       "      <td>White</td>\n",
       "      <td>Male</td>\n",
       "      <td>&lt;=50K</td>\n",
       "    </tr>\n",
       "    <tr>\n",
       "      <th>32560</th>\n",
       "      <td>Self-emp-inc</td>\n",
       "      <td>HS-grad</td>\n",
       "      <td>White</td>\n",
       "      <td>Female</td>\n",
       "      <td>&gt;50K</td>\n",
       "    </tr>\n",
       "  </tbody>\n",
       "</table>\n",
       "<p>32561 rows × 5 columns</p>\n",
       "</div>"
      ],
      "text/plain": [
       "              workclass   education   race  gender income\n",
       "0             State-gov   Bachelors  White    Male  <=50K\n",
       "1      Self-emp-not-inc   Bachelors  White    Male  <=50K\n",
       "2               Private     HS-grad  White    Male  <=50K\n",
       "3               Private        11th  Black    Male  <=50K\n",
       "4               Private   Bachelors  Black  Female  <=50K\n",
       "...                 ...         ...    ...     ...    ...\n",
       "32556           Private  Assoc-acdm  White  Female  <=50K\n",
       "32557           Private     HS-grad  White    Male   >50K\n",
       "32558           Private     HS-grad  White  Female  <=50K\n",
       "32559           Private     HS-grad  White    Male  <=50K\n",
       "32560      Self-emp-inc     HS-grad  White  Female   >50K\n",
       "\n",
       "[32561 rows x 5 columns]"
      ]
     },
     "execution_count": 4,
     "metadata": {},
     "output_type": "execute_result"
    }
   ],
   "source": [
    "incomeCat = pd.read_csv('income_evaluation_cat.csv', skipinitialspace = True)\n",
    "incomeCat"
   ]
  },
  {
   "cell_type": "code",
   "execution_count": 5,
   "id": "f3f9a214",
   "metadata": {},
   "outputs": [
    {
     "name": "stdout",
     "output_type": "stream",
     "text": [
      "['State-gov' 'Self-emp-not-inc' 'Private' 'Federal-gov' 'Local-gov' '?'\n",
      " 'Self-emp-inc' 'Without-pay' 'Never-worked']\n",
      "['Bachelors' 'HS-grad' '11th' 'Masters' '9th' 'Some-college' 'Assoc-acdm'\n",
      " 'Assoc-voc' '7th-8th' 'Doctorate' 'Prof-school' '5th-6th' '10th'\n",
      " '1st-4th' 'Preschool' '12th']\n",
      "['White' 'Black' 'Asian-Pac-Islander' 'Amer-Indian-Eskimo' 'Other']\n",
      "['Male' 'Female']\n",
      "['<=50K' '>50K']\n"
     ]
    }
   ],
   "source": [
    "for col in incomeCat:\n",
    "  print(incomeCat[col].unique())"
   ]
  },
  {
   "cell_type": "markdown",
   "id": "b0b027b6",
   "metadata": {},
   "source": [
    "#### 1B. You will implement Naïve Bayes from scratch using Bayes’ rule. You can do your calculations in Python, but you would not use the sklearn package. Suppose that all the income_evaluation_cat.csv data you uploaded is the training data , classify a test instance, X = [“Private”, “Bachelors”, “White”, “Female”] into the class income<=50 or income>50k. Compute prior and posterior probabilities that are needed to classify the test instance. "
   ]
  },
  {
   "cell_type": "markdown",
   "id": "6df8ad9c",
   "metadata": {},
   "source": [
    "#### What are the prior probabilities, P(income<=50) and P(income>50k)?"
   ]
  },
  {
   "cell_type": "code",
   "execution_count": 6,
   "id": "184b1177",
   "metadata": {},
   "outputs": [
    {
     "name": "stdout",
     "output_type": "stream",
     "text": [
      "p(<=50K): 0.7591904425539756\n",
      "p(>50K): 0.2408095574460244\n"
     ]
    }
   ],
   "source": [
    "p_less_50 = (incomeCat['income'].value_counts()['<=50K'])/len(incomeCat)\n",
    "print('p(<=50K): ' + str(p_less_50))\n",
    "\n",
    "p_great_50 = (incomeCat['income'].value_counts()['>50K'])/len(incomeCat)\n",
    "print('p(>50K): ' + str(p_great_50))"
   ]
  },
  {
   "cell_type": "code",
   "execution_count": 7,
   "id": "4ab3b743",
   "metadata": {},
   "outputs": [
    {
     "data": {
      "text/plain": [
       "0.028193237308436474"
      ]
     },
     "execution_count": 7,
     "metadata": {},
     "output_type": "execute_result"
    }
   ],
   "source": [
    "p_x = (sum((incomeCat['workclass'] == 'Private') & (incomeCat['education'] == 'Bachelors') \n",
    "        & (incomeCat['race'] == 'White') & (incomeCat['gender'] == 'Female')))/len(incomeCat)\n",
    "p_x"
   ]
  },
  {
   "cell_type": "code",
   "execution_count": 8,
   "id": "5a64d244",
   "metadata": {},
   "outputs": [
    {
     "data": {
      "text/plain": [
       "0.7952069716775598"
      ]
     },
     "execution_count": 8,
     "metadata": {},
     "output_type": "execute_result"
    }
   ],
   "source": [
    "# (p(x|<=50k) = p(x and <=50k)/p(x)\n",
    "\n",
    "p_x_less = (sum((incomeCat['workclass'] == 'Private') & (incomeCat['education'] == 'Bachelors') \n",
    "        & (incomeCat['race'] == 'White') & (incomeCat['gender'] == 'Female') & (incomeCat['income'] == '<=50K')))/len(incomeCat)\n",
    "\n",
    "p_x_less_x = p_x_less/p_x\n",
    "\n",
    "p_x_less_x"
   ]
  },
  {
   "cell_type": "code",
   "execution_count": 9,
   "id": "41fdcdae",
   "metadata": {},
   "outputs": [
    {
     "data": {
      "text/plain": [
       "0.2047930283224401"
      ]
     },
     "execution_count": 9,
     "metadata": {},
     "output_type": "execute_result"
    }
   ],
   "source": [
    "# (p(x|>50k) = p(x and >50K)/p(x)\n",
    "\n",
    "p_x_great = (sum((incomeCat['workclass'] == 'Private') & (incomeCat['education'] == 'Bachelors') \n",
    "        & (incomeCat['race'] == 'White') & (incomeCat['gender'] == 'Female') & (incomeCat['income'] == '>50K')))/len(incomeCat)\n",
    "\n",
    "p_x_great_x = p_x_great/p_x\n",
    "\n",
    "p_x_great_x"
   ]
  },
  {
   "cell_type": "markdown",
   "id": "41caf099",
   "metadata": {},
   "source": [
    "#### What are the posterior probabilities, P(income<=50/X) and P(income>50k/X)?"
   ]
  },
  {
   "cell_type": "code",
   "execution_count": 10,
   "id": "aed896c7",
   "metadata": {},
   "outputs": [
    {
     "name": "stdout",
     "output_type": "stream",
     "text": [
      "P(<=50K|X): 0.03277651522814054\n",
      "P(>50K|X): 0.0103964666627771\n"
     ]
    }
   ],
   "source": [
    "# posterior = (likelihood * prior)/evidence\n",
    "\n",
    "# p(<=50K|x) = (p(x|<=50k) * p(<=50K)) / p(x)\n",
    "print('P(<=50K|X): ' + str((p_less_50 * p_x) / ((p_less_50 * p_x_less_x)+(p_great_50 * p_x_great_x))))\n",
    "      \n",
    "#p(>50k|x) = (p(x|>50k) * p(>50k)) / p(x)\n",
    "print('P(>50K|X): ' + str((p_great_50 * p_x) / ((p_less_50 * p_x_less_x)+(p_great_50 * p_x_great_x))))"
   ]
  },
  {
   "cell_type": "markdown",
   "id": "06aa2470",
   "metadata": {},
   "source": [
    "#### Based on your posterior probabilities, which class should the test instance be classified into? "
   ]
  },
  {
   "cell_type": "markdown",
   "id": "9a6d703c",
   "metadata": {},
   "source": [
    "The test instance would be classified into less than or equal to 50K"
   ]
  },
  {
   "cell_type": "markdown",
   "id": "3af94fbf",
   "metadata": {},
   "source": [
    "#### 1C. Preprocess or transform the features in the income_evaluation_cat.csv data using an appropriate scaler in sklearn. You don’t need to transform the output variable; it should still work fine in a text format. "
   ]
  },
  {
   "cell_type": "code",
   "execution_count": 11,
   "id": "438b35bd",
   "metadata": {},
   "outputs": [
    {
     "data": {
      "text/html": [
       "<div>\n",
       "<style scoped>\n",
       "    .dataframe tbody tr th:only-of-type {\n",
       "        vertical-align: middle;\n",
       "    }\n",
       "\n",
       "    .dataframe tbody tr th {\n",
       "        vertical-align: top;\n",
       "    }\n",
       "\n",
       "    .dataframe thead th {\n",
       "        text-align: right;\n",
       "    }\n",
       "</style>\n",
       "<table border=\"1\" class=\"dataframe\">\n",
       "  <thead>\n",
       "    <tr style=\"text-align: right;\">\n",
       "      <th></th>\n",
       "      <th>workclass</th>\n",
       "      <th>education</th>\n",
       "      <th>race</th>\n",
       "      <th>gender</th>\n",
       "      <th>income</th>\n",
       "    </tr>\n",
       "  </thead>\n",
       "  <tbody>\n",
       "    <tr>\n",
       "      <th>0</th>\n",
       "      <td>0</td>\n",
       "      <td>0</td>\n",
       "      <td>0</td>\n",
       "      <td>0</td>\n",
       "      <td>&lt;=50K</td>\n",
       "    </tr>\n",
       "    <tr>\n",
       "      <th>1</th>\n",
       "      <td>1</td>\n",
       "      <td>0</td>\n",
       "      <td>0</td>\n",
       "      <td>0</td>\n",
       "      <td>&lt;=50K</td>\n",
       "    </tr>\n",
       "    <tr>\n",
       "      <th>2</th>\n",
       "      <td>2</td>\n",
       "      <td>1</td>\n",
       "      <td>0</td>\n",
       "      <td>0</td>\n",
       "      <td>&lt;=50K</td>\n",
       "    </tr>\n",
       "    <tr>\n",
       "      <th>3</th>\n",
       "      <td>2</td>\n",
       "      <td>2</td>\n",
       "      <td>1</td>\n",
       "      <td>0</td>\n",
       "      <td>&lt;=50K</td>\n",
       "    </tr>\n",
       "    <tr>\n",
       "      <th>4</th>\n",
       "      <td>2</td>\n",
       "      <td>0</td>\n",
       "      <td>1</td>\n",
       "      <td>1</td>\n",
       "      <td>&lt;=50K</td>\n",
       "    </tr>\n",
       "    <tr>\n",
       "      <th>...</th>\n",
       "      <td>...</td>\n",
       "      <td>...</td>\n",
       "      <td>...</td>\n",
       "      <td>...</td>\n",
       "      <td>...</td>\n",
       "    </tr>\n",
       "    <tr>\n",
       "      <th>32556</th>\n",
       "      <td>2</td>\n",
       "      <td>6</td>\n",
       "      <td>0</td>\n",
       "      <td>1</td>\n",
       "      <td>&lt;=50K</td>\n",
       "    </tr>\n",
       "    <tr>\n",
       "      <th>32557</th>\n",
       "      <td>2</td>\n",
       "      <td>1</td>\n",
       "      <td>0</td>\n",
       "      <td>0</td>\n",
       "      <td>&gt;50K</td>\n",
       "    </tr>\n",
       "    <tr>\n",
       "      <th>32558</th>\n",
       "      <td>2</td>\n",
       "      <td>1</td>\n",
       "      <td>0</td>\n",
       "      <td>1</td>\n",
       "      <td>&lt;=50K</td>\n",
       "    </tr>\n",
       "    <tr>\n",
       "      <th>32559</th>\n",
       "      <td>2</td>\n",
       "      <td>1</td>\n",
       "      <td>0</td>\n",
       "      <td>0</td>\n",
       "      <td>&lt;=50K</td>\n",
       "    </tr>\n",
       "    <tr>\n",
       "      <th>32560</th>\n",
       "      <td>6</td>\n",
       "      <td>1</td>\n",
       "      <td>0</td>\n",
       "      <td>1</td>\n",
       "      <td>&gt;50K</td>\n",
       "    </tr>\n",
       "  </tbody>\n",
       "</table>\n",
       "<p>32561 rows × 5 columns</p>\n",
       "</div>"
      ],
      "text/plain": [
       "       workclass  education  race  gender income\n",
       "0              0          0     0       0  <=50K\n",
       "1              1          0     0       0  <=50K\n",
       "2              2          1     0       0  <=50K\n",
       "3              2          2     1       0  <=50K\n",
       "4              2          0     1       1  <=50K\n",
       "...          ...        ...   ...     ...    ...\n",
       "32556          2          6     0       1  <=50K\n",
       "32557          2          1     0       0   >50K\n",
       "32558          2          1     0       1  <=50K\n",
       "32559          2          1     0       0  <=50K\n",
       "32560          6          1     0       1   >50K\n",
       "\n",
       "[32561 rows x 5 columns]"
      ]
     },
     "execution_count": 11,
     "metadata": {},
     "output_type": "execute_result"
    }
   ],
   "source": [
    "incomeCat2 = incomeCat\n",
    "\n",
    "incomeCat2['workclass'].replace(['State-gov', 'Self-emp-not-inc', 'Private', 'Federal-gov', 'Local-gov', '?', \n",
    "                                 'Self-emp-inc', 'Without-pay', 'Never-worked'],[0, 1, 2, 3, 4, 5, 6, 7, 8], inplace = True)\n",
    "incomeCat2['education'].replace(['Bachelors', 'HS-grad', '11th', 'Masters', '9th', 'Some-college', 'Assoc-acdm', 'Assoc-voc', \n",
    "                                 '7th-8th', 'Doctorate', 'Prof-school', '5th-6th', '10th', '1st-4th', 'Preschool', '12th'], \n",
    "                                [0, 1, 2, 3, 4, 5, 6, 7, 8, 9, 10, 11, 12, 13, 14, 15], inplace = True)\n",
    "incomeCat2['race'].replace(['White', 'Black', 'Asian-Pac-Islander', 'Amer-Indian-Eskimo', 'Other'], [0, 1, 2, 3, 4], \n",
    "                           inplace = True)\n",
    "incomeCat2['gender'].replace(['Male', 'Female'], [0, 1], inplace = True)\n",
    "\n",
    "incomeCat2"
   ]
  },
  {
   "cell_type": "code",
   "execution_count": 12,
   "id": "1ca46773",
   "metadata": {},
   "outputs": [
    {
     "data": {
      "text/html": [
       "<div>\n",
       "<style scoped>\n",
       "    .dataframe tbody tr th:only-of-type {\n",
       "        vertical-align: middle;\n",
       "    }\n",
       "\n",
       "    .dataframe tbody tr th {\n",
       "        vertical-align: top;\n",
       "    }\n",
       "\n",
       "    .dataframe thead th {\n",
       "        text-align: right;\n",
       "    }\n",
       "</style>\n",
       "<table border=\"1\" class=\"dataframe\">\n",
       "  <thead>\n",
       "    <tr style=\"text-align: right;\">\n",
       "      <th></th>\n",
       "      <th>workclass</th>\n",
       "      <th>education</th>\n",
       "      <th>race</th>\n",
       "      <th>gender</th>\n",
       "      <th>income</th>\n",
       "    </tr>\n",
       "  </thead>\n",
       "  <tbody>\n",
       "    <tr>\n",
       "      <th>0</th>\n",
       "      <td>0.000</td>\n",
       "      <td>0.000000</td>\n",
       "      <td>0.00</td>\n",
       "      <td>0.0</td>\n",
       "      <td>&lt;=50K</td>\n",
       "    </tr>\n",
       "    <tr>\n",
       "      <th>1</th>\n",
       "      <td>0.125</td>\n",
       "      <td>0.000000</td>\n",
       "      <td>0.00</td>\n",
       "      <td>0.0</td>\n",
       "      <td>&lt;=50K</td>\n",
       "    </tr>\n",
       "    <tr>\n",
       "      <th>2</th>\n",
       "      <td>0.250</td>\n",
       "      <td>0.066667</td>\n",
       "      <td>0.00</td>\n",
       "      <td>0.0</td>\n",
       "      <td>&lt;=50K</td>\n",
       "    </tr>\n",
       "    <tr>\n",
       "      <th>3</th>\n",
       "      <td>0.250</td>\n",
       "      <td>0.133333</td>\n",
       "      <td>0.25</td>\n",
       "      <td>0.0</td>\n",
       "      <td>&lt;=50K</td>\n",
       "    </tr>\n",
       "    <tr>\n",
       "      <th>4</th>\n",
       "      <td>0.250</td>\n",
       "      <td>0.000000</td>\n",
       "      <td>0.25</td>\n",
       "      <td>1.0</td>\n",
       "      <td>&lt;=50K</td>\n",
       "    </tr>\n",
       "    <tr>\n",
       "      <th>...</th>\n",
       "      <td>...</td>\n",
       "      <td>...</td>\n",
       "      <td>...</td>\n",
       "      <td>...</td>\n",
       "      <td>...</td>\n",
       "    </tr>\n",
       "    <tr>\n",
       "      <th>32556</th>\n",
       "      <td>0.250</td>\n",
       "      <td>0.400000</td>\n",
       "      <td>0.00</td>\n",
       "      <td>1.0</td>\n",
       "      <td>&lt;=50K</td>\n",
       "    </tr>\n",
       "    <tr>\n",
       "      <th>32557</th>\n",
       "      <td>0.250</td>\n",
       "      <td>0.066667</td>\n",
       "      <td>0.00</td>\n",
       "      <td>0.0</td>\n",
       "      <td>&gt;50K</td>\n",
       "    </tr>\n",
       "    <tr>\n",
       "      <th>32558</th>\n",
       "      <td>0.250</td>\n",
       "      <td>0.066667</td>\n",
       "      <td>0.00</td>\n",
       "      <td>1.0</td>\n",
       "      <td>&lt;=50K</td>\n",
       "    </tr>\n",
       "    <tr>\n",
       "      <th>32559</th>\n",
       "      <td>0.250</td>\n",
       "      <td>0.066667</td>\n",
       "      <td>0.00</td>\n",
       "      <td>0.0</td>\n",
       "      <td>&lt;=50K</td>\n",
       "    </tr>\n",
       "    <tr>\n",
       "      <th>32560</th>\n",
       "      <td>0.750</td>\n",
       "      <td>0.066667</td>\n",
       "      <td>0.00</td>\n",
       "      <td>1.0</td>\n",
       "      <td>&gt;50K</td>\n",
       "    </tr>\n",
       "  </tbody>\n",
       "</table>\n",
       "<p>32561 rows × 5 columns</p>\n",
       "</div>"
      ],
      "text/plain": [
       "       workclass  education  race  gender income\n",
       "0          0.000   0.000000  0.00     0.0  <=50K\n",
       "1          0.125   0.000000  0.00     0.0  <=50K\n",
       "2          0.250   0.066667  0.00     0.0  <=50K\n",
       "3          0.250   0.133333  0.25     0.0  <=50K\n",
       "4          0.250   0.000000  0.25     1.0  <=50K\n",
       "...          ...        ...   ...     ...    ...\n",
       "32556      0.250   0.400000  0.00     1.0  <=50K\n",
       "32557      0.250   0.066667  0.00     0.0   >50K\n",
       "32558      0.250   0.066667  0.00     1.0  <=50K\n",
       "32559      0.250   0.066667  0.00     0.0  <=50K\n",
       "32560      0.750   0.066667  0.00     1.0   >50K\n",
       "\n",
       "[32561 rows x 5 columns]"
      ]
     },
     "execution_count": 12,
     "metadata": {},
     "output_type": "execute_result"
    }
   ],
   "source": [
    "scaler = MinMaxScaler()\n",
    "contCols = ['education', 'workclass', 'race', 'gender']\n",
    "contCols\n",
    "incomeCat2.loc[:,contCols] = scaler.fit_transform(incomeCat2.loc[:,contCols])\n",
    "incomeCat2"
   ]
  },
  {
   "cell_type": "markdown",
   "id": "59f76e89",
   "metadata": {},
   "source": [
    "#### 1D. Randomly split the transformed input data and the output data into X_train, y_train, X_test and y_test using tools in sklearn. "
   ]
  },
  {
   "cell_type": "code",
   "execution_count": 13,
   "id": "1ade05d6",
   "metadata": {},
   "outputs": [
    {
     "name": "stdout",
     "output_type": "stream",
     "text": [
      "Sizes of training and test sets: [22792, 9769, 22792, 9769]\n"
     ]
    }
   ],
   "source": [
    "X = incomeCat2.drop(columns = ['income'])\n",
    "y = incomeCat2['income']\n",
    "\n",
    "X_train, X_test, y_train, y_test = train_test_split(X, y, test_size = 0.3, random_state = 42)\n",
    "\n",
    "print(\"Sizes of training and test sets:\", [len(elem) for elem in [X_train, X_test, y_train, y_test]])"
   ]
  },
  {
   "cell_type": "markdown",
   "id": "54c048d4",
   "metadata": {},
   "source": [
    "#### 1E. Use an appropriate Naïve Bayes constructor in sklearn to construct and fit a Naïve Bayes model on the training data, then use the model to compute the accuracy score of the training and test set. "
   ]
  },
  {
   "cell_type": "code",
   "execution_count": 14,
   "id": "f6e067dd",
   "metadata": {},
   "outputs": [
    {
     "data": {
      "text/plain": [
       "0.7631282628723514"
      ]
     },
     "execution_count": 14,
     "metadata": {},
     "output_type": "execute_result"
    }
   ],
   "source": [
    "cnb = CategoricalNB()\n",
    "y_pred = cnb.fit(X_train, y_train).predict(X_test)\n",
    "accuracy_score(y_pred, y_test)"
   ]
  },
  {
   "cell_type": "markdown",
   "id": "174115a2",
   "metadata": {},
   "source": [
    "### Question 2"
   ]
  },
  {
   "cell_type": "markdown",
   "id": "86ddec99",
   "metadata": {},
   "source": [
    "#### 2A. Upload the income_evaluation_continuous.csv data provided on canvas.  The features in this data include age, education_num, and hours_per_week. The output variable is income and contains two categorical values (<=50k or >50k) indicating whether the income of an individual is less than/equal to 50,000 or greater than 50,000 respectively. Compute the mean and standard deviation of each input variable such that the results are presented on the same table or data frame. You can call the .apply() function on the pandas DataFrame.  "
   ]
  },
  {
   "cell_type": "code",
   "execution_count": 15,
   "id": "0641ef6d",
   "metadata": {},
   "outputs": [
    {
     "data": {
      "text/html": [
       "<div>\n",
       "<style scoped>\n",
       "    .dataframe tbody tr th:only-of-type {\n",
       "        vertical-align: middle;\n",
       "    }\n",
       "\n",
       "    .dataframe tbody tr th {\n",
       "        vertical-align: top;\n",
       "    }\n",
       "\n",
       "    .dataframe thead th {\n",
       "        text-align: right;\n",
       "    }\n",
       "</style>\n",
       "<table border=\"1\" class=\"dataframe\">\n",
       "  <thead>\n",
       "    <tr style=\"text-align: right;\">\n",
       "      <th></th>\n",
       "      <th>age</th>\n",
       "      <th>education_num</th>\n",
       "      <th>hours_per_week</th>\n",
       "      <th>income</th>\n",
       "    </tr>\n",
       "  </thead>\n",
       "  <tbody>\n",
       "    <tr>\n",
       "      <th>0</th>\n",
       "      <td>39</td>\n",
       "      <td>13</td>\n",
       "      <td>40</td>\n",
       "      <td>&lt;=50K</td>\n",
       "    </tr>\n",
       "    <tr>\n",
       "      <th>1</th>\n",
       "      <td>50</td>\n",
       "      <td>13</td>\n",
       "      <td>13</td>\n",
       "      <td>&lt;=50K</td>\n",
       "    </tr>\n",
       "    <tr>\n",
       "      <th>2</th>\n",
       "      <td>38</td>\n",
       "      <td>9</td>\n",
       "      <td>40</td>\n",
       "      <td>&lt;=50K</td>\n",
       "    </tr>\n",
       "    <tr>\n",
       "      <th>3</th>\n",
       "      <td>53</td>\n",
       "      <td>7</td>\n",
       "      <td>40</td>\n",
       "      <td>&lt;=50K</td>\n",
       "    </tr>\n",
       "    <tr>\n",
       "      <th>4</th>\n",
       "      <td>28</td>\n",
       "      <td>13</td>\n",
       "      <td>40</td>\n",
       "      <td>&lt;=50K</td>\n",
       "    </tr>\n",
       "    <tr>\n",
       "      <th>...</th>\n",
       "      <td>...</td>\n",
       "      <td>...</td>\n",
       "      <td>...</td>\n",
       "      <td>...</td>\n",
       "    </tr>\n",
       "    <tr>\n",
       "      <th>32556</th>\n",
       "      <td>27</td>\n",
       "      <td>12</td>\n",
       "      <td>38</td>\n",
       "      <td>&lt;=50K</td>\n",
       "    </tr>\n",
       "    <tr>\n",
       "      <th>32557</th>\n",
       "      <td>40</td>\n",
       "      <td>9</td>\n",
       "      <td>40</td>\n",
       "      <td>&gt;50K</td>\n",
       "    </tr>\n",
       "    <tr>\n",
       "      <th>32558</th>\n",
       "      <td>58</td>\n",
       "      <td>9</td>\n",
       "      <td>40</td>\n",
       "      <td>&lt;=50K</td>\n",
       "    </tr>\n",
       "    <tr>\n",
       "      <th>32559</th>\n",
       "      <td>22</td>\n",
       "      <td>9</td>\n",
       "      <td>20</td>\n",
       "      <td>&lt;=50K</td>\n",
       "    </tr>\n",
       "    <tr>\n",
       "      <th>32560</th>\n",
       "      <td>52</td>\n",
       "      <td>9</td>\n",
       "      <td>40</td>\n",
       "      <td>&gt;50K</td>\n",
       "    </tr>\n",
       "  </tbody>\n",
       "</table>\n",
       "<p>32561 rows × 4 columns</p>\n",
       "</div>"
      ],
      "text/plain": [
       "       age  education_num  hours_per_week income\n",
       "0       39             13              40  <=50K\n",
       "1       50             13              13  <=50K\n",
       "2       38              9              40  <=50K\n",
       "3       53              7              40  <=50K\n",
       "4       28             13              40  <=50K\n",
       "...    ...            ...             ...    ...\n",
       "32556   27             12              38  <=50K\n",
       "32557   40              9              40   >50K\n",
       "32558   58              9              40  <=50K\n",
       "32559   22              9              20  <=50K\n",
       "32560   52              9              40   >50K\n",
       "\n",
       "[32561 rows x 4 columns]"
      ]
     },
     "execution_count": 15,
     "metadata": {},
     "output_type": "execute_result"
    }
   ],
   "source": [
    "incomeCont = pd.read_csv('income_evaluation_continuous.csv', skipinitialspace = True)\n",
    "incomeCont"
   ]
  },
  {
   "cell_type": "code",
   "execution_count": 16,
   "id": "f4c50f2a",
   "metadata": {},
   "outputs": [
    {
     "name": "stderr",
     "output_type": "stream",
     "text": [
      "/tmp/ipykernel_587/731884038.py:1: FutureWarning: ['income'] did not aggregate successfully. If any error is raised this will raise in a future version of pandas. Drop these columns/ops to avoid this warning.\n",
      "  incomeCont.agg([np.mean, np.median, np.std])\n"
     ]
    },
    {
     "data": {
      "text/html": [
       "<div>\n",
       "<style scoped>\n",
       "    .dataframe tbody tr th:only-of-type {\n",
       "        vertical-align: middle;\n",
       "    }\n",
       "\n",
       "    .dataframe tbody tr th {\n",
       "        vertical-align: top;\n",
       "    }\n",
       "\n",
       "    .dataframe thead th {\n",
       "        text-align: right;\n",
       "    }\n",
       "</style>\n",
       "<table border=\"1\" class=\"dataframe\">\n",
       "  <thead>\n",
       "    <tr style=\"text-align: right;\">\n",
       "      <th></th>\n",
       "      <th>age</th>\n",
       "      <th>education_num</th>\n",
       "      <th>hours_per_week</th>\n",
       "    </tr>\n",
       "  </thead>\n",
       "  <tbody>\n",
       "    <tr>\n",
       "      <th>mean</th>\n",
       "      <td>38.581647</td>\n",
       "      <td>10.080679</td>\n",
       "      <td>40.437456</td>\n",
       "    </tr>\n",
       "    <tr>\n",
       "      <th>median</th>\n",
       "      <td>37.000000</td>\n",
       "      <td>10.000000</td>\n",
       "      <td>40.000000</td>\n",
       "    </tr>\n",
       "    <tr>\n",
       "      <th>std</th>\n",
       "      <td>13.640433</td>\n",
       "      <td>2.572720</td>\n",
       "      <td>12.347429</td>\n",
       "    </tr>\n",
       "  </tbody>\n",
       "</table>\n",
       "</div>"
      ],
      "text/plain": [
       "              age  education_num  hours_per_week\n",
       "mean    38.581647      10.080679       40.437456\n",
       "median  37.000000      10.000000       40.000000\n",
       "std     13.640433       2.572720       12.347429"
      ]
     },
     "execution_count": 16,
     "metadata": {},
     "output_type": "execute_result"
    }
   ],
   "source": [
    "incomeCont.agg([np.mean, np.median, np.std])"
   ]
  },
  {
   "cell_type": "markdown",
   "id": "736edb82",
   "metadata": {},
   "source": [
    "#### 2B. You will implement Naïve Bayes from scratch using Bayes’ rule. Assume that all the features or input variables follow a normal distribution. You can do your calculations in Python, but you would not use the sklearn package. You can use the density function inside the stats module in the SciPy package. Given that all the income_evaluation_continuous.csv data you uploaded is the training data, classify a test instance, X = [30, 10, 45], into the class income<=50 or income>50k. Compute prior and posterior probabilities that are needed to classify the test instance. "
   ]
  },
  {
   "cell_type": "markdown",
   "id": "8e3bf58c",
   "metadata": {},
   "source": [
    "#### What are the prior probabilities, P(income<=50) and P(income>50k)?"
   ]
  },
  {
   "cell_type": "code",
   "execution_count": 17,
   "id": "6ee8c027",
   "metadata": {},
   "outputs": [
    {
     "name": "stdout",
     "output_type": "stream",
     "text": [
      "p(<=50K): 0.7591904425539756\n",
      "p(>50K): 0.2408095574460244\n"
     ]
    }
   ],
   "source": [
    "p_less_50 = (incomeCont['income'].value_counts()['<=50K'])/len(incomeCont)\n",
    "print('p(<=50K): ' + str(p_less_50))\n",
    "\n",
    "p_great_50 = (incomeCont['income'].value_counts()['>50K'])/len(incomeCont)\n",
    "print('p(>50K): ' + str(p_great_50))"
   ]
  },
  {
   "cell_type": "code",
   "execution_count": 18,
   "id": "d2c94a4c",
   "metadata": {},
   "outputs": [
    {
     "data": {
      "text/plain": [
       "0.0003685390497834833"
      ]
     },
     "execution_count": 18,
     "metadata": {},
     "output_type": "execute_result"
    }
   ],
   "source": [
    "p_x = (sum((incomeCont['age'] == 30) & (incomeCont['education_num'] == 10) \n",
    "        & (incomeCont['hours_per_week'] == 45)))/len(incomeCont)\n",
    "p_x"
   ]
  },
  {
   "cell_type": "code",
   "execution_count": 19,
   "id": "893dac2b",
   "metadata": {},
   "outputs": [
    {
     "data": {
      "text/plain": [
       "0.8333333333333334"
      ]
     },
     "execution_count": 19,
     "metadata": {},
     "output_type": "execute_result"
    }
   ],
   "source": [
    "# (p(x|<=50k) = p(x and <=50k)/p(x)\n",
    "\n",
    "p_x_less = (sum((incomeCont['age'] == 30) & (incomeCont['education_num'] == 10) \n",
    "        & (incomeCont['hours_per_week'] == 45) & (incomeCat['income'] == '<=50K')))/len(incomeCat)\n",
    "\n",
    "p_x_less_x = p_x_less/p_x\n",
    "\n",
    "p_x_less_x"
   ]
  },
  {
   "cell_type": "code",
   "execution_count": 20,
   "id": "16d5c6b0",
   "metadata": {},
   "outputs": [
    {
     "data": {
      "text/plain": [
       "0.16666666666666666"
      ]
     },
     "execution_count": 20,
     "metadata": {},
     "output_type": "execute_result"
    }
   ],
   "source": [
    "# (p(x|>50k) = p(x and >50K)/p(x)\n",
    "\n",
    "p_x_great = (sum((incomeCont['age'] == 30) & (incomeCont['education_num'] == 10) \n",
    "        & (incomeCont['hours_per_week'] == 45) & (incomeCat['income'] == '>50K')))/len(incomeCat)\n",
    "\n",
    "p_x_great_x = p_x_great/p_x\n",
    "\n",
    "p_x_great_x"
   ]
  },
  {
   "cell_type": "markdown",
   "id": "12741b41",
   "metadata": {},
   "source": [
    "#### What are the posterior probabilities, P(income<=50/X) and P(income>50k/X)?"
   ]
  },
  {
   "cell_type": "code",
   "execution_count": 21,
   "id": "c55416c3",
   "metadata": {},
   "outputs": [
    {
     "name": "stdout",
     "output_type": "stream",
     "text": [
      "P(<=50K|X): 0.00041586500303471713\n",
      "P(>50K|X): 0.0001319092835273146\n"
     ]
    }
   ],
   "source": [
    "# posterior = (likelihood * prior)/evidence\n",
    "\n",
    "# p(<=50K|x) = (p(x|<=50k) * p(<=50K)) / p(x)\n",
    "print('P(<=50K|X): ' + str((p_less_50 * p_x) / ((p_less_50 * p_x_less_x)+(p_great_50 * p_x_great_x))))\n",
    "      \n",
    "#p(>50k|x) = (p(x|>50k) * p(>50k)) / p(x)\n",
    "print('P(>50K|X): ' + str((p_great_50 * p_x) / ((p_less_50 * p_x_less_x)+(p_great_50 * p_x_great_x))))"
   ]
  },
  {
   "cell_type": "markdown",
   "id": "108729db",
   "metadata": {},
   "source": [
    "#### Based on your posterior probabilities, which class should the test instance be classified into? "
   ]
  },
  {
   "cell_type": "markdown",
   "id": "b717fd3a",
   "metadata": {},
   "source": [
    "The test instance would be classified into less than or equal to 50K"
   ]
  },
  {
   "cell_type": "markdown",
   "id": "96698c90",
   "metadata": {},
   "source": [
    "#### 2C. Preprocess or transform the features in the income_evaluation_cont.csv data using an appropriate scaler in sklearn. You don’t need to transform the output variable; it should still work fine in a text format. "
   ]
  },
  {
   "cell_type": "code",
   "execution_count": 23,
   "id": "4f8ab6b1",
   "metadata": {},
   "outputs": [
    {
     "data": {
      "text/html": [
       "<div>\n",
       "<style scoped>\n",
       "    .dataframe tbody tr th:only-of-type {\n",
       "        vertical-align: middle;\n",
       "    }\n",
       "\n",
       "    .dataframe tbody tr th {\n",
       "        vertical-align: top;\n",
       "    }\n",
       "\n",
       "    .dataframe thead th {\n",
       "        text-align: right;\n",
       "    }\n",
       "</style>\n",
       "<table border=\"1\" class=\"dataframe\">\n",
       "  <thead>\n",
       "    <tr style=\"text-align: right;\">\n",
       "      <th></th>\n",
       "      <th>age</th>\n",
       "      <th>education_num</th>\n",
       "      <th>hours_per_week</th>\n",
       "      <th>income</th>\n",
       "    </tr>\n",
       "  </thead>\n",
       "  <tbody>\n",
       "    <tr>\n",
       "      <th>0</th>\n",
       "      <td>0.301370</td>\n",
       "      <td>0.800000</td>\n",
       "      <td>0.397959</td>\n",
       "      <td>&lt;=50K</td>\n",
       "    </tr>\n",
       "    <tr>\n",
       "      <th>1</th>\n",
       "      <td>0.452055</td>\n",
       "      <td>0.800000</td>\n",
       "      <td>0.122449</td>\n",
       "      <td>&lt;=50K</td>\n",
       "    </tr>\n",
       "    <tr>\n",
       "      <th>2</th>\n",
       "      <td>0.287671</td>\n",
       "      <td>0.533333</td>\n",
       "      <td>0.397959</td>\n",
       "      <td>&lt;=50K</td>\n",
       "    </tr>\n",
       "    <tr>\n",
       "      <th>3</th>\n",
       "      <td>0.493151</td>\n",
       "      <td>0.400000</td>\n",
       "      <td>0.397959</td>\n",
       "      <td>&lt;=50K</td>\n",
       "    </tr>\n",
       "    <tr>\n",
       "      <th>4</th>\n",
       "      <td>0.150685</td>\n",
       "      <td>0.800000</td>\n",
       "      <td>0.397959</td>\n",
       "      <td>&lt;=50K</td>\n",
       "    </tr>\n",
       "    <tr>\n",
       "      <th>...</th>\n",
       "      <td>...</td>\n",
       "      <td>...</td>\n",
       "      <td>...</td>\n",
       "      <td>...</td>\n",
       "    </tr>\n",
       "    <tr>\n",
       "      <th>32556</th>\n",
       "      <td>0.136986</td>\n",
       "      <td>0.733333</td>\n",
       "      <td>0.377551</td>\n",
       "      <td>&lt;=50K</td>\n",
       "    </tr>\n",
       "    <tr>\n",
       "      <th>32557</th>\n",
       "      <td>0.315068</td>\n",
       "      <td>0.533333</td>\n",
       "      <td>0.397959</td>\n",
       "      <td>&gt;50K</td>\n",
       "    </tr>\n",
       "    <tr>\n",
       "      <th>32558</th>\n",
       "      <td>0.561644</td>\n",
       "      <td>0.533333</td>\n",
       "      <td>0.397959</td>\n",
       "      <td>&lt;=50K</td>\n",
       "    </tr>\n",
       "    <tr>\n",
       "      <th>32559</th>\n",
       "      <td>0.068493</td>\n",
       "      <td>0.533333</td>\n",
       "      <td>0.193878</td>\n",
       "      <td>&lt;=50K</td>\n",
       "    </tr>\n",
       "    <tr>\n",
       "      <th>32560</th>\n",
       "      <td>0.479452</td>\n",
       "      <td>0.533333</td>\n",
       "      <td>0.397959</td>\n",
       "      <td>&gt;50K</td>\n",
       "    </tr>\n",
       "  </tbody>\n",
       "</table>\n",
       "<p>32561 rows × 4 columns</p>\n",
       "</div>"
      ],
      "text/plain": [
       "            age  education_num  hours_per_week income\n",
       "0      0.301370       0.800000        0.397959  <=50K\n",
       "1      0.452055       0.800000        0.122449  <=50K\n",
       "2      0.287671       0.533333        0.397959  <=50K\n",
       "3      0.493151       0.400000        0.397959  <=50K\n",
       "4      0.150685       0.800000        0.397959  <=50K\n",
       "...         ...            ...             ...    ...\n",
       "32556  0.136986       0.733333        0.377551  <=50K\n",
       "32557  0.315068       0.533333        0.397959   >50K\n",
       "32558  0.561644       0.533333        0.397959  <=50K\n",
       "32559  0.068493       0.533333        0.193878  <=50K\n",
       "32560  0.479452       0.533333        0.397959   >50K\n",
       "\n",
       "[32561 rows x 4 columns]"
      ]
     },
     "execution_count": 23,
     "metadata": {},
     "output_type": "execute_result"
    }
   ],
   "source": [
    "scaler = MinMaxScaler()\n",
    "contCols = ['age', 'education_num', 'hours_per_week']\n",
    "contCols\n",
    "incomeCont.loc[:,contCols] = scaler.fit_transform(incomeCont.loc[:,contCols])\n",
    "incomeCont"
   ]
  },
  {
   "cell_type": "markdown",
   "id": "bba46eb8",
   "metadata": {},
   "source": [
    "#### 2D. Randomly split the input and output data into X_train, y_train, X_test and y_test using tools in sklearn. "
   ]
  },
  {
   "cell_type": "code",
   "execution_count": 24,
   "id": "f52d3bb2",
   "metadata": {},
   "outputs": [
    {
     "name": "stdout",
     "output_type": "stream",
     "text": [
      "Sizes of training and test sets: [22792, 9769, 22792, 9769]\n"
     ]
    }
   ],
   "source": [
    "X = incomeCont.drop(columns = ['income'])\n",
    "y = incomeCont['income']\n",
    "\n",
    "X_train, X_test, y_train, y_test = train_test_split(X, y, test_size = 0.3, random_state = 42)\n",
    "\n",
    "print(\"Sizes of training and test sets:\", [len(elem) for elem in [X_train, X_test, y_train, y_test]])"
   ]
  },
  {
   "cell_type": "markdown",
   "id": "217c6315",
   "metadata": {},
   "source": [
    "#### 2E. Use an appropriate Naïve Bayes constructor in sklearn to construct and fit a Naïve Bayes model on the training data, then use the model to compute the accuracy score of the training and test set. "
   ]
  },
  {
   "cell_type": "code",
   "execution_count": 25,
   "id": "e34643ea",
   "metadata": {},
   "outputs": [
    {
     "data": {
      "text/plain": [
       "0.7988535162247927"
      ]
     },
     "execution_count": 25,
     "metadata": {},
     "output_type": "execute_result"
    }
   ],
   "source": [
    "gnb = GaussianNB()\n",
    "y_pred = gnb.fit(X_train, y_train).predict(X_test)\n",
    "accuracy_score(y_pred, y_test)"
   ]
  },
  {
   "cell_type": "markdown",
   "id": "c1bc7a5d",
   "metadata": {},
   "source": [
    "### Question 3"
   ]
  },
  {
   "cell_type": "markdown",
   "id": "c7a69a83",
   "metadata": {},
   "source": [
    "#### 3A. Upload the True.csv data provided on canvas into Python. You will create a new data frame by selecting the “title” and “text” columns, then, adding a new column called “news_type” where all the values on this new column are “True”. So, your new data frame should have three columns; “title”, “text” and “news_type”. "
   ]
  },
  {
   "cell_type": "code",
   "execution_count": 26,
   "id": "f893b27d",
   "metadata": {},
   "outputs": [
    {
     "data": {
      "text/html": [
       "<div>\n",
       "<style scoped>\n",
       "    .dataframe tbody tr th:only-of-type {\n",
       "        vertical-align: middle;\n",
       "    }\n",
       "\n",
       "    .dataframe tbody tr th {\n",
       "        vertical-align: top;\n",
       "    }\n",
       "\n",
       "    .dataframe thead th {\n",
       "        text-align: right;\n",
       "    }\n",
       "</style>\n",
       "<table border=\"1\" class=\"dataframe\">\n",
       "  <thead>\n",
       "    <tr style=\"text-align: right;\">\n",
       "      <th></th>\n",
       "      <th>title</th>\n",
       "      <th>text</th>\n",
       "      <th>news_type</th>\n",
       "    </tr>\n",
       "  </thead>\n",
       "  <tbody>\n",
       "    <tr>\n",
       "      <th>0</th>\n",
       "      <td>As U.S. budget fight looms, Republicans flip t...</td>\n",
       "      <td>WASHINGTON (Reuters) - The head of a conservat...</td>\n",
       "      <td>True</td>\n",
       "    </tr>\n",
       "    <tr>\n",
       "      <th>1</th>\n",
       "      <td>U.S. military to accept transgender recruits o...</td>\n",
       "      <td>WASHINGTON (Reuters) - Transgender people will...</td>\n",
       "      <td>True</td>\n",
       "    </tr>\n",
       "    <tr>\n",
       "      <th>2</th>\n",
       "      <td>Senior U.S. Republican senator: 'Let Mr. Muell...</td>\n",
       "      <td>WASHINGTON (Reuters) - The special counsel inv...</td>\n",
       "      <td>True</td>\n",
       "    </tr>\n",
       "    <tr>\n",
       "      <th>3</th>\n",
       "      <td>FBI Russia probe helped by Australian diplomat...</td>\n",
       "      <td>WASHINGTON (Reuters) - Trump campaign adviser ...</td>\n",
       "      <td>True</td>\n",
       "    </tr>\n",
       "    <tr>\n",
       "      <th>4</th>\n",
       "      <td>Trump wants Postal Service to charge 'much mor...</td>\n",
       "      <td>SEATTLE/WASHINGTON (Reuters) - President Donal...</td>\n",
       "      <td>True</td>\n",
       "    </tr>\n",
       "    <tr>\n",
       "      <th>...</th>\n",
       "      <td>...</td>\n",
       "      <td>...</td>\n",
       "      <td>...</td>\n",
       "    </tr>\n",
       "    <tr>\n",
       "      <th>21412</th>\n",
       "      <td>'Fully committed' NATO backs new U.S. approach...</td>\n",
       "      <td>BRUSSELS (Reuters) - NATO allies on Tuesday we...</td>\n",
       "      <td>True</td>\n",
       "    </tr>\n",
       "    <tr>\n",
       "      <th>21413</th>\n",
       "      <td>LexisNexis withdrew two products from Chinese ...</td>\n",
       "      <td>LONDON (Reuters) - LexisNexis, a provider of l...</td>\n",
       "      <td>True</td>\n",
       "    </tr>\n",
       "    <tr>\n",
       "      <th>21414</th>\n",
       "      <td>Minsk cultural hub becomes haven from authorities</td>\n",
       "      <td>MINSK (Reuters) - In the shadow of disused Sov...</td>\n",
       "      <td>True</td>\n",
       "    </tr>\n",
       "    <tr>\n",
       "      <th>21415</th>\n",
       "      <td>Vatican upbeat on possibility of Pope Francis ...</td>\n",
       "      <td>MOSCOW (Reuters) - Vatican Secretary of State ...</td>\n",
       "      <td>True</td>\n",
       "    </tr>\n",
       "    <tr>\n",
       "      <th>21416</th>\n",
       "      <td>Indonesia to buy $1.14 billion worth of Russia...</td>\n",
       "      <td>JAKARTA (Reuters) - Indonesia will buy 11 Sukh...</td>\n",
       "      <td>True</td>\n",
       "    </tr>\n",
       "  </tbody>\n",
       "</table>\n",
       "<p>21417 rows × 3 columns</p>\n",
       "</div>"
      ],
      "text/plain": [
       "                                                   title  \\\n",
       "0      As U.S. budget fight looms, Republicans flip t...   \n",
       "1      U.S. military to accept transgender recruits o...   \n",
       "2      Senior U.S. Republican senator: 'Let Mr. Muell...   \n",
       "3      FBI Russia probe helped by Australian diplomat...   \n",
       "4      Trump wants Postal Service to charge 'much mor...   \n",
       "...                                                  ...   \n",
       "21412  'Fully committed' NATO backs new U.S. approach...   \n",
       "21413  LexisNexis withdrew two products from Chinese ...   \n",
       "21414  Minsk cultural hub becomes haven from authorities   \n",
       "21415  Vatican upbeat on possibility of Pope Francis ...   \n",
       "21416  Indonesia to buy $1.14 billion worth of Russia...   \n",
       "\n",
       "                                                    text news_type  \n",
       "0      WASHINGTON (Reuters) - The head of a conservat...      True  \n",
       "1      WASHINGTON (Reuters) - Transgender people will...      True  \n",
       "2      WASHINGTON (Reuters) - The special counsel inv...      True  \n",
       "3      WASHINGTON (Reuters) - Trump campaign adviser ...      True  \n",
       "4      SEATTLE/WASHINGTON (Reuters) - President Donal...      True  \n",
       "...                                                  ...       ...  \n",
       "21412  BRUSSELS (Reuters) - NATO allies on Tuesday we...      True  \n",
       "21413  LONDON (Reuters) - LexisNexis, a provider of l...      True  \n",
       "21414  MINSK (Reuters) - In the shadow of disused Sov...      True  \n",
       "21415  MOSCOW (Reuters) - Vatican Secretary of State ...      True  \n",
       "21416  JAKARTA (Reuters) - Indonesia will buy 11 Sukh...      True  \n",
       "\n",
       "[21417 rows x 3 columns]"
      ]
     },
     "execution_count": 26,
     "metadata": {},
     "output_type": "execute_result"
    }
   ],
   "source": [
    "true = pd.read_csv('True.csv')\n",
    "trueDF = true.drop(columns = ['subject', 'date'])\n",
    "trueDF['news_type'] = 'True'\n",
    "trueDF"
   ]
  },
  {
   "cell_type": "markdown",
   "id": "ee4c8d77",
   "metadata": {},
   "source": [
    "#### 3B. Upload the Fake.csv data provided on canvas into Python. You will create a new data frame by selecting the “title” and “text” columns, then, adding a new column called “news_type” where all the values on this new column are “Fake”. So, your new data frame should have three columns; “title”, “text” and “news_type”."
   ]
  },
  {
   "cell_type": "code",
   "execution_count": 27,
   "id": "882cf76e",
   "metadata": {},
   "outputs": [
    {
     "data": {
      "text/html": [
       "<div>\n",
       "<style scoped>\n",
       "    .dataframe tbody tr th:only-of-type {\n",
       "        vertical-align: middle;\n",
       "    }\n",
       "\n",
       "    .dataframe tbody tr th {\n",
       "        vertical-align: top;\n",
       "    }\n",
       "\n",
       "    .dataframe thead th {\n",
       "        text-align: right;\n",
       "    }\n",
       "</style>\n",
       "<table border=\"1\" class=\"dataframe\">\n",
       "  <thead>\n",
       "    <tr style=\"text-align: right;\">\n",
       "      <th></th>\n",
       "      <th>title</th>\n",
       "      <th>text</th>\n",
       "      <th>news_type</th>\n",
       "    </tr>\n",
       "  </thead>\n",
       "  <tbody>\n",
       "    <tr>\n",
       "      <th>0</th>\n",
       "      <td>Donald Trump Sends Out Embarrassing New Year’...</td>\n",
       "      <td>Donald Trump just couldn t wish all Americans ...</td>\n",
       "      <td>Fake</td>\n",
       "    </tr>\n",
       "    <tr>\n",
       "      <th>1</th>\n",
       "      <td>Drunk Bragging Trump Staffer Started Russian ...</td>\n",
       "      <td>House Intelligence Committee Chairman Devin Nu...</td>\n",
       "      <td>Fake</td>\n",
       "    </tr>\n",
       "    <tr>\n",
       "      <th>2</th>\n",
       "      <td>Sheriff David Clarke Becomes An Internet Joke...</td>\n",
       "      <td>On Friday, it was revealed that former Milwauk...</td>\n",
       "      <td>Fake</td>\n",
       "    </tr>\n",
       "    <tr>\n",
       "      <th>3</th>\n",
       "      <td>Trump Is So Obsessed He Even Has Obama’s Name...</td>\n",
       "      <td>On Christmas day, Donald Trump announced that ...</td>\n",
       "      <td>Fake</td>\n",
       "    </tr>\n",
       "    <tr>\n",
       "      <th>4</th>\n",
       "      <td>Pope Francis Just Called Out Donald Trump Dur...</td>\n",
       "      <td>Pope Francis used his annual Christmas Day mes...</td>\n",
       "      <td>Fake</td>\n",
       "    </tr>\n",
       "    <tr>\n",
       "      <th>...</th>\n",
       "      <td>...</td>\n",
       "      <td>...</td>\n",
       "      <td>...</td>\n",
       "    </tr>\n",
       "    <tr>\n",
       "      <th>23476</th>\n",
       "      <td>McPain: John McCain Furious That Iran Treated ...</td>\n",
       "      <td>21st Century Wire says As 21WIRE reported earl...</td>\n",
       "      <td>Fake</td>\n",
       "    </tr>\n",
       "    <tr>\n",
       "      <th>23477</th>\n",
       "      <td>JUSTICE? Yahoo Settles E-mail Privacy Class-ac...</td>\n",
       "      <td>21st Century Wire says It s a familiar theme. ...</td>\n",
       "      <td>Fake</td>\n",
       "    </tr>\n",
       "    <tr>\n",
       "      <th>23478</th>\n",
       "      <td>Sunnistan: US and Allied ‘Safe Zone’ Plan to T...</td>\n",
       "      <td>Patrick Henningsen  21st Century WireRemember ...</td>\n",
       "      <td>Fake</td>\n",
       "    </tr>\n",
       "    <tr>\n",
       "      <th>23479</th>\n",
       "      <td>How to Blow $700 Million: Al Jazeera America F...</td>\n",
       "      <td>21st Century Wire says Al Jazeera America will...</td>\n",
       "      <td>Fake</td>\n",
       "    </tr>\n",
       "    <tr>\n",
       "      <th>23480</th>\n",
       "      <td>10 U.S. Navy Sailors Held by Iranian Military ...</td>\n",
       "      <td>21st Century Wire says As 21WIRE predicted in ...</td>\n",
       "      <td>Fake</td>\n",
       "    </tr>\n",
       "  </tbody>\n",
       "</table>\n",
       "<p>23481 rows × 3 columns</p>\n",
       "</div>"
      ],
      "text/plain": [
       "                                                   title  \\\n",
       "0       Donald Trump Sends Out Embarrassing New Year’...   \n",
       "1       Drunk Bragging Trump Staffer Started Russian ...   \n",
       "2       Sheriff David Clarke Becomes An Internet Joke...   \n",
       "3       Trump Is So Obsessed He Even Has Obama’s Name...   \n",
       "4       Pope Francis Just Called Out Donald Trump Dur...   \n",
       "...                                                  ...   \n",
       "23476  McPain: John McCain Furious That Iran Treated ...   \n",
       "23477  JUSTICE? Yahoo Settles E-mail Privacy Class-ac...   \n",
       "23478  Sunnistan: US and Allied ‘Safe Zone’ Plan to T...   \n",
       "23479  How to Blow $700 Million: Al Jazeera America F...   \n",
       "23480  10 U.S. Navy Sailors Held by Iranian Military ...   \n",
       "\n",
       "                                                    text news_type  \n",
       "0      Donald Trump just couldn t wish all Americans ...      Fake  \n",
       "1      House Intelligence Committee Chairman Devin Nu...      Fake  \n",
       "2      On Friday, it was revealed that former Milwauk...      Fake  \n",
       "3      On Christmas day, Donald Trump announced that ...      Fake  \n",
       "4      Pope Francis used his annual Christmas Day mes...      Fake  \n",
       "...                                                  ...       ...  \n",
       "23476  21st Century Wire says As 21WIRE reported earl...      Fake  \n",
       "23477  21st Century Wire says It s a familiar theme. ...      Fake  \n",
       "23478  Patrick Henningsen  21st Century WireRemember ...      Fake  \n",
       "23479  21st Century Wire says Al Jazeera America will...      Fake  \n",
       "23480  21st Century Wire says As 21WIRE predicted in ...      Fake  \n",
       "\n",
       "[23481 rows x 3 columns]"
      ]
     },
     "execution_count": 27,
     "metadata": {},
     "output_type": "execute_result"
    }
   ],
   "source": [
    "fake = pd.read_csv('Fake.csv')\n",
    "fakeDF = fake.drop(columns = ['subject', 'date'])\n",
    "fakeDF['news_type'] = 'Fake'\n",
    "fakeDF"
   ]
  },
  {
   "cell_type": "markdown",
   "id": "cf5e51c0",
   "metadata": {},
   "source": [
    "#### 3C. Merge the data frame in a) and b) so that one of the data frames is stacked vertically on top of the other. Combine the text in the “title” and “text” columns of the merged data frame into another column called “news”. Drop the “title” and “text” columns so that your final data frame is has only two columns, “news” and “news_type”. Print the first five rows of your final data frame. "
   ]
  },
  {
   "cell_type": "code",
   "execution_count": 28,
   "id": "71fc9291",
   "metadata": {},
   "outputs": [
    {
     "data": {
      "text/html": [
       "<div>\n",
       "<style scoped>\n",
       "    .dataframe tbody tr th:only-of-type {\n",
       "        vertical-align: middle;\n",
       "    }\n",
       "\n",
       "    .dataframe tbody tr th {\n",
       "        vertical-align: top;\n",
       "    }\n",
       "\n",
       "    .dataframe thead th {\n",
       "        text-align: right;\n",
       "    }\n",
       "</style>\n",
       "<table border=\"1\" class=\"dataframe\">\n",
       "  <thead>\n",
       "    <tr style=\"text-align: right;\">\n",
       "      <th></th>\n",
       "      <th>news_type</th>\n",
       "      <th>news</th>\n",
       "    </tr>\n",
       "  </thead>\n",
       "  <tbody>\n",
       "    <tr>\n",
       "      <th>0</th>\n",
       "      <td>True</td>\n",
       "      <td>As U.S. budget fight looms, Republicans flip t...</td>\n",
       "    </tr>\n",
       "    <tr>\n",
       "      <th>1</th>\n",
       "      <td>True</td>\n",
       "      <td>U.S. military to accept transgender recruits o...</td>\n",
       "    </tr>\n",
       "    <tr>\n",
       "      <th>2</th>\n",
       "      <td>True</td>\n",
       "      <td>Senior U.S. Republican senator: 'Let Mr. Muell...</td>\n",
       "    </tr>\n",
       "    <tr>\n",
       "      <th>3</th>\n",
       "      <td>True</td>\n",
       "      <td>FBI Russia probe helped by Australian diplomat...</td>\n",
       "    </tr>\n",
       "    <tr>\n",
       "      <th>4</th>\n",
       "      <td>True</td>\n",
       "      <td>Trump wants Postal Service to charge 'much mor...</td>\n",
       "    </tr>\n",
       "  </tbody>\n",
       "</table>\n",
       "</div>"
      ],
      "text/plain": [
       "  news_type                                               news\n",
       "0      True  As U.S. budget fight looms, Republicans flip t...\n",
       "1      True  U.S. military to accept transgender recruits o...\n",
       "2      True  Senior U.S. Republican senator: 'Let Mr. Muell...\n",
       "3      True  FBI Russia probe helped by Australian diplomat...\n",
       "4      True  Trump wants Postal Service to charge 'much mor..."
      ]
     },
     "execution_count": 28,
     "metadata": {},
     "output_type": "execute_result"
    }
   ],
   "source": [
    "df_merged = pd.concat([trueDF, fakeDF])\n",
    "df_merged['news'] = df_merged['title'] + df_merged['text']\n",
    "df_merged = df_merged.drop(columns = ['title', 'text'])\n",
    "df_merged.head(5)"
   ]
  },
  {
   "cell_type": "markdown",
   "id": "eb804a2f",
   "metadata": {},
   "source": [
    "#### 3D. Preprocess your data by cleaning the textual data in the “news” column and removing the stop words, special characters, punctuations, etc especially at the beginning and end of each word. You can display any messy news text before you clean the data, then display the messy news text again after cleaning the data to see if your data cleaning worked well. Also, drop instances where the news text is less than 50 words. "
   ]
  },
  {
   "cell_type": "code",
   "execution_count": 29,
   "id": "5045f3ef",
   "metadata": {},
   "outputs": [
    {
     "name": "stdout",
     "output_type": "stream",
     "text": [
      "{'had', 'once', 'was', 'too', 'mustn', 'can', \"aren't\", 'other', 'not', 'have', 'that', 'shan', 'mightn', 'or', 'be', 'does', 'its', 'down', 'is', 'nor', 'an', 'no', 't', 'hers', \"hasn't\", 'your', 'them', 'at', 'our', 'few', 'so', 'to', 'himself', 'the', 'being', 'then', 'we', 'his', 'out', \"shouldn't\", 'a', 'theirs', \"didn't\", 'during', 'now', 'haven', 'some', 'they', \"mightn't\", 'he', 'what', 'both', \"wouldn't\", 'same', 'don', 'ma', 'before', 'i', 're', 'but', 'myself', 'been', 'll', 'hasn', 'me', 'all', 'themselves', 'with', 'these', 'him', 'you', 'from', 'here', 'than', 'when', 'own', \"couldn't\", \"isn't\", 'hadn', 'while', 'and', 'into', \"you'd\", 'shouldn', 'ours', 'will', 'against', \"needn't\", 'about', 'were', \"hadn't\", 'did', 'only', 'further', 'ain', 'which', \"she's\", 'more', 'has', 'o', 'if', 'couldn', \"wasn't\", 'wouldn', 'on', 'their', 'wasn', 's', 'should', 'such', 'any', \"weren't\", 'again', \"mustn't\", 'didn', \"you've\", 'off', 'are', 'most', 've', 'because', 'this', 'very', 'do', 'doesn', 'yourself', 'isn', 'needn', \"you'll\", 'just', 'in', \"that'll\", 'by', 'her', 'd', 'herself', 'for', \"haven't\", 'those', 'over', \"don't\", 'whom', \"doesn't\", 'yours', 'y', 'under', 'aren', 'ourselves', 'she', 'through', 'why', \"should've\", 'where', 'after', 'doing', 'm', 'having', \"won't\", 'as', 'it', 'between', 'above', 'who', 'my', 'weren', 'there', 'yourselves', 'up', 'below', \"you're\", 'each', 'itself', \"shan't\", 'until', 'how', 'won', \"it's\", 'am', 'of'}\n"
     ]
    }
   ],
   "source": [
    "sw = set(stopwords.words(\"english\"))\n",
    "print(sw)"
   ]
  },
  {
   "cell_type": "code",
   "execution_count": 30,
   "id": "4146452f",
   "metadata": {},
   "outputs": [
    {
     "name": "stdout",
     "output_type": "stream",
     "text": [
      "{'!', '}', '(', '\"', '-', '{', '[', ',', ';', '~', \"'\", '@', '^', '>', '*', '_', '?', '\\\\', '#', '$', ')', '`', '<', '=', '.', '/', '+', '|', '&', ']', '%', ':'}\n"
     ]
    }
   ],
   "source": [
    "print(set(string.punctuation))"
   ]
  },
  {
   "cell_type": "code",
   "execution_count": 31,
   "id": "7085b80c",
   "metadata": {},
   "outputs": [
    {
     "data": {
      "text/html": [
       "<div>\n",
       "<style scoped>\n",
       "    .dataframe tbody tr th:only-of-type {\n",
       "        vertical-align: middle;\n",
       "    }\n",
       "\n",
       "    .dataframe tbody tr th {\n",
       "        vertical-align: top;\n",
       "    }\n",
       "\n",
       "    .dataframe thead th {\n",
       "        text-align: right;\n",
       "    }\n",
       "</style>\n",
       "<table border=\"1\" class=\"dataframe\">\n",
       "  <thead>\n",
       "    <tr style=\"text-align: right;\">\n",
       "      <th></th>\n",
       "      <th>news_type</th>\n",
       "      <th>news</th>\n",
       "    </tr>\n",
       "  </thead>\n",
       "  <tbody>\n",
       "    <tr>\n",
       "      <th>0</th>\n",
       "      <td>True</td>\n",
       "      <td>u.s budget fight looms republicans flip fiscal...</td>\n",
       "    </tr>\n",
       "    <tr>\n",
       "      <th>1</th>\n",
       "      <td>True</td>\n",
       "      <td>u.s military accept transgender recruits monda...</td>\n",
       "    </tr>\n",
       "    <tr>\n",
       "      <th>2</th>\n",
       "      <td>True</td>\n",
       "      <td>senior u.s republican senator let mr mueller j...</td>\n",
       "    </tr>\n",
       "    <tr>\n",
       "      <th>3</th>\n",
       "      <td>True</td>\n",
       "      <td>fbi russia probe helped australian diplomat ti...</td>\n",
       "    </tr>\n",
       "    <tr>\n",
       "      <th>4</th>\n",
       "      <td>True</td>\n",
       "      <td>trump wants postal service charge much amazon ...</td>\n",
       "    </tr>\n",
       "  </tbody>\n",
       "</table>\n",
       "</div>"
      ],
      "text/plain": [
       "  news_type                                               news\n",
       "0      True  u.s budget fight looms republicans flip fiscal...\n",
       "1      True  u.s military accept transgender recruits monda...\n",
       "2      True  senior u.s republican senator let mr mueller j...\n",
       "3      True  fbi russia probe helped australian diplomat ti...\n",
       "4      True  trump wants postal service charge much amazon ..."
      ]
     },
     "execution_count": 31,
     "metadata": {},
     "output_type": "execute_result"
    }
   ],
   "source": [
    "import re\n",
    "def clean(text,stopwords):\n",
    "    text = re.sub(r'<[^<>]*>',' ',text)\n",
    "    text_list = text.split()\n",
    "    text_words = []\n",
    "    \n",
    "    punctuation = set(string.punctuation)\n",
    "    \n",
    "    for word in text_list:\n",
    "        while len(word) > 0 and word[0] in punctuation:\n",
    "            word = word[1:]\n",
    "        while len(word) > 0 and word[-1] in punctuation:\n",
    "            word = word[:-1]\n",
    "        if len(word) > 0 and \"/\" not in word:\n",
    "            if word. lower() not in stopwords:\n",
    "                text_words.append(word.lower())\n",
    "        cleaner_text = \" \".join(text_words)\n",
    "    return cleaner_text\n",
    "            \n",
    "df_merged[\"news\"] = df_merged[\"news\"].apply(clean, stopwords = sw)\n",
    "\n",
    "df_merged = df_merged[df_merged[\"news\"].str.len()>50]\n",
    "\n",
    "df_merged.head()"
   ]
  },
  {
   "cell_type": "code",
   "execution_count": 32,
   "id": "078eede6",
   "metadata": {},
   "outputs": [
    {
     "data": {
      "text/plain": [
       "(44828, 2)"
      ]
     },
     "execution_count": 32,
     "metadata": {},
     "output_type": "execute_result"
    }
   ],
   "source": [
    "df_merged.shape"
   ]
  },
  {
   "cell_type": "markdown",
   "id": "dac143cc",
   "metadata": {},
   "source": [
    "#### 3E. Transform the input text data into feature vectors where the entries of the feature vectors are term-frequency-inverse-document-frequency. Use the TfidfVectorizer() in sklearn. "
   ]
  },
  {
   "cell_type": "code",
   "execution_count": 33,
   "id": "c3611230",
   "metadata": {},
   "outputs": [],
   "source": [
    "texts = df_merged['news']\n",
    "\n",
    "tfidf = TfidfVectorizer(ngram_range=(1,2), stop_words=\"english\", min_df=10, max_features = None)\n",
    "\n",
    "matrix = tfidf.fit_transform(texts)"
   ]
  },
  {
   "cell_type": "markdown",
   "id": "95d75016",
   "metadata": {},
   "source": [
    "#### 3F. Split the feature vectors and the output variable into into X_train, y_train, X_test and y_test, you can let the test set be 30% of the entire data. "
   ]
  },
  {
   "cell_type": "code",
   "execution_count": 34,
   "id": "4b8eb45f",
   "metadata": {},
   "outputs": [],
   "source": [
    "y = df_merged['news_type']\n",
    "X = matrix\n",
    "\n",
    "X_train, X_test, y_train, y_test = train_test_split(X, y, test_size = 0.3, random_state = 42)"
   ]
  },
  {
   "cell_type": "markdown",
   "id": "b860b748",
   "metadata": {},
   "source": [
    "#### 3G. Fit an appropriate Naïve Bayes model and compute the training and test accuracy of the model. Is there overfitting?"
   ]
  },
  {
   "cell_type": "code",
   "execution_count": 35,
   "id": "818b61b7",
   "metadata": {},
   "outputs": [
    {
     "name": "stdout",
     "output_type": "stream",
     "text": [
      "Accuracy of Test: 0.9518179790318982\n",
      "Accuracy of Train: 0.9574874916345326\n"
     ]
    }
   ],
   "source": [
    "multi = MultinomialNB()\n",
    "\n",
    "y_pred_test = multi.fit(X_train, y_train).predict(X_test)\n",
    "print('Accuracy of Test: ' + str(accuracy_score(y_pred_test, y_test)))\n",
    "\n",
    "y_pred_train = multi.fit(X_train, y_train).predict(X_train)\n",
    "print('Accuracy of Train: ' + str(accuracy_score(y_pred_train, y_train)))"
   ]
  },
  {
   "cell_type": "markdown",
   "id": "c4556bbb",
   "metadata": {},
   "source": [
    "No, there is not overfitting as both the accuracy of the test and training sets are very similar"
   ]
  },
  {
   "cell_type": "markdown",
   "id": "fe63d04e",
   "metadata": {},
   "source": [
    "#### 3H. Fit a Naïve Bayes using cross validation and print the average cross validation score as well as the standard deviation of the cross-validation scores. "
   ]
  },
  {
   "cell_type": "code",
   "execution_count": 36,
   "id": "f1ab50d8",
   "metadata": {},
   "outputs": [
    {
     "name": "stdout",
     "output_type": "stream",
     "text": [
      "Average cross validation score:  0.947257658975316\n",
      "Standard deviation of cross validation scores:  0.0034758255149045197\n"
     ]
    }
   ],
   "source": [
    "scores = cross_val_score(estimator = MultinomialNB(),X = X_train, y = y_train, cv = 5)\n",
    "print(\"Average cross validation score: \", scores.mean())\n",
    "print(\"Standard deviation of cross validation scores: \", scores.std())"
   ]
  },
  {
   "cell_type": "markdown",
   "id": "51fbea53",
   "metadata": {},
   "source": [
    "#### 3I. Select some hypermeters of your choice and tune using the grid search cross validation. Use some other hyperparameters than those used in class examples. "
   ]
  },
  {
   "cell_type": "code",
   "execution_count": 37,
   "id": "e718f80b",
   "metadata": {},
   "outputs": [
    {
     "data": {
      "text/plain": [
       "{'alpha': 1.0, 'class_prior': None, 'fit_prior': True}"
      ]
     },
     "execution_count": 37,
     "metadata": {},
     "output_type": "execute_result"
    }
   ],
   "source": [
    "multi.get_params()"
   ]
  },
  {
   "cell_type": "code",
   "execution_count": 38,
   "id": "0cc015e5",
   "metadata": {},
   "outputs": [
    {
     "name": "stderr",
     "output_type": "stream",
     "text": [
      "/mnt/c/users/rainb/desktop/scripts/COMP4447/dst1_env/lib/python3.8/site-packages/sklearn/naive_bayes.py:591: UserWarning: alpha too small will result in numeric errors, setting alpha = 1.0e-10\n",
      "  warnings.warn(\n",
      "/mnt/c/users/rainb/desktop/scripts/COMP4447/dst1_env/lib/python3.8/site-packages/sklearn/naive_bayes.py:591: UserWarning: alpha too small will result in numeric errors, setting alpha = 1.0e-10\n",
      "  warnings.warn(\n",
      "/mnt/c/users/rainb/desktop/scripts/COMP4447/dst1_env/lib/python3.8/site-packages/sklearn/naive_bayes.py:591: UserWarning: alpha too small will result in numeric errors, setting alpha = 1.0e-10\n",
      "  warnings.warn(\n",
      "/mnt/c/users/rainb/desktop/scripts/COMP4447/dst1_env/lib/python3.8/site-packages/sklearn/naive_bayes.py:591: UserWarning: alpha too small will result in numeric errors, setting alpha = 1.0e-10\n",
      "  warnings.warn(\n",
      "/mnt/c/users/rainb/desktop/scripts/COMP4447/dst1_env/lib/python3.8/site-packages/sklearn/naive_bayes.py:591: UserWarning: alpha too small will result in numeric errors, setting alpha = 1.0e-10\n",
      "  warnings.warn(\n",
      "/mnt/c/users/rainb/desktop/scripts/COMP4447/dst1_env/lib/python3.8/site-packages/sklearn/naive_bayes.py:591: UserWarning: alpha too small will result in numeric errors, setting alpha = 1.0e-10\n",
      "  warnings.warn(\n"
     ]
    },
    {
     "data": {
      "text/plain": [
       "{'alpha': 0}"
      ]
     },
     "execution_count": 38,
     "metadata": {},
     "output_type": "execute_result"
    }
   ],
   "source": [
    "param_grid = [{'alpha': [0, 1, 10, 100, 1000, 10000, 100000]}]\n",
    "grid = GridSearchCV(multi, param_grid, cv = 5)\n",
    "grid.fit(X_train, y_train)\n",
    "grid.best_params_"
   ]
  },
  {
   "cell_type": "code",
   "execution_count": 39,
   "id": "39934735",
   "metadata": {},
   "outputs": [
    {
     "data": {
      "text/plain": [
       "0.9911724401669907"
      ]
     },
     "execution_count": 39,
     "metadata": {},
     "output_type": "execute_result"
    }
   ],
   "source": [
    "grid.score(X_train,y_train)"
   ]
  },
  {
   "cell_type": "code",
   "execution_count": 40,
   "id": "413a06d8",
   "metadata": {},
   "outputs": [
    {
     "data": {
      "text/plain": [
       "0.9721912409844599"
      ]
     },
     "execution_count": 40,
     "metadata": {},
     "output_type": "execute_result"
    }
   ],
   "source": [
    "grid.score(X_test,y_test)"
   ]
  }
 ],
 "metadata": {
  "kernelspec": {
   "display_name": "Python 3 (ipykernel)",
   "language": "python",
   "name": "python3"
  },
  "language_info": {
   "codemirror_mode": {
    "name": "ipython",
    "version": 3
   },
   "file_extension": ".py",
   "mimetype": "text/x-python",
   "name": "python",
   "nbconvert_exporter": "python",
   "pygments_lexer": "ipython3",
   "version": "3.8.10"
  }
 },
 "nbformat": 4,
 "nbformat_minor": 5
}
