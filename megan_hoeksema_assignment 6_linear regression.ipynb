{
 "cells": [
  {
   "cell_type": "markdown",
   "id": "2cbf718d",
   "metadata": {},
   "source": [
    "### Megan Hoeksema\n",
    "\n",
    "### Assignment 6 - Linear Regression"
   ]
  },
  {
   "cell_type": "markdown",
   "id": "5bc8d99e",
   "metadata": {},
   "source": [
    "#### Packages"
   ]
  },
  {
   "cell_type": "code",
   "execution_count": 162,
   "id": "1dca1296",
   "metadata": {},
   "outputs": [],
   "source": [
    "import numpy as np\n",
    "%matplotlib inline\n",
    "import matplotlib.pyplot as plt\n",
    "import pandas as pd\n",
    "from patsy import dmatrix\n",
    "import seaborn as sns\n",
    "from sklearn.metrics import accuracy_score, mean_squared_error\n",
    "from sklearn.linear_model import SGDClassifier, LinearRegression, Lasso, Ridge\n",
    "from sklearn.model_selection import train_test_split, GridSearchCV\n",
    "from sklearn.preprocessing import StandardScaler\n",
    "import statsmodels.api as sm"
   ]
  },
  {
   "cell_type": "markdown",
   "id": "fd42a3e1",
   "metadata": {},
   "source": [
    "#### Data Import"
   ]
  },
  {
   "cell_type": "code",
   "execution_count": 7,
   "id": "97937ed5",
   "metadata": {},
   "outputs": [
    {
     "data": {
      "text/html": [
       "<div>\n",
       "<style scoped>\n",
       "    .dataframe tbody tr th:only-of-type {\n",
       "        vertical-align: middle;\n",
       "    }\n",
       "\n",
       "    .dataframe tbody tr th {\n",
       "        vertical-align: top;\n",
       "    }\n",
       "\n",
       "    .dataframe thead th {\n",
       "        text-align: right;\n",
       "    }\n",
       "</style>\n",
       "<table border=\"1\" class=\"dataframe\">\n",
       "  <thead>\n",
       "    <tr style=\"text-align: right;\">\n",
       "      <th></th>\n",
       "      <th>age</th>\n",
       "      <th>income</th>\n",
       "      <th>illness</th>\n",
       "      <th>reduced</th>\n",
       "      <th>health</th>\n",
       "    </tr>\n",
       "  </thead>\n",
       "  <tbody>\n",
       "    <tr>\n",
       "      <th>0</th>\n",
       "      <td>0.19</td>\n",
       "      <td>0.55</td>\n",
       "      <td>1</td>\n",
       "      <td>4</td>\n",
       "      <td>1</td>\n",
       "    </tr>\n",
       "    <tr>\n",
       "      <th>1</th>\n",
       "      <td>0.19</td>\n",
       "      <td>0.45</td>\n",
       "      <td>1</td>\n",
       "      <td>2</td>\n",
       "      <td>1</td>\n",
       "    </tr>\n",
       "    <tr>\n",
       "      <th>2</th>\n",
       "      <td>0.19</td>\n",
       "      <td>0.90</td>\n",
       "      <td>3</td>\n",
       "      <td>0</td>\n",
       "      <td>0</td>\n",
       "    </tr>\n",
       "    <tr>\n",
       "      <th>3</th>\n",
       "      <td>0.19</td>\n",
       "      <td>0.15</td>\n",
       "      <td>1</td>\n",
       "      <td>0</td>\n",
       "      <td>0</td>\n",
       "    </tr>\n",
       "    <tr>\n",
       "      <th>4</th>\n",
       "      <td>0.19</td>\n",
       "      <td>0.45</td>\n",
       "      <td>2</td>\n",
       "      <td>5</td>\n",
       "      <td>1</td>\n",
       "    </tr>\n",
       "  </tbody>\n",
       "</table>\n",
       "</div>"
      ],
      "text/plain": [
       "    age  income  illness  reduced  health\n",
       "0  0.19    0.55        1        4       1\n",
       "1  0.19    0.45        1        2       1\n",
       "2  0.19    0.90        3        0       0\n",
       "3  0.19    0.15        1        0       0\n",
       "4  0.19    0.45        2        5       1"
      ]
     },
     "execution_count": 7,
     "metadata": {},
     "output_type": "execute_result"
    }
   ],
   "source": [
    "healthDF = pd.read_csv('Health_Data.csv')\n",
    "healthDF.head()"
   ]
  },
  {
   "cell_type": "code",
   "execution_count": 68,
   "id": "64210f69",
   "metadata": {},
   "outputs": [
    {
     "data": {
      "text/html": [
       "<div>\n",
       "<style scoped>\n",
       "    .dataframe tbody tr th:only-of-type {\n",
       "        vertical-align: middle;\n",
       "    }\n",
       "\n",
       "    .dataframe tbody tr th {\n",
       "        vertical-align: top;\n",
       "    }\n",
       "\n",
       "    .dataframe thead th {\n",
       "        text-align: right;\n",
       "    }\n",
       "</style>\n",
       "<table border=\"1\" class=\"dataframe\">\n",
       "  <thead>\n",
       "    <tr style=\"text-align: right;\">\n",
       "      <th></th>\n",
       "      <th>age</th>\n",
       "      <th>income</th>\n",
       "      <th>illness</th>\n",
       "      <th>reduced</th>\n",
       "      <th>health</th>\n",
       "    </tr>\n",
       "  </thead>\n",
       "  <tbody>\n",
       "    <tr>\n",
       "      <th>0</th>\n",
       "      <td>-1.056765</td>\n",
       "      <td>-0.089896</td>\n",
       "      <td>-0.312123</td>\n",
       "      <td>1.086862</td>\n",
       "      <td>1</td>\n",
       "    </tr>\n",
       "    <tr>\n",
       "      <th>1</th>\n",
       "      <td>-1.056765</td>\n",
       "      <td>-0.360993</td>\n",
       "      <td>-0.312123</td>\n",
       "      <td>0.394185</td>\n",
       "      <td>1</td>\n",
       "    </tr>\n",
       "    <tr>\n",
       "      <th>2</th>\n",
       "      <td>-1.056765</td>\n",
       "      <td>0.858945</td>\n",
       "      <td>1.132944</td>\n",
       "      <td>-0.298492</td>\n",
       "      <td>0</td>\n",
       "    </tr>\n",
       "    <tr>\n",
       "      <th>3</th>\n",
       "      <td>-1.056765</td>\n",
       "      <td>-1.174285</td>\n",
       "      <td>-0.312123</td>\n",
       "      <td>-0.298492</td>\n",
       "      <td>0</td>\n",
       "    </tr>\n",
       "    <tr>\n",
       "      <th>4</th>\n",
       "      <td>-1.056765</td>\n",
       "      <td>-0.360993</td>\n",
       "      <td>0.410410</td>\n",
       "      <td>1.433200</td>\n",
       "      <td>1</td>\n",
       "    </tr>\n",
       "  </tbody>\n",
       "</table>\n",
       "</div>"
      ],
      "text/plain": [
       "        age    income   illness   reduced  health\n",
       "0 -1.056765 -0.089896 -0.312123  1.086862       1\n",
       "1 -1.056765 -0.360993 -0.312123  0.394185       1\n",
       "2 -1.056765  0.858945  1.132944 -0.298492       0\n",
       "3 -1.056765 -1.174285 -0.312123 -0.298492       0\n",
       "4 -1.056765 -0.360993  0.410410  1.433200       1"
      ]
     },
     "execution_count": 68,
     "metadata": {},
     "output_type": "execute_result"
    }
   ],
   "source": [
    "scaler = StandardScaler()\n",
    "contCols = ['age', 'income', 'illness', 'reduced']\n",
    "contCols\n",
    "healthDF.loc[:,contCols] = scaler.fit_transform(healthDF.loc[:,contCols])\n",
    "healthDF.head(5)"
   ]
  },
  {
   "cell_type": "markdown",
   "id": "f0495618",
   "metadata": {},
   "source": [
    "### Question 1"
   ]
  },
  {
   "cell_type": "markdown",
   "id": "a1ddac9f",
   "metadata": {},
   "source": [
    "#### 1A. Implement batch gradient descent from scratch to find the regression parameters as in the pseudo code below"
   ]
  },
  {
   "cell_type": "code",
   "execution_count": 90,
   "id": "a3876b9d",
   "metadata": {},
   "outputs": [
    {
     "name": "stdout",
     "output_type": "stream",
     "text": [
      "[[ 1.         -1.05676475 -0.08989568 -0.31212329  1.08686168]\n",
      " [ 1.         -1.05676475 -0.36099305 -0.31212329  0.39418505]\n",
      " [ 1.         -1.05676475  0.85894511  1.13294351 -0.29849158]\n",
      " ...\n",
      " [ 1.         -0.17769577 -0.90318779 -0.31212329 -0.29849158]\n",
      " [ 1.          0.55486172  0.18120169 -1.03465669 -0.29849158]\n",
      " [ 1.          1.53160503 -0.90318779 -1.03465669 -0.29849158]]\n"
     ]
    }
   ],
   "source": [
    "x = dmatrix('age + income + illness + reduced', healthDF)[:]\n",
    "print(x)"
   ]
  },
  {
   "cell_type": "code",
   "execution_count": 70,
   "id": "fbb28ee4",
   "metadata": {},
   "outputs": [],
   "source": [
    "target = healthDF['health']"
   ]
  },
  {
   "cell_type": "code",
   "execution_count": 124,
   "id": "65e4d52c",
   "metadata": {},
   "outputs": [
    {
     "name": "stdout",
     "output_type": "stream",
     "text": [
      "0.608766859344893 0.608766859344893 -0.14917432015656173 -0.10664739711333239 0.7796034586172929\n"
     ]
    }
   ],
   "source": [
    "b0 = 0\n",
    "b1 = 0\n",
    "b2 = 0\n",
    "b3 = 0\n",
    "b4 = 0\n",
    "\n",
    "alpha = 0.01\n",
    "iterations = 10000\n",
    "\n",
    "x1 = np.array(x[:,0])\n",
    "x2 = np.array(x[:,1])\n",
    "x3 = np.array(x[:,2])\n",
    "x4 = np.array(x[:,3])\n",
    "y = np.array(target)\n",
    "\n",
    "n = len(healthDF)\n",
    "\n",
    "for i in range(iterations):\n",
    "    predicted_y = b0 + b1 * x1 + b2 * x2 + b3 * x3 + b4 * x4\n",
    "    errors =  y - predicted_y\n",
    "    b0 = b0 + alpha * (1/n) * sum(errors)\n",
    "    b1 = b1 + alpha * (1/n) * sum(errors * x1)\n",
    "    b2 = b2 + alpha * (1/n) * sum(errors * x2)\n",
    "    b3 = b3 + alpha * (1/n) * sum(errors * x3)\n",
    "    b4 = b4 + alpha * (1/n) * sum(errors * x4)\n",
    "\n",
    "print(b0, b1, b2, b3, b4)"
   ]
  },
  {
   "cell_type": "markdown",
   "id": "d2a118f2",
   "metadata": {},
   "source": [
    "#### 1B. Now, use a vectorized or matrix implementation instead of having a line of code for each x or b. That mean, you can a create a vector of b’s and a feature matrix, X where you have an additional column for x0 whose values are 1’s. x0 corresponds to b0. You can still implement it as described in the code above. "
   ]
  },
  {
   "cell_type": "code",
   "execution_count": 126,
   "id": "d1597706",
   "metadata": {},
   "outputs": [
    {
     "name": "stdout",
     "output_type": "stream",
     "text": [
      "[0 0 0 0 0]\n"
     ]
    }
   ],
   "source": [
    "b = np.array([0, 0, 0, 0, 0])\n",
    "\n",
    "alpha = 0.01\n",
    "iterations = 10000\n",
    "\n",
    "n = len(healthDF)\n",
    "\n",
    "for i in range(iterations):\n",
    "    predicted_y = b[0] + b[1] * x[:,0] + b[2] * x[:,1]  + b[3] * x[:,2] + b[4] * x[:,3]\n",
    "    errors =  y - predicted_y\n",
    "    b[0] = b[0] + alpha * (1/n) * sum(errors)\n",
    "    b[1] = b[1] + alpha * (1/n) * sum(errors * x[:,0])\n",
    "    b[2] = b[2] + alpha * (1/n) * sum(errors * x[:,1])\n",
    "    b[3] = b[3] + alpha * (1/n) * sum(errors * x[:,2])\n",
    "    b[4] = b[4] + alpha * (1/n) * sum(errors * x[:,3])\n",
    "print(b)"
   ]
  },
  {
   "cell_type": "markdown",
   "id": "1fe9654f",
   "metadata": {},
   "source": [
    "#### 1C. Use the scikit-learn package to implement the stochastic gradient descent to find the parameters of the regression equation."
   ]
  },
  {
   "cell_type": "code",
   "execution_count": 98,
   "id": "dbeb63db",
   "metadata": {},
   "outputs": [
    {
     "name": "stderr",
     "output_type": "stream",
     "text": [
      "/mnt/c/users/rainb/desktop/scripts/COMP4447/dst1_env/lib/python3.8/site-packages/sklearn/linear_model/_stochastic_gradient.py:705: ConvergenceWarning: Maximum number of iteration reached before convergence. Consider increasing max_iter to improve the fit.\n",
      "  warnings.warn(\n"
     ]
    },
    {
     "data": {
      "text/plain": [
       "array([[ 0.37107128,  0.35086981, -1.12985899, -1.72448836, -0.62482646],\n",
       "       [ 1.85535641, -0.69213038,  0.74863916, -0.31098855, -1.06787307],\n",
       "       [ 2.96857026,  0.12489214,  1.41309905,  0.41399706,  0.1420364 ],\n",
       "       [ 2.96857026, -0.32815961, -0.5284124 ,  0.14588566,  0.91313362],\n",
       "       [ 2.59749898, -0.24409974, -0.35421967,  0.26170565, -0.26126675],\n",
       "       [ 2.96857026, -0.74496721, -0.41775631, -0.12222573, -0.2435122 ],\n",
       "       [ 2.96857026, -0.83557756, -0.44793525,  0.68210845, -0.75757701],\n",
       "       [ 3.33964155, -0.55719603, -0.01854929,  0.29817707,  0.28830716],\n",
       "       [ 1.48428513, -0.53558223, -0.3748623 ,  0.07294283, -0.95711142],\n",
       "       [ 3.33964155,  0.16768676, -0.66236656, -0.23804572, -0.99685487],\n",
       "       [ 6.67928309, -0.22641064,  0.55642047, -0.20798005, -1.22261252],\n",
       "       [ 4.08178411, -0.9427806 ,  0.43783684, -0.7377971 , -0.57579716],\n",
       "       [ 3.33964155, -0.52095189, -0.23986147,  0.03006567, -1.38240347]])"
      ]
     },
     "execution_count": 98,
     "metadata": {},
     "output_type": "execute_result"
    }
   ],
   "source": [
    "clf = SGDClassifier(loss=\"hinge\", penalty=\"l2\", max_iter=5)\n",
    "clf.fit(x, y)\n",
    "clf.coef_"
   ]
  },
  {
   "cell_type": "markdown",
   "id": "fa65080c",
   "metadata": {},
   "source": [
    "### Question 2\n",
    "You will implement a multiple regression from a statistical perspective to explore the relationship between the input variables and the output variable. You will use the health data again.  "
   ]
  },
  {
   "cell_type": "markdown",
   "id": "94a72ba4",
   "metadata": {},
   "source": [
    "#### 2A. Use the statsmodels package (https://www.statsmodels.org/stable/regression.html#examples) to implement a multiple linear regression using the entire health data to get a more detailed regression summary. \n"
   ]
  },
  {
   "cell_type": "code",
   "execution_count": 10,
   "id": "e3cec6ac",
   "metadata": {},
   "outputs": [],
   "source": [
    "X = healthDF.drop(columns = ['health'])\n",
    "y = healthDF['health']"
   ]
  },
  {
   "cell_type": "code",
   "execution_count": 12,
   "id": "9e8067a2",
   "metadata": {},
   "outputs": [
    {
     "name": "stdout",
     "output_type": "stream",
     "text": [
      "                            OLS Regression Results                            \n",
      "==============================================================================\n",
      "Dep. Variable:                 health   R-squared:                       0.179\n",
      "Model:                            OLS   Adj. R-squared:                  0.179\n",
      "Method:                 Least Squares   F-statistic:                     282.9\n",
      "Date:                Sun, 06 Nov 2022   Prob (F-statistic):          2.35e-220\n",
      "Time:                        08:07:50   Log-Likelihood:                -10762.\n",
      "No. Observations:                5190   AIC:                         2.153e+04\n",
      "Df Residuals:                    5185   BIC:                         2.157e+04\n",
      "Df Model:                           4                                         \n",
      "Covariance Type:            nonrobust                                         \n",
      "==============================================================================\n",
      "                 coef    std err          t      P>|t|      [0.025      0.975]\n",
      "------------------------------------------------------------------------------\n",
      "age           -0.8436      0.138     -6.120      0.000      -1.114      -0.573\n",
      "income        -0.2857      0.076     -3.777      0.000      -0.434      -0.137\n",
      "illness        0.4949      0.020     24.442      0.000       0.455       0.535\n",
      "reduced        0.1583      0.009     16.671      0.000       0.140       0.177\n",
      "const          0.8819      0.087     10.168      0.000       0.712       1.052\n",
      "==============================================================================\n",
      "Omnibus:                     2321.918   Durbin-Watson:                   1.850\n",
      "Prob(Omnibus):                  0.000   Jarque-Bera (JB):            12281.302\n",
      "Skew:                           2.126   Prob(JB):                         0.00\n",
      "Kurtosis:                       9.222   Cond. No.                         18.7\n",
      "==============================================================================\n",
      "\n",
      "Notes:\n",
      "[1] Standard Errors assume that the covariance matrix of the errors is correctly specified.\n"
     ]
    }
   ],
   "source": [
    "feature_matrix = sm.add_constant(X, prepend=False)\n",
    "model = sm.OLS(y, feature_matrix)\n",
    "res = model.fit()\n",
    "print(res.summary())"
   ]
  },
  {
   "cell_type": "markdown",
   "id": "8eb6fc4b",
   "metadata": {},
   "source": [
    "#### 2B. Does the model fit the data overall? That is, do all the x’s overall explain a good amount of variance in health outcome? Use information from your results to support your answer."
   ]
  },
  {
   "cell_type": "markdown",
   "id": "68c24659",
   "metadata": {},
   "source": [
    "No, the model does not fit the data well"
   ]
  },
  {
   "cell_type": "markdown",
   "id": "8ff31321",
   "metadata": {},
   "source": [
    "#### 2C. Do age, income, illness and reduced variables individually  significantly predict health score? Use information from your summary of the regression results to support your answer."
   ]
  },
  {
   "cell_type": "markdown",
   "id": "1114f158",
   "metadata": {},
   "source": [
    "No, the input variables do not significantly predict health score"
   ]
  },
  {
   "cell_type": "markdown",
   "id": "fb5ed9bb",
   "metadata": {},
   "source": [
    "#### 2D. Which variable is the best predictor of health score? Why? "
   ]
  },
  {
   "cell_type": "markdown",
   "id": "1ce0d02f",
   "metadata": {},
   "source": [
    "Illness is the best predictor of heath score because the coefficient is the highest among all the input variables at 0.49."
   ]
  },
  {
   "cell_type": "markdown",
   "id": "4945fb6a",
   "metadata": {},
   "source": [
    "#### 2E. Extract the residuals of the model and test the assumptions normality and homogeneity of variance for the regression model. Are the assumptions met? Use reg.resid syntax to extract the residuals."
   ]
  },
  {
   "cell_type": "code",
   "execution_count": 13,
   "id": "1726cbef",
   "metadata": {},
   "outputs": [
    {
     "name": "stdout",
     "output_type": "stream",
     "text": [
      "0      -0.692625\n",
      "1      -0.404543\n",
      "2      -1.949059\n",
      "3      -1.173603\n",
      "4      -1.374393\n",
      "          ...   \n",
      "5185   -0.539141\n",
      "5186    0.717322\n",
      "5187    0.006814\n",
      "5188   -0.257493\n",
      "5189   -0.203060\n",
      "Length: 5190, dtype: float64\n"
     ]
    }
   ],
   "source": [
    "print(res.resid)"
   ]
  },
  {
   "cell_type": "markdown",
   "id": "6824dcd9",
   "metadata": {},
   "source": [
    "#### 2F. To further verify the normality assumption, create a histogram for the residuals. Does the histogram look like a normal distribution? "
   ]
  },
  {
   "cell_type": "code",
   "execution_count": 16,
   "id": "c6fe2570",
   "metadata": {},
   "outputs": [
    {
     "data": {
      "image/png": "[encoded data removed]",
      "text/plain": [
       "<Figure size 432x288 with 1 Axes>"
      ]
     },
     "metadata": {
      "needs_background": "light"
     },
     "output_type": "display_data"
    }
   ],
   "source": [
    "sns.histplot(res.resid, bins = 10) # you may select the no. of bins       \n",
    "plt.xlabel('Residuals', fontsize = 15)     \n",
    "plt.show()"
   ]
  },
  {
   "cell_type": "markdown",
   "id": "a1a8909c",
   "metadata": {},
   "source": [
    "#### 2G. Test the linearity assumption by creating separate scatter plots for each input variable versus output variable. According to your plots, are the linearity assumptions met? "
   ]
  },
  {
   "cell_type": "code",
   "execution_count": 25,
   "id": "42763d9f",
   "metadata": {},
   "outputs": [
    {
     "data": {
      "text/plain": [
       "<AxesSubplot:xlabel='age', ylabel='health'>"
      ]
     },
     "execution_count": 25,
     "metadata": {},
     "output_type": "execute_result"
    },
    {
     "data": {
      "image/png": "[encoded data removed]",
      "text/plain": [
       "<Figure size 432x288 with 1 Axes>"
      ]
     },
     "metadata": {
      "needs_background": "light"
     },
     "output_type": "display_data"
    }
   ],
   "source": [
    "sns.regplot(X['age'], y)"
   ]
  },
  {
   "cell_type": "code",
   "execution_count": 28,
   "id": "89388c17",
   "metadata": {},
   "outputs": [
    {
     "data": {
      "text/plain": [
       "<AxesSubplot:xlabel='income', ylabel='health'>"
      ]
     },
     "execution_count": 28,
     "metadata": {},
     "output_type": "execute_result"
    },
    {
     "data": {
      "image/png": "[encoded data removed]",
      "text/plain": [
       "<Figure size 432x288 with 1 Axes>"
      ]
     },
     "metadata": {
      "needs_background": "light"
     },
     "output_type": "display_data"
    }
   ],
   "source": [
    "sns.regplot(X['income'], y)"
   ]
  },
  {
   "cell_type": "code",
   "execution_count": 31,
   "id": "b4ad2063",
   "metadata": {},
   "outputs": [
    {
     "data": {
      "text/plain": [
       "<AxesSubplot:xlabel='illness', ylabel='health'>"
      ]
     },
     "execution_count": 31,
     "metadata": {},
     "output_type": "execute_result"
    },
    {
     "data": {
      "image/png": "[encoded data removed]",
      "text/plain": [
       "<Figure size 432x288 with 1 Axes>"
      ]
     },
     "metadata": {
      "needs_background": "light"
     },
     "output_type": "display_data"
    }
   ],
   "source": [
    "sns.regplot(X['illness'], y)"
   ]
  },
  {
   "cell_type": "code",
   "execution_count": 33,
   "id": "2313eced",
   "metadata": {},
   "outputs": [
    {
     "data": {
      "text/plain": [
       "<AxesSubplot:xlabel='reduced', ylabel='health'>"
      ]
     },
     "execution_count": 33,
     "metadata": {},
     "output_type": "execute_result"
    },
    {
     "data": {
      "image/png": "[encoded data removed]",
      "text/plain": [
       "<Figure size 432x288 with 1 Axes>"
      ]
     },
     "metadata": {
      "needs_background": "light"
     },
     "output_type": "display_data"
    }
   ],
   "source": [
    "sns.regplot(X['reduced'], y)"
   ]
  },
  {
   "cell_type": "markdown",
   "id": "a07b8ca9",
   "metadata": {},
   "source": [
    "#### 2H. Extract the predicted output values from the model, then create a scatter plot of the predicted output versus actual output (from the data provided). This plot is also used to evaluate the accuracy of the model. According to the plot, is your model good for predicting health scores? Use the reg.predict() method to extract the predicted values. "
   ]
  },
  {
   "cell_type": "code",
   "execution_count": 38,
   "id": "f094498f",
   "metadata": {},
   "outputs": [
    {
     "name": "stdout",
     "output_type": "stream",
     "text": [
      "[1.69262487 1.40454262 1.9490591  ... 0.9931855  0.25749286 0.20305953]\n"
     ]
    }
   ],
   "source": [
    "pred = res.predict()\n",
    "print(pred)"
   ]
  },
  {
   "cell_type": "code",
   "execution_count": 45,
   "id": "747a706b",
   "metadata": {},
   "outputs": [
    {
     "data": {
      "image/png": "[encoded data removed]",
      "text/plain": [
       "<Figure size 432x432 with 1 Axes>"
      ]
     },
     "metadata": {
      "needs_background": "light"
     },
     "output_type": "display_data"
    }
   ],
   "source": [
    "plt.figure(figsize=(6,6))\n",
    "plt.scatter(y, pred)\n",
    "plt.xlabel('Actual', fontsize=15)\n",
    "plt.ylabel('Predictions', fontsize=15)\n",
    "plt.show()"
   ]
  },
  {
   "cell_type": "markdown",
   "id": "5cab7044",
   "metadata": {},
   "source": [
    "#### According to the plot, is your model good for predicting health scores?"
   ]
  },
  {
   "cell_type": "markdown",
   "id": "982ea13e",
   "metadata": {},
   "source": [
    "No this is not a good model for predicting health sccores"
   ]
  },
  {
   "cell_type": "markdown",
   "id": "54968a9e",
   "metadata": {},
   "source": [
    "#### 2I. Check for multi-collinearity by generating a covariance matrix for the input data . You can use the .cov() method of pandas (https://pandas.pydata.org/pandas-docs/stable/reference/api/pandas.DataFrame.cov.html). Do you think there is multicollinearity among the input variables? "
   ]
  },
  {
   "cell_type": "code",
   "execution_count": 49,
   "id": "59f08a92",
   "metadata": {},
   "outputs": [
    {
     "data": {
      "text/html": [
       "<div>\n",
       "<style scoped>\n",
       "    .dataframe tbody tr th:only-of-type {\n",
       "        vertical-align: middle;\n",
       "    }\n",
       "\n",
       "    .dataframe tbody tr th {\n",
       "        vertical-align: top;\n",
       "    }\n",
       "\n",
       "    .dataframe thead th {\n",
       "        text-align: right;\n",
       "    }\n",
       "</style>\n",
       "<table border=\"1\" class=\"dataframe\">\n",
       "  <thead>\n",
       "    <tr style=\"text-align: right;\">\n",
       "      <th></th>\n",
       "      <th>age</th>\n",
       "      <th>income</th>\n",
       "      <th>illness</th>\n",
       "      <th>reduced</th>\n",
       "      <th>health</th>\n",
       "    </tr>\n",
       "  </thead>\n",
       "  <tbody>\n",
       "    <tr>\n",
       "      <th>age</th>\n",
       "      <td>0.041936</td>\n",
       "      <td>-0.020478</td>\n",
       "      <td>0.058103</td>\n",
       "      <td>0.056026</td>\n",
       "      <td>0.008098</td>\n",
       "    </tr>\n",
       "    <tr>\n",
       "      <th>income</th>\n",
       "      <td>-0.020478</td>\n",
       "      <td>0.136092</td>\n",
       "      <td>-0.075987</td>\n",
       "      <td>-0.050648</td>\n",
       "      <td>-0.067230</td>\n",
       "    </tr>\n",
       "    <tr>\n",
       "      <th>illness</th>\n",
       "      <td>0.058103</td>\n",
       "      <td>-0.075987</td>\n",
       "      <td>1.915878</td>\n",
       "      <td>0.871793</td>\n",
       "      <td>1.058834</td>\n",
       "    </tr>\n",
       "    <tr>\n",
       "      <th>reduced</th>\n",
       "      <td>0.056026</td>\n",
       "      <td>-0.050648</td>\n",
       "      <td>0.871793</td>\n",
       "      <td>8.338398</td>\n",
       "      <td>1.718823</td>\n",
       "    </tr>\n",
       "    <tr>\n",
       "      <th>health</th>\n",
       "      <td>0.008098</td>\n",
       "      <td>-0.067230</td>\n",
       "      <td>1.058834</td>\n",
       "      <td>1.718823</td>\n",
       "      <td>4.512508</td>\n",
       "    </tr>\n",
       "  </tbody>\n",
       "</table>\n",
       "</div>"
      ],
      "text/plain": [
       "              age    income   illness   reduced    health\n",
       "age      0.041936 -0.020478  0.058103  0.056026  0.008098\n",
       "income  -0.020478  0.136092 -0.075987 -0.050648 -0.067230\n",
       "illness  0.058103 -0.075987  1.915878  0.871793  1.058834\n",
       "reduced  0.056026 -0.050648  0.871793  8.338398  1.718823\n",
       "health   0.008098 -0.067230  1.058834  1.718823  4.512508"
      ]
     },
     "execution_count": 49,
     "metadata": {},
     "output_type": "execute_result"
    }
   ],
   "source": [
    "healthDF.cov()"
   ]
  },
  {
   "cell_type": "markdown",
   "id": "427a6a92",
   "metadata": {},
   "source": [
    "#### Do you think there is multicollinearity among the input variables?"
   ]
  },
  {
   "cell_type": "markdown",
   "id": "afff4655",
   "metadata": {},
   "source": [
    "No, the numbers are very low, indicating low collinearity."
   ]
  },
  {
   "cell_type": "markdown",
   "id": "d04f4e14",
   "metadata": {},
   "source": [
    "### Question 3\n",
    "Find your own dataset from an online source with at least 3 input variables. Here is a suggested source of data but you don’t have to use it: https://vincentarelbundock.github.io/Rdatasets/articles/data.html.  There should be one output variable of interest in the data. All the data used for analysis should be continuous. Clean the data as you find necessary, standardize the data and split it into training and test data using an appropriate split ratio. "
   ]
  },
  {
   "cell_type": "markdown",
   "id": "c55d35df",
   "metadata": {},
   "source": [
    "#### Data Loading"
   ]
  },
  {
   "cell_type": "code",
   "execution_count": 127,
   "id": "71463e57",
   "metadata": {},
   "outputs": [
    {
     "data": {
      "text/html": [
       "<div>\n",
       "<style scoped>\n",
       "    .dataframe tbody tr th:only-of-type {\n",
       "        vertical-align: middle;\n",
       "    }\n",
       "\n",
       "    .dataframe tbody tr th {\n",
       "        vertical-align: top;\n",
       "    }\n",
       "\n",
       "    .dataframe thead th {\n",
       "        text-align: right;\n",
       "    }\n",
       "</style>\n",
       "<table border=\"1\" class=\"dataframe\">\n",
       "  <thead>\n",
       "    <tr style=\"text-align: right;\">\n",
       "      <th></th>\n",
       "      <th>Unnamed: 0</th>\n",
       "      <th>GORE</th>\n",
       "      <th>BUSH</th>\n",
       "      <th>BUCHANAN</th>\n",
       "      <th>NADER</th>\n",
       "      <th>BROWNE</th>\n",
       "      <th>HAGELIN</th>\n",
       "      <th>HARRIS</th>\n",
       "      <th>MCREYNOLDS</th>\n",
       "      <th>MOOREHEAD</th>\n",
       "      <th>PHILLIPS</th>\n",
       "      <th>Total</th>\n",
       "    </tr>\n",
       "  </thead>\n",
       "  <tbody>\n",
       "    <tr>\n",
       "      <th>0</th>\n",
       "      <td>ALACHUA</td>\n",
       "      <td>47300</td>\n",
       "      <td>34062</td>\n",
       "      <td>262</td>\n",
       "      <td>3215</td>\n",
       "      <td>658</td>\n",
       "      <td>42</td>\n",
       "      <td>4</td>\n",
       "      <td>658</td>\n",
       "      <td>21</td>\n",
       "      <td>20</td>\n",
       "      <td>86242</td>\n",
       "    </tr>\n",
       "    <tr>\n",
       "      <th>1</th>\n",
       "      <td>BAKER</td>\n",
       "      <td>2392</td>\n",
       "      <td>5610</td>\n",
       "      <td>73</td>\n",
       "      <td>53</td>\n",
       "      <td>17</td>\n",
       "      <td>3</td>\n",
       "      <td>0</td>\n",
       "      <td>0</td>\n",
       "      <td>3</td>\n",
       "      <td>3</td>\n",
       "      <td>8154</td>\n",
       "    </tr>\n",
       "    <tr>\n",
       "      <th>2</th>\n",
       "      <td>BAY</td>\n",
       "      <td>18850</td>\n",
       "      <td>38637</td>\n",
       "      <td>248</td>\n",
       "      <td>828</td>\n",
       "      <td>171</td>\n",
       "      <td>18</td>\n",
       "      <td>5</td>\n",
       "      <td>3</td>\n",
       "      <td>37</td>\n",
       "      <td>18</td>\n",
       "      <td>58815</td>\n",
       "    </tr>\n",
       "    <tr>\n",
       "      <th>3</th>\n",
       "      <td>BRADFORD</td>\n",
       "      <td>3072</td>\n",
       "      <td>5413</td>\n",
       "      <td>65</td>\n",
       "      <td>84</td>\n",
       "      <td>28</td>\n",
       "      <td>2</td>\n",
       "      <td>0</td>\n",
       "      <td>0</td>\n",
       "      <td>3</td>\n",
       "      <td>2</td>\n",
       "      <td>8669</td>\n",
       "    </tr>\n",
       "    <tr>\n",
       "      <th>4</th>\n",
       "      <td>BREVARD</td>\n",
       "      <td>97318</td>\n",
       "      <td>115185</td>\n",
       "      <td>570</td>\n",
       "      <td>4470</td>\n",
       "      <td>643</td>\n",
       "      <td>39</td>\n",
       "      <td>11</td>\n",
       "      <td>11</td>\n",
       "      <td>76</td>\n",
       "      <td>72</td>\n",
       "      <td>218395</td>\n",
       "    </tr>\n",
       "  </tbody>\n",
       "</table>\n",
       "</div>"
      ],
      "text/plain": [
       "  Unnamed: 0   GORE    BUSH  BUCHANAN  NADER  BROWNE  HAGELIN  HARRIS  \\\n",
       "0    ALACHUA  47300   34062       262   3215     658       42       4   \n",
       "1      BAKER   2392    5610        73     53      17        3       0   \n",
       "2        BAY  18850   38637       248    828     171       18       5   \n",
       "3   BRADFORD   3072    5413        65     84      28        2       0   \n",
       "4    BREVARD  97318  115185       570   4470     643       39      11   \n",
       "\n",
       "   MCREYNOLDS  MOOREHEAD  PHILLIPS   Total  \n",
       "0         658         21        20   86242  \n",
       "1           0          3         3    8154  \n",
       "2           3         37        18   58815  \n",
       "3           0          3         2    8669  \n",
       "4          11         76        72  218395  "
      ]
     },
     "execution_count": 127,
     "metadata": {},
     "output_type": "execute_result"
    }
   ],
   "source": [
    "floridaDF = pd.read_csv('Florida.csv')\n",
    "floridaDF.head()"
   ]
  },
  {
   "cell_type": "code",
   "execution_count": 134,
   "id": "cf5c92ce",
   "metadata": {},
   "outputs": [],
   "source": [
    "X = floridaDF.drop(columns = ['Total', 'Unnamed: 0'])\n",
    "y = floridaDF['Total']\n",
    "\n",
    "X_train, X_test, y_train, y_test = train_test_split(X, y, test_size = 0.3, random_state = 42)"
   ]
  },
  {
   "cell_type": "markdown",
   "id": "5fbaa48a",
   "metadata": {},
   "source": [
    "#### 3A. Construct a linear regression model using ordinary least squares method by applying the .LinearRegression() constructor in sklearn and find the training and test accuracy of this model using mean square error (mse). https://scikit-learn.org/stable/modules/generated/sklearn.linear_model.LinearRegression.html"
   ]
  },
  {
   "cell_type": "code",
   "execution_count": 141,
   "id": "fea262ff",
   "metadata": {},
   "outputs": [
    {
     "name": "stdout",
     "output_type": "stream",
     "text": [
      "MSE of train: 1.411574724228127e-21\n",
      "MSE of test: 1.5294569526105482e-21\n"
     ]
    }
   ],
   "source": [
    "lr = LinearRegression()\n",
    "lr.fit(X_train, y_train)\n",
    "preds_train = lr.predict(X_train)\n",
    "preds_test = lr.predict(X_test)\n",
    "\n",
    "print('MSE of train: ' + str(mean_squared_error(y_train, preds_train)))\n",
    "print('MSE of test: ' + str(mean_squared_error(y_test, preds_test)))"
   ]
  },
  {
   "cell_type": "markdown",
   "id": "4074ab6c",
   "metadata": {},
   "source": [
    "#### 3B. Check for overfitting. Is there overfitting? Support your answer with some results you generated. "
   ]
  },
  {
   "cell_type": "markdown",
   "id": "ae735d02",
   "metadata": {},
   "source": [
    "Based on the MSE of the train and test sets, there is not overfitting."
   ]
  },
  {
   "cell_type": "markdown",
   "id": "ddb6efbb",
   "metadata": {},
   "source": [
    "#### 3C. Fit a lasso regression on the data and check the training and test accuracy of the model using mse. Use the default alpha or penalty constant. "
   ]
  },
  {
   "cell_type": "code",
   "execution_count": 153,
   "id": "f85fe0d4",
   "metadata": {},
   "outputs": [
    {
     "name": "stdout",
     "output_type": "stream",
     "text": [
      "MSE of train: 75.05281339536005\n",
      "MSE of test: 2651.748022970124\n"
     ]
    }
   ],
   "source": [
    "lasso = Lasso()\n",
    "lasso.fit(X_train, y_train)\n",
    "preds_train = lasso.predict(X_train)\n",
    "preds_test = lasso.predict(X_test)\n",
    "\n",
    "print('MSE of train: ' + str(mean_squared_error(y_train, preds_train)))\n",
    "print('MSE of test: ' + str(mean_squared_error(y_test, preds_test)))"
   ]
  },
  {
   "cell_type": "markdown",
   "id": "209ba8fb",
   "metadata": {},
   "source": [
    "#### 3D. Fit a ridge regression on the data and check the training and test accuracy of the model. Use the default alpha or penalty constant."
   ]
  },
  {
   "cell_type": "code",
   "execution_count": 148,
   "id": "e2ad32e4",
   "metadata": {},
   "outputs": [
    {
     "name": "stdout",
     "output_type": "stream",
     "text": [
      "MSE of train: 2.5069969289910966e-05\n",
      "MSE of test: 0.004695511927247206\n"
     ]
    }
   ],
   "source": [
    "ridge = Ridge()\n",
    "ridge.fit(X_train, y_train)\n",
    "preds_train = ridge.predict(X_train)\n",
    "preds_test = ridge.predict(X_test)\n",
    "\n",
    "print('MSE of train: ' + str(mean_squared_error(y_train, preds_train)))\n",
    "print('MSE of test: ' + str(mean_squared_error(y_test, preds_test)))"
   ]
  },
  {
   "cell_type": "markdown",
   "id": "03683b6a",
   "metadata": {},
   "source": [
    "#### 3E. Which model is better, OLS, Lasso, or Ridge regression?"
   ]
  },
  {
   "cell_type": "markdown",
   "id": "70944c90",
   "metadata": {},
   "source": [
    "Linear Regression has the lowest MSE, indicating that the predicted values are close to true values"
   ]
  },
  {
   "cell_type": "markdown",
   "id": "cd232d3a",
   "metadata": {},
   "source": [
    "#### 3F. Tune the alpha hyperparameters of the lasso and ridge regression using any tuning technique of your choice? What is the best alpha value for the lasso regression and what is the best alpha value for the ridge regression?"
   ]
  },
  {
   "cell_type": "code",
   "execution_count": 167,
   "id": "1eed2662",
   "metadata": {},
   "outputs": [
    {
     "name": "stderr",
     "output_type": "stream",
     "text": [
      "/mnt/c/users/rainb/desktop/scripts/COMP4447/dst1_env/lib/python3.8/site-packages/sklearn/model_selection/_validation.py:686: UserWarning: With alpha=0, this algorithm does not converge well. You are advised to use the LinearRegression estimator\n",
      "  estimator.fit(X_train, y_train, **fit_params)\n",
      "/mnt/c/users/rainb/desktop/scripts/COMP4447/dst1_env/lib/python3.8/site-packages/sklearn/linear_model/_coordinate_descent.py:648: UserWarning: Coordinate descent with no regularization may lead to unexpected results and is discouraged.\n",
      "  model = cd_fast.enet_coordinate_descent(\n",
      "/mnt/c/users/rainb/desktop/scripts/COMP4447/dst1_env/lib/python3.8/site-packages/sklearn/model_selection/_validation.py:686: UserWarning: With alpha=0, this algorithm does not converge well. You are advised to use the LinearRegression estimator\n",
      "  estimator.fit(X_train, y_train, **fit_params)\n",
      "/mnt/c/users/rainb/desktop/scripts/COMP4447/dst1_env/lib/python3.8/site-packages/sklearn/linear_model/_coordinate_descent.py:648: UserWarning: Coordinate descent with no regularization may lead to unexpected results and is discouraged.\n",
      "  model = cd_fast.enet_coordinate_descent(\n",
      "/mnt/c/users/rainb/desktop/scripts/COMP4447/dst1_env/lib/python3.8/site-packages/sklearn/model_selection/_validation.py:686: UserWarning: With alpha=0, this algorithm does not converge well. You are advised to use the LinearRegression estimator\n",
      "  estimator.fit(X_train, y_train, **fit_params)\n",
      "/mnt/c/users/rainb/desktop/scripts/COMP4447/dst1_env/lib/python3.8/site-packages/sklearn/linear_model/_coordinate_descent.py:648: UserWarning: Coordinate descent with no regularization may lead to unexpected results and is discouraged.\n",
      "  model = cd_fast.enet_coordinate_descent(\n",
      "/mnt/c/users/rainb/desktop/scripts/COMP4447/dst1_env/lib/python3.8/site-packages/sklearn/model_selection/_validation.py:686: UserWarning: With alpha=0, this algorithm does not converge well. You are advised to use the LinearRegression estimator\n",
      "  estimator.fit(X_train, y_train, **fit_params)\n",
      "/mnt/c/users/rainb/desktop/scripts/COMP4447/dst1_env/lib/python3.8/site-packages/sklearn/linear_model/_coordinate_descent.py:648: UserWarning: Coordinate descent with no regularization may lead to unexpected results and is discouraged.\n",
      "  model = cd_fast.enet_coordinate_descent(\n",
      "/mnt/c/users/rainb/desktop/scripts/COMP4447/dst1_env/lib/python3.8/site-packages/sklearn/model_selection/_validation.py:686: UserWarning: With alpha=0, this algorithm does not converge well. You are advised to use the LinearRegression estimator\n",
      "  estimator.fit(X_train, y_train, **fit_params)\n",
      "/mnt/c/users/rainb/desktop/scripts/COMP4447/dst1_env/lib/python3.8/site-packages/sklearn/linear_model/_coordinate_descent.py:648: UserWarning: Coordinate descent with no regularization may lead to unexpected results and is discouraged.\n",
      "  model = cd_fast.enet_coordinate_descent(\n",
      "/mnt/c/users/rainb/desktop/scripts/COMP4447/dst1_env/lib/python3.8/site-packages/sklearn/model_selection/_search.py:910: UserWarning: With alpha=0, this algorithm does not converge well. You are advised to use the LinearRegression estimator\n",
      "  self.best_estimator_.fit(X, y, **fit_params)\n",
      "/mnt/c/users/rainb/desktop/scripts/COMP4447/dst1_env/lib/python3.8/site-packages/sklearn/linear_model/_coordinate_descent.py:648: UserWarning: Coordinate descent with no regularization may lead to unexpected results and is discouraged.\n",
      "  model = cd_fast.enet_coordinate_descent(\n"
     ]
    },
    {
     "data": {
      "text/html": [
       "<style>#sk-container-id-5 {color: black;background-color: white;}#sk-container-id-5 pre{padding: 0;}#sk-container-id-5 div.sk-toggleable {background-color: white;}#sk-container-id-5 label.sk-toggleable__label {cursor: pointer;display: block;width: 100%;margin-bottom: 0;padding: 0.3em;box-sizing: border-box;text-align: center;}#sk-container-id-5 label.sk-toggleable__label-arrow:before {content: \"▸\";float: left;margin-right: 0.25em;color: #696969;}#sk-container-id-5 label.sk-toggleable__label-arrow:hover:before {color: black;}#sk-container-id-5 div.sk-estimator:hover label.sk-toggleable__label-arrow:before {color: black;}#sk-container-id-5 div.sk-toggleable__content {max-height: 0;max-width: 0;overflow: hidden;text-align: left;background-color: #f0f8ff;}#sk-container-id-5 div.sk-toggleable__content pre {margin: 0.2em;color: black;border-radius: 0.25em;background-color: #f0f8ff;}#sk-container-id-5 input.sk-toggleable__control:checked~div.sk-toggleable__content {max-height: 200px;max-width: 100%;overflow: auto;}#sk-container-id-5 input.sk-toggleable__control:checked~label.sk-toggleable__label-arrow:before {content: \"▾\";}#sk-container-id-5 div.sk-estimator input.sk-toggleable__control:checked~label.sk-toggleable__label {background-color: #d4ebff;}#sk-container-id-5 div.sk-label input.sk-toggleable__control:checked~label.sk-toggleable__label {background-color: #d4ebff;}#sk-container-id-5 input.sk-hidden--visually {border: 0;clip: rect(1px 1px 1px 1px);clip: rect(1px, 1px, 1px, 1px);height: 1px;margin: -1px;overflow: hidden;padding: 0;position: absolute;width: 1px;}#sk-container-id-5 div.sk-estimator {font-family: monospace;background-color: #f0f8ff;border: 1px dotted black;border-radius: 0.25em;box-sizing: border-box;margin-bottom: 0.5em;}#sk-container-id-5 div.sk-estimator:hover {background-color: #d4ebff;}#sk-container-id-5 div.sk-parallel-item::after {content: \"\";width: 100%;border-bottom: 1px solid gray;flex-grow: 1;}#sk-container-id-5 div.sk-label:hover label.sk-toggleable__label {background-color: #d4ebff;}#sk-container-id-5 div.sk-serial::before {content: \"\";position: absolute;border-left: 1px solid gray;box-sizing: border-box;top: 0;bottom: 0;left: 50%;z-index: 0;}#sk-container-id-5 div.sk-serial {display: flex;flex-direction: column;align-items: center;background-color: white;padding-right: 0.2em;padding-left: 0.2em;position: relative;}#sk-container-id-5 div.sk-item {position: relative;z-index: 1;}#sk-container-id-5 div.sk-parallel {display: flex;align-items: stretch;justify-content: center;background-color: white;position: relative;}#sk-container-id-5 div.sk-item::before, #sk-container-id-5 div.sk-parallel-item::before {content: \"\";position: absolute;border-left: 1px solid gray;box-sizing: border-box;top: 0;bottom: 0;left: 50%;z-index: -1;}#sk-container-id-5 div.sk-parallel-item {display: flex;flex-direction: column;z-index: 1;position: relative;background-color: white;}#sk-container-id-5 div.sk-parallel-item:first-child::after {align-self: flex-end;width: 50%;}#sk-container-id-5 div.sk-parallel-item:last-child::after {align-self: flex-start;width: 50%;}#sk-container-id-5 div.sk-parallel-item:only-child::after {width: 0;}#sk-container-id-5 div.sk-dashed-wrapped {border: 1px dashed gray;margin: 0 0.4em 0.5em 0.4em;box-sizing: border-box;padding-bottom: 0.4em;background-color: white;}#sk-container-id-5 div.sk-label label {font-family: monospace;font-weight: bold;display: inline-block;line-height: 1.2em;}#sk-container-id-5 div.sk-label-container {text-align: center;}#sk-container-id-5 div.sk-container {/* jupyter's `normalize.less` sets `[hidden] { display: none; }` but bootstrap.min.css set `[hidden] { display: none !important; }` so we also need the `!important` here to be able to override the default hidden behavior on the sphinx rendered scikit-learn.org. See: https://github.com/scikit-learn/scikit-learn/issues/21755 */display: inline-block !important;position: relative;}#sk-container-id-5 div.sk-text-repr-fallback {display: none;}</style><div id=\"sk-container-id-5\" class=\"sk-top-container\"><div class=\"sk-text-repr-fallback\"><pre>Lasso(alpha=0)</pre><b>In a Jupyter environment, please rerun this cell to show the HTML representation or trust the notebook. <br />On GitHub, the HTML representation is unable to render, please try loading this page with nbviewer.org.</b></div><div class=\"sk-container\" hidden><div class=\"sk-item\"><div class=\"sk-estimator sk-toggleable\"><input class=\"sk-toggleable__control sk-hidden--visually\" id=\"sk-estimator-id-5\" type=\"checkbox\" checked><label for=\"sk-estimator-id-5\" class=\"sk-toggleable__label sk-toggleable__label-arrow\">Lasso</label><div class=\"sk-toggleable__content\"><pre>Lasso(alpha=0)</pre></div></div></div></div></div>"
      ],
      "text/plain": [
       "Lasso(alpha=0)"
      ]
     },
     "execution_count": 167,
     "metadata": {},
     "output_type": "execute_result"
    }
   ],
   "source": [
    "param_grid = {'alpha': [0, 0.01, 0.1, 1.0]}\n",
    "\n",
    "grid_search = GridSearchCV(lasso, param_grid)\n",
    "grid_search.fit(X_train, y_train)\n",
    "grid_search.best_estimator_"
   ]
  },
  {
   "cell_type": "code",
   "execution_count": 168,
   "id": "8f048790",
   "metadata": {},
   "outputs": [
    {
     "data": {
      "text/html": [
       "<style>#sk-container-id-6 {color: black;background-color: white;}#sk-container-id-6 pre{padding: 0;}#sk-container-id-6 div.sk-toggleable {background-color: white;}#sk-container-id-6 label.sk-toggleable__label {cursor: pointer;display: block;width: 100%;margin-bottom: 0;padding: 0.3em;box-sizing: border-box;text-align: center;}#sk-container-id-6 label.sk-toggleable__label-arrow:before {content: \"▸\";float: left;margin-right: 0.25em;color: #696969;}#sk-container-id-6 label.sk-toggleable__label-arrow:hover:before {color: black;}#sk-container-id-6 div.sk-estimator:hover label.sk-toggleable__label-arrow:before {color: black;}#sk-container-id-6 div.sk-toggleable__content {max-height: 0;max-width: 0;overflow: hidden;text-align: left;background-color: #f0f8ff;}#sk-container-id-6 div.sk-toggleable__content pre {margin: 0.2em;color: black;border-radius: 0.25em;background-color: #f0f8ff;}#sk-container-id-6 input.sk-toggleable__control:checked~div.sk-toggleable__content {max-height: 200px;max-width: 100%;overflow: auto;}#sk-container-id-6 input.sk-toggleable__control:checked~label.sk-toggleable__label-arrow:before {content: \"▾\";}#sk-container-id-6 div.sk-estimator input.sk-toggleable__control:checked~label.sk-toggleable__label {background-color: #d4ebff;}#sk-container-id-6 div.sk-label input.sk-toggleable__control:checked~label.sk-toggleable__label {background-color: #d4ebff;}#sk-container-id-6 input.sk-hidden--visually {border: 0;clip: rect(1px 1px 1px 1px);clip: rect(1px, 1px, 1px, 1px);height: 1px;margin: -1px;overflow: hidden;padding: 0;position: absolute;width: 1px;}#sk-container-id-6 div.sk-estimator {font-family: monospace;background-color: #f0f8ff;border: 1px dotted black;border-radius: 0.25em;box-sizing: border-box;margin-bottom: 0.5em;}#sk-container-id-6 div.sk-estimator:hover {background-color: #d4ebff;}#sk-container-id-6 div.sk-parallel-item::after {content: \"\";width: 100%;border-bottom: 1px solid gray;flex-grow: 1;}#sk-container-id-6 div.sk-label:hover label.sk-toggleable__label {background-color: #d4ebff;}#sk-container-id-6 div.sk-serial::before {content: \"\";position: absolute;border-left: 1px solid gray;box-sizing: border-box;top: 0;bottom: 0;left: 50%;z-index: 0;}#sk-container-id-6 div.sk-serial {display: flex;flex-direction: column;align-items: center;background-color: white;padding-right: 0.2em;padding-left: 0.2em;position: relative;}#sk-container-id-6 div.sk-item {position: relative;z-index: 1;}#sk-container-id-6 div.sk-parallel {display: flex;align-items: stretch;justify-content: center;background-color: white;position: relative;}#sk-container-id-6 div.sk-item::before, #sk-container-id-6 div.sk-parallel-item::before {content: \"\";position: absolute;border-left: 1px solid gray;box-sizing: border-box;top: 0;bottom: 0;left: 50%;z-index: -1;}#sk-container-id-6 div.sk-parallel-item {display: flex;flex-direction: column;z-index: 1;position: relative;background-color: white;}#sk-container-id-6 div.sk-parallel-item:first-child::after {align-self: flex-end;width: 50%;}#sk-container-id-6 div.sk-parallel-item:last-child::after {align-self: flex-start;width: 50%;}#sk-container-id-6 div.sk-parallel-item:only-child::after {width: 0;}#sk-container-id-6 div.sk-dashed-wrapped {border: 1px dashed gray;margin: 0 0.4em 0.5em 0.4em;box-sizing: border-box;padding-bottom: 0.4em;background-color: white;}#sk-container-id-6 div.sk-label label {font-family: monospace;font-weight: bold;display: inline-block;line-height: 1.2em;}#sk-container-id-6 div.sk-label-container {text-align: center;}#sk-container-id-6 div.sk-container {/* jupyter's `normalize.less` sets `[hidden] { display: none; }` but bootstrap.min.css set `[hidden] { display: none !important; }` so we also need the `!important` here to be able to override the default hidden behavior on the sphinx rendered scikit-learn.org. See: https://github.com/scikit-learn/scikit-learn/issues/21755 */display: inline-block !important;position: relative;}#sk-container-id-6 div.sk-text-repr-fallback {display: none;}</style><div id=\"sk-container-id-6\" class=\"sk-top-container\"><div class=\"sk-text-repr-fallback\"><pre>Ridge(alpha=0)</pre><b>In a Jupyter environment, please rerun this cell to show the HTML representation or trust the notebook. <br />On GitHub, the HTML representation is unable to render, please try loading this page with nbviewer.org.</b></div><div class=\"sk-container\" hidden><div class=\"sk-item\"><div class=\"sk-estimator sk-toggleable\"><input class=\"sk-toggleable__control sk-hidden--visually\" id=\"sk-estimator-id-6\" type=\"checkbox\" checked><label for=\"sk-estimator-id-6\" class=\"sk-toggleable__label sk-toggleable__label-arrow\">Ridge</label><div class=\"sk-toggleable__content\"><pre>Ridge(alpha=0)</pre></div></div></div></div></div>"
      ],
      "text/plain": [
       "Ridge(alpha=0)"
      ]
     },
     "execution_count": 168,
     "metadata": {},
     "output_type": "execute_result"
    }
   ],
   "source": [
    "grid_search = GridSearchCV(ridge, param_grid)\n",
    "grid_search.fit(X_train, y_train)\n",
    "grid_search.best_estimator_"
   ]
  },
  {
   "cell_type": "markdown",
   "id": "e9d936ae",
   "metadata": {},
   "source": [
    "#### What is the best alpha value for the lasso regression and what is the best alpha value for the ridge regression?"
   ]
  },
  {
   "cell_type": "markdown",
   "id": "b2177e24",
   "metadata": {},
   "source": [
    "Using grid search, the best alpha value for both lasso and ridge is 0."
   ]
  }
 ],
 "metadata": {
  "kernelspec": {
   "display_name": "Python 3 (ipykernel)",
   "language": "python",
   "name": "python3"
  },
  "language_info": {
   "codemirror_mode": {
    "name": "ipython",
    "version": 3
   },
   "file_extension": ".py",
   "mimetype": "text/x-python",
   "name": "python",
   "nbconvert_exporter": "python",
   "pygments_lexer": "ipython3",
   "version": "3.8.10"
  }
 },
 "nbformat": 4,
 "nbformat_minor": 5
}
