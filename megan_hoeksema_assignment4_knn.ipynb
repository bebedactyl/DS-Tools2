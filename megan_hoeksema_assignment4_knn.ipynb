{
 "cells": [
  {
   "cell_type": "markdown",
   "id": "9655daae",
   "metadata": {},
   "source": [
    "### Megan Hoeksema\n",
    "\n",
    "### Assignment 4: KNN"
   ]
  },
  {
   "cell_type": "markdown",
   "id": "4c84c666",
   "metadata": {},
   "source": [
    "#### Packages"
   ]
  },
  {
   "cell_type": "code",
   "execution_count": 1,
   "id": "74aa267f",
   "metadata": {},
   "outputs": [],
   "source": [
    "%matplotlib inline\n",
    "import matplotlib.pyplot as plt\n",
    "import numpy as np\n",
    "import pandas as pd\n",
    "from sklearn.ensemble import RandomForestRegressor, RandomForestClassifier\n",
    "from sklearn.neighbors import KNeighborsRegressor, KNeighborsClassifier\n",
    "from sklearn import metrics\n",
    "from sklearn import tree\n",
    "from sklearn.metrics import accuracy_score\n",
    "from sklearn.metrics import mean_squared_error\n",
    "GridSearchCV, train_test_split\n",
    "from sklearn.pipeline import Pipeline\n",
    "from sklearn.preprocessing import StandardScaler, MinMaxScaler"
   ]
  },
  {
   "cell_type": "markdown",
   "id": "dcce2d4f",
   "metadata": {},
   "source": [
    "### Question 1"
   ]
  },
  {
   "cell_type": "markdown",
   "id": "786a6038",
   "metadata": {},
   "source": [
    "#### 1A. Read the data provided on canvas into Python"
   ]
  },
  {
   "cell_type": "code",
   "execution_count": 2,
   "id": "15db84f2",
   "metadata": {},
   "outputs": [],
   "source": [
    "delivery_train = pd.read_csv('delivery_time_train_data.csv')\n",
    "delivery_test = pd.read_csv('delivery_time_test_data.csv')\n",
    "student_train = pd.read_csv('student_train_data.csv')\n",
    "student_test = pd.read_csv('student_test_data.csv')"
   ]
  },
  {
   "cell_type": "code",
   "execution_count": 3,
   "id": "c963acb0",
   "metadata": {},
   "outputs": [
    {
     "data": {
      "text/html": [
       "<div>\n",
       "<style scoped>\n",
       "    .dataframe tbody tr th:only-of-type {\n",
       "        vertical-align: middle;\n",
       "    }\n",
       "\n",
       "    .dataframe tbody tr th {\n",
       "        vertical-align: top;\n",
       "    }\n",
       "\n",
       "    .dataframe thead th {\n",
       "        text-align: right;\n",
       "    }\n",
       "</style>\n",
       "<table border=\"1\" class=\"dataframe\">\n",
       "  <thead>\n",
       "    <tr style=\"text-align: right;\">\n",
       "      <th></th>\n",
       "      <th>Miles</th>\n",
       "      <th>Deliveries</th>\n",
       "      <th>Time</th>\n",
       "    </tr>\n",
       "  </thead>\n",
       "  <tbody>\n",
       "    <tr>\n",
       "      <th>0</th>\n",
       "      <td>100</td>\n",
       "      <td>4</td>\n",
       "      <td>9.3</td>\n",
       "    </tr>\n",
       "    <tr>\n",
       "      <th>1</th>\n",
       "      <td>50</td>\n",
       "      <td>3</td>\n",
       "      <td>4.8</td>\n",
       "    </tr>\n",
       "    <tr>\n",
       "      <th>2</th>\n",
       "      <td>100</td>\n",
       "      <td>4</td>\n",
       "      <td>8.9</td>\n",
       "    </tr>\n",
       "    <tr>\n",
       "      <th>3</th>\n",
       "      <td>100</td>\n",
       "      <td>2</td>\n",
       "      <td>6.5</td>\n",
       "    </tr>\n",
       "    <tr>\n",
       "      <th>4</th>\n",
       "      <td>50</td>\n",
       "      <td>2</td>\n",
       "      <td>4.2</td>\n",
       "    </tr>\n",
       "  </tbody>\n",
       "</table>\n",
       "</div>"
      ],
      "text/plain": [
       "   Miles  Deliveries  Time\n",
       "0    100           4   9.3\n",
       "1     50           3   4.8\n",
       "2    100           4   8.9\n",
       "3    100           2   6.5\n",
       "4     50           2   4.2"
      ]
     },
     "execution_count": 3,
     "metadata": {},
     "output_type": "execute_result"
    }
   ],
   "source": [
    "delivery_train.head(5)"
   ]
  },
  {
   "cell_type": "code",
   "execution_count": 4,
   "id": "4e3b6d38",
   "metadata": {},
   "outputs": [
    {
     "data": {
      "text/html": [
       "<div>\n",
       "<style scoped>\n",
       "    .dataframe tbody tr th:only-of-type {\n",
       "        vertical-align: middle;\n",
       "    }\n",
       "\n",
       "    .dataframe tbody tr th {\n",
       "        vertical-align: top;\n",
       "    }\n",
       "\n",
       "    .dataframe thead th {\n",
       "        text-align: right;\n",
       "    }\n",
       "</style>\n",
       "<table border=\"1\" class=\"dataframe\">\n",
       "  <thead>\n",
       "    <tr style=\"text-align: right;\">\n",
       "      <th></th>\n",
       "      <th>Miles</th>\n",
       "      <th>Deliveries</th>\n",
       "      <th>Time</th>\n",
       "    </tr>\n",
       "  </thead>\n",
       "  <tbody>\n",
       "    <tr>\n",
       "      <th>0</th>\n",
       "      <td>50</td>\n",
       "      <td>3</td>\n",
       "      <td>4.6</td>\n",
       "    </tr>\n",
       "    <tr>\n",
       "      <th>1</th>\n",
       "      <td>65</td>\n",
       "      <td>2</td>\n",
       "      <td>5.5</td>\n",
       "    </tr>\n",
       "    <tr>\n",
       "      <th>2</th>\n",
       "      <td>80</td>\n",
       "      <td>1</td>\n",
       "      <td>6.3</td>\n",
       "    </tr>\n",
       "    <tr>\n",
       "      <th>3</th>\n",
       "      <td>70</td>\n",
       "      <td>1</td>\n",
       "      <td>6.2</td>\n",
       "    </tr>\n",
       "    <tr>\n",
       "      <th>4</th>\n",
       "      <td>70</td>\n",
       "      <td>5</td>\n",
       "      <td>8.5</td>\n",
       "    </tr>\n",
       "  </tbody>\n",
       "</table>\n",
       "</div>"
      ],
      "text/plain": [
       "   Miles  Deliveries  Time\n",
       "0     50           3   4.6\n",
       "1     65           2   5.5\n",
       "2     80           1   6.3\n",
       "3     70           1   6.2\n",
       "4     70           5   8.5"
      ]
     },
     "execution_count": 4,
     "metadata": {},
     "output_type": "execute_result"
    }
   ],
   "source": [
    "delivery_test.head(5)"
   ]
  },
  {
   "cell_type": "code",
   "execution_count": 5,
   "id": "5d758d0b",
   "metadata": {},
   "outputs": [
    {
     "data": {
      "text/html": [
       "<div>\n",
       "<style scoped>\n",
       "    .dataframe tbody tr th:only-of-type {\n",
       "        vertical-align: middle;\n",
       "    }\n",
       "\n",
       "    .dataframe tbody tr th {\n",
       "        vertical-align: top;\n",
       "    }\n",
       "\n",
       "    .dataframe thead th {\n",
       "        text-align: right;\n",
       "    }\n",
       "</style>\n",
       "<table border=\"1\" class=\"dataframe\">\n",
       "  <thead>\n",
       "    <tr style=\"text-align: right;\">\n",
       "      <th></th>\n",
       "      <th>GPA</th>\n",
       "      <th>Age</th>\n",
       "      <th>Dropped</th>\n",
       "    </tr>\n",
       "  </thead>\n",
       "  <tbody>\n",
       "    <tr>\n",
       "      <th>0</th>\n",
       "      <td>3.78</td>\n",
       "      <td>21</td>\n",
       "      <td>0</td>\n",
       "    </tr>\n",
       "    <tr>\n",
       "      <th>1</th>\n",
       "      <td>2.38</td>\n",
       "      <td>27</td>\n",
       "      <td>0</td>\n",
       "    </tr>\n",
       "    <tr>\n",
       "      <th>2</th>\n",
       "      <td>3.05</td>\n",
       "      <td>21</td>\n",
       "      <td>1</td>\n",
       "    </tr>\n",
       "    <tr>\n",
       "      <th>3</th>\n",
       "      <td>2.19</td>\n",
       "      <td>28</td>\n",
       "      <td>1</td>\n",
       "    </tr>\n",
       "    <tr>\n",
       "      <th>4</th>\n",
       "      <td>3.22</td>\n",
       "      <td>23</td>\n",
       "      <td>0</td>\n",
       "    </tr>\n",
       "  </tbody>\n",
       "</table>\n",
       "</div>"
      ],
      "text/plain": [
       "    GPA  Age  Dropped\n",
       "0  3.78   21        0\n",
       "1  2.38   27        0\n",
       "2  3.05   21        1\n",
       "3  2.19   28        1\n",
       "4  3.22   23        0"
      ]
     },
     "execution_count": 5,
     "metadata": {},
     "output_type": "execute_result"
    }
   ],
   "source": [
    "student_train.head(5)"
   ]
  },
  {
   "cell_type": "code",
   "execution_count": 6,
   "id": "efde4996",
   "metadata": {},
   "outputs": [
    {
     "data": {
      "text/html": [
       "<div>\n",
       "<style scoped>\n",
       "    .dataframe tbody tr th:only-of-type {\n",
       "        vertical-align: middle;\n",
       "    }\n",
       "\n",
       "    .dataframe tbody tr th {\n",
       "        vertical-align: top;\n",
       "    }\n",
       "\n",
       "    .dataframe thead th {\n",
       "        text-align: right;\n",
       "    }\n",
       "</style>\n",
       "<table border=\"1\" class=\"dataframe\">\n",
       "  <thead>\n",
       "    <tr style=\"text-align: right;\">\n",
       "      <th></th>\n",
       "      <th>GPA</th>\n",
       "      <th>Age</th>\n",
       "      <th>Dropped</th>\n",
       "    </tr>\n",
       "  </thead>\n",
       "  <tbody>\n",
       "    <tr>\n",
       "      <th>0</th>\n",
       "      <td>2.49</td>\n",
       "      <td>26</td>\n",
       "      <td>1</td>\n",
       "    </tr>\n",
       "    <tr>\n",
       "      <th>1</th>\n",
       "      <td>2.67</td>\n",
       "      <td>29</td>\n",
       "      <td>0</td>\n",
       "    </tr>\n",
       "    <tr>\n",
       "      <th>2</th>\n",
       "      <td>2.86</td>\n",
       "      <td>29</td>\n",
       "      <td>1</td>\n",
       "    </tr>\n",
       "    <tr>\n",
       "      <th>3</th>\n",
       "      <td>2.21</td>\n",
       "      <td>26</td>\n",
       "      <td>0</td>\n",
       "    </tr>\n",
       "    <tr>\n",
       "      <th>4</th>\n",
       "      <td>2.91</td>\n",
       "      <td>20</td>\n",
       "      <td>1</td>\n",
       "    </tr>\n",
       "  </tbody>\n",
       "</table>\n",
       "</div>"
      ],
      "text/plain": [
       "    GPA  Age  Dropped\n",
       "0  2.49   26        1\n",
       "1  2.67   29        0\n",
       "2  2.86   29        1\n",
       "3  2.21   26        0\n",
       "4  2.91   20        1"
      ]
     },
     "execution_count": 6,
     "metadata": {},
     "output_type": "execute_result"
    }
   ],
   "source": [
    "student_test.head(5)"
   ]
  },
  {
   "cell_type": "markdown",
   "id": "c5ca4275",
   "metadata": {},
   "source": [
    "#### 1B. Split the data into training and test set. Print the shape of input and output data for the training and test sets. "
   ]
  },
  {
   "cell_type": "code",
   "execution_count": 7,
   "id": "f4e93aed",
   "metadata": {},
   "outputs": [
    {
     "name": "stdout",
     "output_type": "stream",
     "text": [
      "Shape of Dataframes:\n",
      "X_delivery_train: (199, 2)\n",
      "y_delivery_train: (199,)\n",
      "X_delivery_test: (101, 2)\n",
      "y_delivery_test: (101,)\n",
      "X_student_train: (400, 2)\n",
      "y_student_train: (400,)\n",
      "X_student_test: (100, 2)\n",
      "y_student_test: (100,)\n"
     ]
    }
   ],
   "source": [
    "X_delivery_train = delivery_train[['Miles', 'Deliveries']]\n",
    "y_delivery_train = delivery_train['Time']\n",
    "\n",
    "X_delivery_test = delivery_test[['Miles', 'Deliveries']]\n",
    "y_delivery_test = delivery_test['Time']\n",
    "\n",
    "X_student_train = student_train[['GPA', 'Age']]\n",
    "y_student_train = student_train['Dropped']\n",
    "\n",
    "X_student_test = student_test[['GPA', 'Age']]\n",
    "y_student_test = student_test['Dropped']\n",
    "\n",
    "print('Shape of Dataframes:')\n",
    "print('X_delivery_train: ' + str(X_delivery_train.shape))\n",
    "print('y_delivery_train: ' + str(y_delivery_train.shape))\n",
    "print('X_delivery_test: ' + str(X_delivery_test.shape))\n",
    "print('y_delivery_test: ' + str(y_delivery_test.shape))\n",
    "print('X_student_train: ' + str(X_student_train.shape))\n",
    "print('y_student_train: ' + str(y_student_train.shape))\n",
    "print('X_student_test: ' + str(X_student_test.shape))\n",
    "print('y_student_test: ' + str(y_student_test.shape))"
   ]
  },
  {
   "cell_type": "markdown",
   "id": "dcf8cf12",
   "metadata": {},
   "source": [
    "#### 1C. You would use the delivery data for regression: that is, miles (“Miles”) and number of deliveries (“Deliveries”) would be use an input to predict the total time it takes for a delivery truck to deliver Amazon packages. You would write a k-nearest neighbor algorithm function that learns from the training set and predicts the output or y values of given test instances. The input that the function takes include:\n",
    "•\tX_train: Pandas DataFrame or 2D NumPy array \n",
    "\n",
    "•\ty_train: Pandas Series or 1D NumPy array \n",
    "\n",
    "•\tX_test: Pandas DataFrame or 2D NumPy array\n",
    "\n",
    "•\tK: the number of nearest neighbors. The default value should be k=5 if no k value is passed during function call. \n",
    "#### Use the following pseudo code to implement the algorithm (also see class notes on ideas for writing knn from scratch to see the details of each step in the body of the code). Call the knn_predict() function and pass the X_delivery_train, y_delivery_train and X_delivery_test to compute the predicted output values for the X_delivery_test set. You can reference the results using a variable, y_delivery_test_pred. "
   ]
  },
  {
   "cell_type": "code",
   "execution_count": 24,
   "id": "fe6089ba",
   "metadata": {},
   "outputs": [],
   "source": [
    "def KNN_predict(X_train, y_train, X_test, k=5):\n",
    "    y_pred=[]\n",
    "    for i in range(0, len(X_test)):\n",
    "        test_instance = np.array([X_test.iloc[i]])\n",
    "        d=metrics.euclidean_distances(X_train, test_instance)\n",
    "        nearest = np.argsort(d,axis=0)[:k]\n",
    "        y_train_nearest_k=[y_train[int(i)] for i in nearest]\n",
    "        y_pred.append(np.mean(y_train_nearest_k))\n",
    "    return y_pred\n",
    "\n",
    "y_delivery_test_pred = KNN_predict(X_delivery_train, y_delivery_train, X_delivery_test)\n",
    "# y_delivery_test_pred"
   ]
  },
  {
   "cell_type": "markdown",
   "id": "f5619f36",
   "metadata": {},
   "source": [
    "#### 1D. Write a function that computes the mean squared error to measure the performance accuracy of your knn algorithm. The input that goes into the function is the actual output values(y) and the predicted output values (y_pred). You can name the function mse. Then call the function to compute the mse for the test set for the delivery data. That is, use mse(y_delivery_test, y_delivery_test_pred). "
   ]
  },
  {
   "cell_type": "code",
   "execution_count": 25,
   "id": "0cd544db",
   "metadata": {},
   "outputs": [
    {
     "data": {
      "text/plain": [
       "1.0977544554455443"
      ]
     },
     "execution_count": 25,
     "metadata": {},
     "output_type": "execute_result"
    }
   ],
   "source": [
    "def mse(true_y, predicted_y):\n",
    "    true_y = np.array(true_y)\n",
    "    predicted_y = np.array(predicted_y)\n",
    "    diff = np.subtract(true_y, predicted_y)\n",
    "    squared_diff = np.square(diff)\n",
    "    return squared_diff.mean()\n",
    "\n",
    "mse(y_delivery_test, y_delivery_test_pred)"
   ]
  },
  {
   "cell_type": "markdown",
   "id": "081aaac2",
   "metadata": {},
   "source": [
    "#### 1E. Does your algorithm overfit the data? To answer this question, you need to compute the accuracy or mse of the algorithm on the training set, and compare with the accuracy or mse you got for the test set. You will need to start with making predictions for the training set. Note that you will need to pass the training set into the X_test parameter of the knn_predict() function, in addition to the other arguments of the function. When you get the predicted values for the training set, use the mse() function to get the training mse"
   ]
  },
  {
   "cell_type": "code",
   "execution_count": 26,
   "id": "bee93a20",
   "metadata": {},
   "outputs": [
    {
     "data": {
      "text/plain": [
       "0.5889105527638191"
      ]
     },
     "execution_count": 26,
     "metadata": {},
     "output_type": "execute_result"
    }
   ],
   "source": [
    "y_delivery_train_pred = KNN_predict(X_delivery_train, y_delivery_train, X_delivery_train)\n",
    "\n",
    "mse(y_delivery_train, y_delivery_train_pred)"
   ]
  },
  {
   "cell_type": "markdown",
   "id": "45b47a2b",
   "metadata": {},
   "source": [
    "#### Does your algorithm overfit the data?\n",
    "\n",
    "No the algorithm does not appear to be overfitting."
   ]
  },
  {
   "cell_type": "markdown",
   "id": "cea398e6",
   "metadata": {},
   "source": [
    "#### 1F. Now, tune the hyperparameter, k, of your algorithm. Specify a grid of hyperparameter values from k=1 to k=50. Use a for-loop, then inside the for-loop body, use the knn_predict() function as well as the mse() function to compute the mse values for the training set and test set for different values of k in the hyperparameter grid. Plot the training and test error rates of the model versus the grid of hyperparameter values. "
   ]
  },
  {
   "cell_type": "code",
   "execution_count": 27,
   "id": "afc42bf5",
   "metadata": {},
   "outputs": [
    {
     "data": {
      "image/png": "[encoded data removed]",
      "text/plain": [
       "<Figure size 864x432 with 1 Axes>"
      ]
     },
     "metadata": {
      "needs_background": "light"
     },
     "output_type": "display_data"
    }
   ],
   "source": [
    "k_possibles = list(range(1,51))\n",
    "train_errors, test_errors = list(), list()\n",
    "\n",
    "for elem in k_possibles:\n",
    "    preds = KNN_predict(X_train=X_delivery_train,y_train=y_delivery_train, X_test=X_delivery_train,k=elem)\n",
    "    train_errors.append(mse(y_delivery_train, preds))\n",
    "    \n",
    "    preds_test = KNN_predict(X_train=X_delivery_train,y_train=y_delivery_train, X_test=X_delivery_test,k=elem)\n",
    "    test_errors.append(mse(y_delivery_test, preds_test))\n",
    "\n",
    "plt.figure(figsize=(12, 6)) \n",
    "plt.title(\"MSE vs K\")\n",
    "plt.xlabel(\"K\")\n",
    "plt.ylabel(\"MSE\")\n",
    "plt.plot(train_errors, color=\"orange\", lw=5)\n",
    "plt.plot(test_errors, color=\"green\", lw=5)\n",
    "plt.legend([\"Train\", \"Test\"])\n",
    "plt.show()"
   ]
  },
  {
   "cell_type": "markdown",
   "id": "4f58c3a1",
   "metadata": {},
   "source": [
    "#### 1G. Now, construct and fit a k-nearest neighbor model using the  KNeighborsRegressor() estimator in sklearn.neighbors module. Use the mean_square_error() function inside the sklearn.metrics module to compute the mse of the model on the test set. Is this similar to the mse value you got from the algorithm function you wrote from scratch? "
   ]
  },
  {
   "cell_type": "code",
   "execution_count": 28,
   "id": "216c98e6",
   "metadata": {},
   "outputs": [
    {
     "data": {
      "text/plain": [
       "array([ 5.14,  6.26,  6.32,  6.2 ,  9.16,  9.22,  6.86,  8.22,  5.94,\n",
       "        6.32,  9.22,  8.22,  5.94,  7.16,  7.06,  8.22,  6.42,  9.52,\n",
       "        6.24,  7.54,  4.6 ,  9.22,  8.22,  8.6 ,  6.  ,  4.92,  9.16,\n",
       "        6.28,  4.76,  6.26,  6.26,  6.24, 10.76,  9.46,  8.66,  7.58,\n",
       "        5.3 ,  7.06,  8.66,  5.84,  4.76,  9.78,  7.5 ,  7.5 ,  8.22,\n",
       "        5.44, 10.3 ,  5.44,  6.04,  6.26,  9.16,  7.  ,  8.22,  9.18,\n",
       "        7.58,  8.6 ,  7.54,  6.24,  7.58,  6.  ,  7.5 ,  8.66,  7.06,\n",
       "        8.16, 10.3 ,  9.18,  8.32,  9.16,  9.22,  4.6 ,  7.8 ,  5.3 ,\n",
       "        6.34,  5.3 , 10.76,  9.22,  5.48,  4.62,  8.22,  6.58,  4.02,\n",
       "        4.02,  8.4 ,  6.32,  9.46,  6.5 ,  6.66,  6.5 ,  6.94,  6.34,\n",
       "        7.06,  6.24,  6.2 ,  7.58,  9.16,  9.22,  6.42,  4.22,  7.06,\n",
       "        7.8 ,  7.54])"
      ]
     },
     "execution_count": 28,
     "metadata": {},
     "output_type": "execute_result"
    }
   ],
   "source": [
    "KNN = KNeighborsRegressor(n_neighbors = 5)\n",
    "KNN.fit(X_delivery_train, y_delivery_train)\n",
    "preds = KNN.predict(X_delivery_test)\n",
    "preds"
   ]
  },
  {
   "cell_type": "code",
   "execution_count": 29,
   "id": "641e8014",
   "metadata": {},
   "outputs": [
    {
     "data": {
      "text/plain": [
       "1.111271287128713"
      ]
     },
     "execution_count": 29,
     "metadata": {},
     "output_type": "execute_result"
    }
   ],
   "source": [
    "mean_squared_error(y_delivery_test, preds)"
   ]
  },
  {
   "cell_type": "markdown",
   "id": "a708ab0c",
   "metadata": {},
   "source": [
    "#### Is this similar to the mse value you got from the algorithm function you wrote from scratch?\n",
    "\n",
    "Yes the values are similar."
   ]
  },
  {
   "cell_type": "markdown",
   "id": "26a2fbbd",
   "metadata": {},
   "source": [
    "#### 1H. Using the Pipeline constructor inside the sklearn.pipeline module, scale the X_delivery_train with the StandardScaler(), and also construct the KNeighborsRegressor() inside the Pipeline(). Then the call the fit() method on the pipeline object to fit the model into the delivery training data. Transform the X_delivery_test data using StandardScaler() and use the mean_squared_error () function inside the sklearn.metrics module to compute the mse of the model on the test set. Is this mse similar to the mse you got when you used the unscaled input data in (g) above?"
   ]
  },
  {
   "cell_type": "code",
   "execution_count": 30,
   "id": "887e0b92",
   "metadata": {},
   "outputs": [
    {
     "data": {
      "text/plain": [
       "array([ 5.22,  5.94,  6.78,  6.08,  8.86,  9.96,  7.52,  8.24,  6.18,\n",
       "        6.78,  9.96,  8.02,  6.18,  6.94,  7.22,  8.02,  6.04,  9.52,\n",
       "        6.26,  8.48,  5.28,  9.96,  8.24,  8.62,  5.46,  4.76,  8.86,\n",
       "        6.48,  4.44,  5.94,  4.82,  6.26, 10.76,  9.94,  8.22,  8.28,\n",
       "        4.36,  7.22,  8.22,  6.02,  4.44,  9.86,  7.6 ,  7.6 ,  8.44,\n",
       "        5.34,  9.42,  5.34,  5.68,  5.94,  8.62,  7.3 ,  8.24,  9.02,\n",
       "        8.28,  9.04,  8.48,  6.26,  8.28,  5.46,  7.6 ,  8.22,  7.22,\n",
       "        7.8 ,  9.42,  9.02,  8.9 ,  8.62,  9.96,  5.28,  8.28,  4.36,\n",
       "        6.18,  4.36, 10.76,  9.96,  4.66,  4.56,  8.24,  6.88,  4.06,\n",
       "        4.06,  9.1 ,  6.78,  9.94,  6.1 ,  6.92,  6.1 ,  7.76,  6.18,\n",
       "        7.22,  6.26,  6.1 ,  8.28,  8.62,  9.96,  6.04,  4.06,  7.22,\n",
       "        8.28,  8.48])"
      ]
     },
     "execution_count": 30,
     "metadata": {},
     "output_type": "execute_result"
    }
   ],
   "source": [
    "knn_scaled = Pipeline([(\"scaler\", StandardScaler()),(\"KNN\", KNN)])\n",
    "knn_scaled.fit(X_delivery_train, y_delivery_train)\n",
    "knn_scaled_preds = knn_scaled.predict(X_delivery_test)\n",
    "knn_scaled_preds"
   ]
  },
  {
   "cell_type": "code",
   "execution_count": 31,
   "id": "c314b565",
   "metadata": {},
   "outputs": [
    {
     "data": {
      "text/plain": [
       "0.94400396039604"
      ]
     },
     "execution_count": 31,
     "metadata": {},
     "output_type": "execute_result"
    }
   ],
   "source": [
    "mean_squared_error(y_delivery_test, knn_scaled_preds)"
   ]
  },
  {
   "cell_type": "markdown",
   "id": "03b9eaa8",
   "metadata": {},
   "source": [
    "#### Is this mse similar to the mse you got when you used the unscaled input data in (g) above?\n",
    "\n",
    "The value for the scaled data is better with an MSE of 0.944 as compared to the unscaled data showing an MSE 0f 1.11"
   ]
  },
  {
   "cell_type": "markdown",
   "id": "896bd4cd",
   "metadata": {},
   "source": [
    "#### 1I. Use the scaled X_delivery_train and X_delivery_test data and the RandomForestRegressor constructor inside the sklearn.ensemble module to construct/fit a random forest model, the compute the mse for this model. Is this mse similar to the one you got in question (h) above? "
   ]
  },
  {
   "cell_type": "code",
   "execution_count": 32,
   "id": "06b60d9f",
   "metadata": {},
   "outputs": [
    {
     "data": {
      "text/plain": [
       "array([ 5.46851905,  6.35466667,  6.85015476,  5.7393    ,  9.0307    ,\n",
       "       10.01769762,  8.06056667,  8.00945711,  6.10233889,  6.85015476,\n",
       "       10.01769762,  8.07887262,  6.10233889,  6.85441389,  7.16995952,\n",
       "        8.07887262,  6.17560924,  9.47847558,  6.41563214,  8.3805    ,\n",
       "        5.40635   , 10.01769762,  8.00945711,  8.51033929,  6.05282262,\n",
       "        4.72424008,  9.0307    ,  6.68811667,  4.87732976,  6.35466667,\n",
       "        5.6383    ,  6.41563214, 10.7296824 ,  9.46613333,  8.76495   ,\n",
       "        8.55933214,  4.582     ,  7.16995952,  8.76495   ,  5.16065   ,\n",
       "        4.87732976,  9.95913171,  7.90850833,  7.90850833,  8.37283651,\n",
       "        5.46494524,  9.52546667,  5.46494524,  6.04026548,  6.35466667,\n",
       "       10.02583333,  7.0428131 ,  8.00945711,  9.36544643,  8.55933214,\n",
       "        9.26338333,  8.3805    ,  6.41563214,  8.55933214,  6.05282262,\n",
       "        7.90850833,  8.76495   ,  7.16995952,  8.5939869 ,  9.52546667,\n",
       "        9.36544643,  8.83113611, 10.02583333, 10.01769762,  5.40635   ,\n",
       "        7.98419697,  4.582     ,  6.34774986,  4.582     , 10.7296824 ,\n",
       "       10.01769762,  4.74005   ,  4.10915238,  8.00945711,  6.89460952,\n",
       "        3.73894524,  3.73894524,  8.73660833,  6.85015476,  9.46613333,\n",
       "        6.27155317,  6.45595198,  6.27155317,  6.91888651,  6.34774986,\n",
       "        7.16995952,  6.41563214,  5.83948571,  8.55933214, 10.02583333,\n",
       "       10.01769762,  6.17560924,  4.49775   ,  7.16995952,  7.98419697,\n",
       "        8.3805    ])"
      ]
     },
     "execution_count": 32,
     "metadata": {},
     "output_type": "execute_result"
    }
   ],
   "source": [
    "clf_rf = RandomForestRegressor()\n",
    "\n",
    "rf_scaled = Pipeline([(\"scaler\", StandardScaler()),(\"clf_rf\", clf_rf)])\n",
    "rf_scaled.fit(X_delivery_train, y_delivery_train)\n",
    "rf_scaled_preds = rf_scaled.predict(X_delivery_test)\n",
    "rf_scaled_preds"
   ]
  },
  {
   "cell_type": "code",
   "execution_count": 33,
   "id": "cb6c9dbf",
   "metadata": {},
   "outputs": [
    {
     "data": {
      "text/plain": [
       "0.9639734743946687"
      ]
     },
     "execution_count": 33,
     "metadata": {},
     "output_type": "execute_result"
    }
   ],
   "source": [
    "mean_squared_error(y_delivery_test, rf_scaled_preds)"
   ]
  },
  {
   "cell_type": "markdown",
   "id": "27227dc9",
   "metadata": {},
   "source": [
    "#### Is this mse similar to the one you got in question (h) above?\n",
    "\n",
    "The MSE of the RF Regressor is not as good as the KNN scaled, however, it is better than the MSE of the unscaled data for KNN."
   ]
  },
  {
   "cell_type": "markdown",
   "id": "11652ae0",
   "metadata": {},
   "source": [
    "### Question 2"
   ]
  },
  {
   "cell_type": "markdown",
   "id": "bf48a0fd",
   "metadata": {},
   "source": [
    "#### 2A. You would use the student data for classification: that is, GPA and Age would be used as input to predict wither a student will drop out of school (Dropped=1) or not drop (Dropped=0). You will write a k-nearest neighbor algorithm function that learns from the training set and classifies given test instances to class 0 or class 1. The input that the function takes include:\n",
    "•\tX_train: Pandas DataFrame or 2D NumPy array \n",
    "\n",
    "•\ty_train: Pandas Series or 1D NumPy array\n",
    "\n",
    "•\tX_test: Pandas DataFrame or 2D NumPy array\n",
    "\n",
    "•\tK: the number of nearest neighbors. The default value should be k=5 if no k value is passed during function call. \n",
    "\n",
    "#### Use the following pseudo code to implement the algorithm (also see class notes on ideas for writing knn from scratch to see the details of each step in the body of the code). Scale the X_student_train and X_student_test data, and pass these scaled data sets in addition to y_student_train data into the knn_predict() function call to compute the predicted output values for the X_student_test set. You can reference the results using a variable, y_student_test_pred. "
   ]
  },
  {
   "cell_type": "code",
   "execution_count": 37,
   "id": "be97ca75",
   "metadata": {},
   "outputs": [],
   "source": [
    "def KNN_predict(X_train, y_train, X_test, k=5):\n",
    "    y_pred=[]\n",
    "    for i in range(0, len(X_test)):\n",
    "        test_instance = np.array([X_test.iloc[i]])\n",
    "        d=metrics.euclidean_distances(X_train, test_instance)\n",
    "        nearest = np.argsort(d,axis=0)[:k]\n",
    "        y_train_nearest_k=[y_train[int(i)] for i in nearest]\n",
    "        y_pred.append(np.mean(y_train_nearest_k))\n",
    "    return y_pred\n",
    "\n",
    "y_student_test_pred = KNN_predict(X_student_train, y_student_train, X_student_test)\n",
    "# y_student_test_pred"
   ]
  },
  {
   "cell_type": "markdown",
   "id": "9e4075b5",
   "metadata": {},
   "source": [
    "#### 2B. Define a function called overall_accuracy, that computes the overall accuracy of your algorithm. You can let your function compare the actual values (y) and the predicted or classified y values (y_pred), for example: overall accuracy could be computed using mean(y==y_pred)"
   ]
  },
  {
   "cell_type": "code",
   "execution_count": 44,
   "id": "8e2b20ad",
   "metadata": {},
   "outputs": [
    {
     "name": "stdout",
     "output_type": "stream",
     "text": [
      "Accuracy = 12.0 %\n"
     ]
    }
   ],
   "source": [
    "def overall_accuracy(y_pred, y):\n",
    "    count = 0\n",
    "    for i in range(len(y_pred)):\n",
    "        if y_pred[i] == y[i]:\n",
    "            count += 1\n",
    "            \n",
    "    return print(\"Accuracy =\", (count/len(y_pred))*100, \"%\")\n",
    "\n",
    "overall_accuracy(y_student_test_pred, y_student_test)"
   ]
  },
  {
   "cell_type": "markdown",
   "id": "a312aeb4",
   "metadata": {},
   "source": [
    "#### 2C. Use GridSearch in scikit learn to tune the parameter of the k-nearest neighbor classifier, then use that optimal parameter to compute the accuracy of the knn estimator on the test set. Is this accuracy score similar to that obtained using your knn algorithm from scratch?"
   ]
  },
  {
   "cell_type": "code",
   "execution_count": 65,
   "id": "a4a58221",
   "metadata": {},
   "outputs": [
    {
     "data": {
      "text/html": [
       "<style>#sk-container-id-5 {color: black;background-color: white;}#sk-container-id-5 pre{padding: 0;}#sk-container-id-5 div.sk-toggleable {background-color: white;}#sk-container-id-5 label.sk-toggleable__label {cursor: pointer;display: block;width: 100%;margin-bottom: 0;padding: 0.3em;box-sizing: border-box;text-align: center;}#sk-container-id-5 label.sk-toggleable__label-arrow:before {content: \"▸\";float: left;margin-right: 0.25em;color: #696969;}#sk-container-id-5 label.sk-toggleable__label-arrow:hover:before {color: black;}#sk-container-id-5 div.sk-estimator:hover label.sk-toggleable__label-arrow:before {color: black;}#sk-container-id-5 div.sk-toggleable__content {max-height: 0;max-width: 0;overflow: hidden;text-align: left;background-color: #f0f8ff;}#sk-container-id-5 div.sk-toggleable__content pre {margin: 0.2em;color: black;border-radius: 0.25em;background-color: #f0f8ff;}#sk-container-id-5 input.sk-toggleable__control:checked~div.sk-toggleable__content {max-height: 200px;max-width: 100%;overflow: auto;}#sk-container-id-5 input.sk-toggleable__control:checked~label.sk-toggleable__label-arrow:before {content: \"▾\";}#sk-container-id-5 div.sk-estimator input.sk-toggleable__control:checked~label.sk-toggleable__label {background-color: #d4ebff;}#sk-container-id-5 div.sk-label input.sk-toggleable__control:checked~label.sk-toggleable__label {background-color: #d4ebff;}#sk-container-id-5 input.sk-hidden--visually {border: 0;clip: rect(1px 1px 1px 1px);clip: rect(1px, 1px, 1px, 1px);height: 1px;margin: -1px;overflow: hidden;padding: 0;position: absolute;width: 1px;}#sk-container-id-5 div.sk-estimator {font-family: monospace;background-color: #f0f8ff;border: 1px dotted black;border-radius: 0.25em;box-sizing: border-box;margin-bottom: 0.5em;}#sk-container-id-5 div.sk-estimator:hover {background-color: #d4ebff;}#sk-container-id-5 div.sk-parallel-item::after {content: \"\";width: 100%;border-bottom: 1px solid gray;flex-grow: 1;}#sk-container-id-5 div.sk-label:hover label.sk-toggleable__label {background-color: #d4ebff;}#sk-container-id-5 div.sk-serial::before {content: \"\";position: absolute;border-left: 1px solid gray;box-sizing: border-box;top: 0;bottom: 0;left: 50%;z-index: 0;}#sk-container-id-5 div.sk-serial {display: flex;flex-direction: column;align-items: center;background-color: white;padding-right: 0.2em;padding-left: 0.2em;position: relative;}#sk-container-id-5 div.sk-item {position: relative;z-index: 1;}#sk-container-id-5 div.sk-parallel {display: flex;align-items: stretch;justify-content: center;background-color: white;position: relative;}#sk-container-id-5 div.sk-item::before, #sk-container-id-5 div.sk-parallel-item::before {content: \"\";position: absolute;border-left: 1px solid gray;box-sizing: border-box;top: 0;bottom: 0;left: 50%;z-index: -1;}#sk-container-id-5 div.sk-parallel-item {display: flex;flex-direction: column;z-index: 1;position: relative;background-color: white;}#sk-container-id-5 div.sk-parallel-item:first-child::after {align-self: flex-end;width: 50%;}#sk-container-id-5 div.sk-parallel-item:last-child::after {align-self: flex-start;width: 50%;}#sk-container-id-5 div.sk-parallel-item:only-child::after {width: 0;}#sk-container-id-5 div.sk-dashed-wrapped {border: 1px dashed gray;margin: 0 0.4em 0.5em 0.4em;box-sizing: border-box;padding-bottom: 0.4em;background-color: white;}#sk-container-id-5 div.sk-label label {font-family: monospace;font-weight: bold;display: inline-block;line-height: 1.2em;}#sk-container-id-5 div.sk-label-container {text-align: center;}#sk-container-id-5 div.sk-container {/* jupyter's `normalize.less` sets `[hidden] { display: none; }` but bootstrap.min.css set `[hidden] { display: none !important; }` so we also need the `!important` here to be able to override the default hidden behavior on the sphinx rendered scikit-learn.org. See: https://github.com/scikit-learn/scikit-learn/issues/21755 */display: inline-block !important;position: relative;}#sk-container-id-5 div.sk-text-repr-fallback {display: none;}</style><div id=\"sk-container-id-5\" class=\"sk-top-container\"><div class=\"sk-text-repr-fallback\"><pre>KNeighborsClassifier(n_neighbors=27)</pre><b>In a Jupyter environment, please rerun this cell to show the HTML representation or trust the notebook. <br />On GitHub, the HTML representation is unable to render, please try loading this page with nbviewer.org.</b></div><div class=\"sk-container\" hidden><div class=\"sk-item\"><div class=\"sk-estimator sk-toggleable\"><input class=\"sk-toggleable__control sk-hidden--visually\" id=\"sk-estimator-id-5\" type=\"checkbox\" checked><label for=\"sk-estimator-id-5\" class=\"sk-toggleable__label sk-toggleable__label-arrow\">KNeighborsClassifier</label><div class=\"sk-toggleable__content\"><pre>KNeighborsClassifier(n_neighbors=27)</pre></div></div></div></div></div>"
      ],
      "text/plain": [
       "KNeighborsClassifier(n_neighbors=27)"
      ]
     },
     "execution_count": 65,
     "metadata": {},
     "output_type": "execute_result"
    }
   ],
   "source": [
    "knn_clf = KNeighborsClassifier()\n",
    "param_grid = dict(n_neighbors = k_possibles)\n",
    "\n",
    "grid_search = GridSearchCV(knn_clf, param_grid, cv = 8)\n",
    "grid_search.fit(X_student_train, y_student_train)\n",
    "grid_search.best_estimator_"
   ]
  },
  {
   "cell_type": "code",
   "execution_count": 67,
   "id": "a45fdc2d",
   "metadata": {},
   "outputs": [
    {
     "name": "stdout",
     "output_type": "stream",
     "text": [
      "Accuracy = 72.0 %\n"
     ]
    }
   ],
   "source": [
    "knn = KNeighborsClassifier(n_neighbors=27)\n",
    "\n",
    "knn.fit(X_student_train, y_student_train)\n",
    "\n",
    "y_student_test_pred = knn.predict(X_student_test)\n",
    "\n",
    "overall_accuracy(y_student_test_pred, y_student_test)"
   ]
  },
  {
   "cell_type": "markdown",
   "id": "1d3a44fe",
   "metadata": {},
   "source": [
    "#### Is this accuracy score similar to that obtained using your knn algorithm from scratch?\n",
    "\n",
    "No, the tuned model is showing a much better score."
   ]
  },
  {
   "cell_type": "markdown",
   "id": "3cc448c2",
   "metadata": {},
   "source": [
    "#### 2D. Also build another model using a random forest classifier and compute the accuracy score on the test set. Which of these models is the better, the model is question 2c or this model in question 2d? Why or why not?"
   ]
  },
  {
   "cell_type": "code",
   "execution_count": 85,
   "id": "7139e759",
   "metadata": {},
   "outputs": [],
   "source": [
    "rf = RandomForestRegressor()\n",
    "param_grid_rf = {'max_features':[0.2, 0.4, 0.6, 0.8], 'n_estimators':[3, 10, 30, 100]}\n",
    "\n",
    "grid_search = GridSearchCV(rf, param_grid_rf, cv = 8)\n",
    "grid_search.fit(X_student_train, y_student_train)\n",
    "grid_search.best_estimator_\n",
    "\n",
    "final_rf= grid_search.best_estimator_\n",
    "final_rf.fit(X_student_test, y_student_test.values.ravel())\n",
    "final_rf_preds = final_rf.predict(X_student_test)"
   ]
  },
  {
   "cell_type": "code",
   "execution_count": 86,
   "id": "fa14e6f7",
   "metadata": {},
   "outputs": [
    {
     "name": "stdout",
     "output_type": "stream",
     "text": [
      "Accuracy = 17.0 %\n"
     ]
    }
   ],
   "source": [
    "overall_accuracy(final_rf_preds, y_student_test)"
   ]
  },
  {
   "cell_type": "markdown",
   "id": "e20b88d6",
   "metadata": {},
   "source": [
    "#### Which of these models is the better, the model is question 2c or this model in question 2d? Why or why not?\n",
    "\n",
    "The accuracy in 2C is better than the accuracy of 2D. we could try to tune the parameters of 2D more to get a better accuracy but as is KNN outperforms random forest."
   ]
  },
  {
   "cell_type": "markdown",
   "id": "5b30e48f",
   "metadata": {},
   "source": [
    "### Question 3"
   ]
  },
  {
   "cell_type": "markdown",
   "id": "3c5a130d",
   "metadata": {},
   "source": [
    "#### 3A. State your research question "
   ]
  },
  {
   "cell_type": "markdown",
   "id": "95e58534",
   "metadata": {},
   "source": [
    "Is KNN a good models for predicting what bank job category an employee belongs to based on education, gender and minority status?"
   ]
  },
  {
   "cell_type": "markdown",
   "id": "83b8e06e",
   "metadata": {},
   "source": [
    "#### 3B. Data pre-processing (to the extent deemed necessary: remember the knn algorithm depends on distances, so you need to rescale, normalize or standardize your input values to make sure no variable influences the predictions due to it scale). "
   ]
  },
  {
   "cell_type": "code",
   "execution_count": 92,
   "id": "47cc9948",
   "metadata": {},
   "outputs": [
    {
     "data": {
      "text/html": [
       "<div>\n",
       "<style scoped>\n",
       "    .dataframe tbody tr th:only-of-type {\n",
       "        vertical-align: middle;\n",
       "    }\n",
       "\n",
       "    .dataframe tbody tr th {\n",
       "        vertical-align: top;\n",
       "    }\n",
       "\n",
       "    .dataframe thead th {\n",
       "        text-align: right;\n",
       "    }\n",
       "</style>\n",
       "<table border=\"1\" class=\"dataframe\">\n",
       "  <thead>\n",
       "    <tr style=\"text-align: right;\">\n",
       "      <th></th>\n",
       "      <th>job</th>\n",
       "      <th>education</th>\n",
       "      <th>gender</th>\n",
       "      <th>minority</th>\n",
       "    </tr>\n",
       "  </thead>\n",
       "  <tbody>\n",
       "    <tr>\n",
       "      <th>1</th>\n",
       "      <td>manage</td>\n",
       "      <td>15</td>\n",
       "      <td>male</td>\n",
       "      <td>no</td>\n",
       "    </tr>\n",
       "    <tr>\n",
       "      <th>2</th>\n",
       "      <td>admin</td>\n",
       "      <td>16</td>\n",
       "      <td>male</td>\n",
       "      <td>no</td>\n",
       "    </tr>\n",
       "    <tr>\n",
       "      <th>3</th>\n",
       "      <td>admin</td>\n",
       "      <td>12</td>\n",
       "      <td>female</td>\n",
       "      <td>no</td>\n",
       "    </tr>\n",
       "    <tr>\n",
       "      <th>4</th>\n",
       "      <td>admin</td>\n",
       "      <td>8</td>\n",
       "      <td>female</td>\n",
       "      <td>no</td>\n",
       "    </tr>\n",
       "    <tr>\n",
       "      <th>5</th>\n",
       "      <td>admin</td>\n",
       "      <td>15</td>\n",
       "      <td>male</td>\n",
       "      <td>no</td>\n",
       "    </tr>\n",
       "  </tbody>\n",
       "</table>\n",
       "</div>"
      ],
      "text/plain": [
       "      job  education  gender minority\n",
       "1  manage         15    male       no\n",
       "2   admin         16    male       no\n",
       "3   admin         12  female       no\n",
       "4   admin          8  female       no\n",
       "5   admin         15    male       no"
      ]
     },
     "execution_count": 92,
     "metadata": {},
     "output_type": "execute_result"
    }
   ],
   "source": [
    "bankDF = pd.read_csv('BankWages.csv', index_col = 0)\n",
    "bankDF.head(5)"
   ]
  },
  {
   "cell_type": "code",
   "execution_count": 95,
   "id": "46001c1e",
   "metadata": {},
   "outputs": [
    {
     "data": {
      "text/html": [
       "<div>\n",
       "<style scoped>\n",
       "    .dataframe tbody tr th:only-of-type {\n",
       "        vertical-align: middle;\n",
       "    }\n",
       "\n",
       "    .dataframe tbody tr th {\n",
       "        vertical-align: top;\n",
       "    }\n",
       "\n",
       "    .dataframe thead th {\n",
       "        text-align: right;\n",
       "    }\n",
       "</style>\n",
       "<table border=\"1\" class=\"dataframe\">\n",
       "  <thead>\n",
       "    <tr style=\"text-align: right;\">\n",
       "      <th></th>\n",
       "      <th>job</th>\n",
       "      <th>education</th>\n",
       "      <th>gender</th>\n",
       "      <th>minority</th>\n",
       "    </tr>\n",
       "  </thead>\n",
       "  <tbody>\n",
       "    <tr>\n",
       "      <th>1</th>\n",
       "      <td>0</td>\n",
       "      <td>15</td>\n",
       "      <td>0</td>\n",
       "      <td>0</td>\n",
       "    </tr>\n",
       "    <tr>\n",
       "      <th>2</th>\n",
       "      <td>1</td>\n",
       "      <td>16</td>\n",
       "      <td>0</td>\n",
       "      <td>0</td>\n",
       "    </tr>\n",
       "    <tr>\n",
       "      <th>3</th>\n",
       "      <td>1</td>\n",
       "      <td>12</td>\n",
       "      <td>1</td>\n",
       "      <td>0</td>\n",
       "    </tr>\n",
       "    <tr>\n",
       "      <th>4</th>\n",
       "      <td>1</td>\n",
       "      <td>8</td>\n",
       "      <td>1</td>\n",
       "      <td>0</td>\n",
       "    </tr>\n",
       "    <tr>\n",
       "      <th>5</th>\n",
       "      <td>1</td>\n",
       "      <td>15</td>\n",
       "      <td>0</td>\n",
       "      <td>0</td>\n",
       "    </tr>\n",
       "  </tbody>\n",
       "</table>\n",
       "</div>"
      ],
      "text/plain": [
       "   job  education  gender  minority\n",
       "1    0         15       0         0\n",
       "2    1         16       0         0\n",
       "3    1         12       1         0\n",
       "4    1          8       1         0\n",
       "5    1         15       0         0"
      ]
     },
     "execution_count": 95,
     "metadata": {},
     "output_type": "execute_result"
    }
   ],
   "source": [
    "bankDF['job'].replace(['manage', 'admin', 'custodial'],[0, 1, 2], inplace = True)\n",
    "bankDF['gender'].replace(['male', 'female'],[0, 1], inplace = True)\n",
    "bankDF['minority'].replace(['no', 'yes'], [0, 1], inplace = True)\n",
    "bankDF.head()"
   ]
  },
  {
   "cell_type": "code",
   "execution_count": 104,
   "id": "e79b6456",
   "metadata": {},
   "outputs": [
    {
     "data": {
      "text/html": [
       "<div>\n",
       "<style scoped>\n",
       "    .dataframe tbody tr th:only-of-type {\n",
       "        vertical-align: middle;\n",
       "    }\n",
       "\n",
       "    .dataframe tbody tr th {\n",
       "        vertical-align: top;\n",
       "    }\n",
       "\n",
       "    .dataframe thead th {\n",
       "        text-align: right;\n",
       "    }\n",
       "</style>\n",
       "<table border=\"1\" class=\"dataframe\">\n",
       "  <thead>\n",
       "    <tr style=\"text-align: right;\">\n",
       "      <th></th>\n",
       "      <th>job</th>\n",
       "      <th>education</th>\n",
       "      <th>gender</th>\n",
       "      <th>minority</th>\n",
       "    </tr>\n",
       "  </thead>\n",
       "  <tbody>\n",
       "    <tr>\n",
       "      <th>1</th>\n",
       "      <td>0</td>\n",
       "      <td>0.538462</td>\n",
       "      <td>0</td>\n",
       "      <td>0</td>\n",
       "    </tr>\n",
       "    <tr>\n",
       "      <th>2</th>\n",
       "      <td>1</td>\n",
       "      <td>0.615385</td>\n",
       "      <td>0</td>\n",
       "      <td>0</td>\n",
       "    </tr>\n",
       "    <tr>\n",
       "      <th>3</th>\n",
       "      <td>1</td>\n",
       "      <td>0.307692</td>\n",
       "      <td>1</td>\n",
       "      <td>0</td>\n",
       "    </tr>\n",
       "    <tr>\n",
       "      <th>4</th>\n",
       "      <td>1</td>\n",
       "      <td>0.000000</td>\n",
       "      <td>1</td>\n",
       "      <td>0</td>\n",
       "    </tr>\n",
       "    <tr>\n",
       "      <th>5</th>\n",
       "      <td>1</td>\n",
       "      <td>0.538462</td>\n",
       "      <td>0</td>\n",
       "      <td>0</td>\n",
       "    </tr>\n",
       "  </tbody>\n",
       "</table>\n",
       "</div>"
      ],
      "text/plain": [
       "   job  education  gender  minority\n",
       "1    0   0.538462       0         0\n",
       "2    1   0.615385       0         0\n",
       "3    1   0.307692       1         0\n",
       "4    1   0.000000       1         0\n",
       "5    1   0.538462       0         0"
      ]
     },
     "execution_count": 104,
     "metadata": {},
     "output_type": "execute_result"
    }
   ],
   "source": [
    "scaler = MinMaxScaler()\n",
    "contCols = ['education']\n",
    "contCols\n",
    "bankDF.loc[:,contCols] = scaler.fit_transform(bankDF.loc[:,contCols])\n",
    "bankDF.head(5)"
   ]
  },
  {
   "cell_type": "markdown",
   "id": "ef7aec0b",
   "metadata": {},
   "source": [
    "#### 3C. Data splitting "
   ]
  },
  {
   "cell_type": "code",
   "execution_count": 107,
   "id": "b5dbc92b",
   "metadata": {},
   "outputs": [
    {
     "name": "stdout",
     "output_type": "stream",
     "text": [
      "Sizes of training and test sets: [331, 143, 331, 143]\n"
     ]
    }
   ],
   "source": [
    "X = bankDF.drop(columns = ['job'])\n",
    "y = bankDF['job']\n",
    "\n",
    "X_train, X_test, y_train, y_test = train_test_split(X, y, test_size = 0.3, random_state = 42)\n",
    "\n",
    "print(\"Sizes of training and test sets:\", [len(elem) for elem in [X_train, X_test, y_train, y_test]])"
   ]
  },
  {
   "cell_type": "markdown",
   "id": "f2d23e3f",
   "metadata": {},
   "source": [
    "#### 3D. Model construction "
   ]
  },
  {
   "cell_type": "code",
   "execution_count": 116,
   "id": "0fd84b1c",
   "metadata": {},
   "outputs": [
    {
     "data": {
      "text/plain": [
       "0.8881118881118881"
      ]
     },
     "execution_count": 116,
     "metadata": {},
     "output_type": "execute_result"
    }
   ],
   "source": [
    "KNN = KNeighborsClassifier(n_neighbors = 5)\n",
    "KNN.fit(X_train, y_train)\n",
    "preds = KNN.predict(X_test)\n",
    "# preds\n",
    "\n",
    "accuracy_score(y_test, preds)"
   ]
  },
  {
   "cell_type": "markdown",
   "id": "1f2550b1",
   "metadata": {},
   "source": [
    "#### 3E. Hyperparameter turning (choose whatever approach your like)"
   ]
  },
  {
   "cell_type": "code",
   "execution_count": 119,
   "id": "5d8729a5",
   "metadata": {},
   "outputs": [
    {
     "data": {
      "text/html": [
       "<style>#sk-container-id-10 {color: black;background-color: white;}#sk-container-id-10 pre{padding: 0;}#sk-container-id-10 div.sk-toggleable {background-color: white;}#sk-container-id-10 label.sk-toggleable__label {cursor: pointer;display: block;width: 100%;margin-bottom: 0;padding: 0.3em;box-sizing: border-box;text-align: center;}#sk-container-id-10 label.sk-toggleable__label-arrow:before {content: \"▸\";float: left;margin-right: 0.25em;color: #696969;}#sk-container-id-10 label.sk-toggleable__label-arrow:hover:before {color: black;}#sk-container-id-10 div.sk-estimator:hover label.sk-toggleable__label-arrow:before {color: black;}#sk-container-id-10 div.sk-toggleable__content {max-height: 0;max-width: 0;overflow: hidden;text-align: left;background-color: #f0f8ff;}#sk-container-id-10 div.sk-toggleable__content pre {margin: 0.2em;color: black;border-radius: 0.25em;background-color: #f0f8ff;}#sk-container-id-10 input.sk-toggleable__control:checked~div.sk-toggleable__content {max-height: 200px;max-width: 100%;overflow: auto;}#sk-container-id-10 input.sk-toggleable__control:checked~label.sk-toggleable__label-arrow:before {content: \"▾\";}#sk-container-id-10 div.sk-estimator input.sk-toggleable__control:checked~label.sk-toggleable__label {background-color: #d4ebff;}#sk-container-id-10 div.sk-label input.sk-toggleable__control:checked~label.sk-toggleable__label {background-color: #d4ebff;}#sk-container-id-10 input.sk-hidden--visually {border: 0;clip: rect(1px 1px 1px 1px);clip: rect(1px, 1px, 1px, 1px);height: 1px;margin: -1px;overflow: hidden;padding: 0;position: absolute;width: 1px;}#sk-container-id-10 div.sk-estimator {font-family: monospace;background-color: #f0f8ff;border: 1px dotted black;border-radius: 0.25em;box-sizing: border-box;margin-bottom: 0.5em;}#sk-container-id-10 div.sk-estimator:hover {background-color: #d4ebff;}#sk-container-id-10 div.sk-parallel-item::after {content: \"\";width: 100%;border-bottom: 1px solid gray;flex-grow: 1;}#sk-container-id-10 div.sk-label:hover label.sk-toggleable__label {background-color: #d4ebff;}#sk-container-id-10 div.sk-serial::before {content: \"\";position: absolute;border-left: 1px solid gray;box-sizing: border-box;top: 0;bottom: 0;left: 50%;z-index: 0;}#sk-container-id-10 div.sk-serial {display: flex;flex-direction: column;align-items: center;background-color: white;padding-right: 0.2em;padding-left: 0.2em;position: relative;}#sk-container-id-10 div.sk-item {position: relative;z-index: 1;}#sk-container-id-10 div.sk-parallel {display: flex;align-items: stretch;justify-content: center;background-color: white;position: relative;}#sk-container-id-10 div.sk-item::before, #sk-container-id-10 div.sk-parallel-item::before {content: \"\";position: absolute;border-left: 1px solid gray;box-sizing: border-box;top: 0;bottom: 0;left: 50%;z-index: -1;}#sk-container-id-10 div.sk-parallel-item {display: flex;flex-direction: column;z-index: 1;position: relative;background-color: white;}#sk-container-id-10 div.sk-parallel-item:first-child::after {align-self: flex-end;width: 50%;}#sk-container-id-10 div.sk-parallel-item:last-child::after {align-self: flex-start;width: 50%;}#sk-container-id-10 div.sk-parallel-item:only-child::after {width: 0;}#sk-container-id-10 div.sk-dashed-wrapped {border: 1px dashed gray;margin: 0 0.4em 0.5em 0.4em;box-sizing: border-box;padding-bottom: 0.4em;background-color: white;}#sk-container-id-10 div.sk-label label {font-family: monospace;font-weight: bold;display: inline-block;line-height: 1.2em;}#sk-container-id-10 div.sk-label-container {text-align: center;}#sk-container-id-10 div.sk-container {/* jupyter's `normalize.less` sets `[hidden] { display: none; }` but bootstrap.min.css set `[hidden] { display: none !important; }` so we also need the `!important` here to be able to override the default hidden behavior on the sphinx rendered scikit-learn.org. See: https://github.com/scikit-learn/scikit-learn/issues/21755 */display: inline-block !important;position: relative;}#sk-container-id-10 div.sk-text-repr-fallback {display: none;}</style><div id=\"sk-container-id-10\" class=\"sk-top-container\"><div class=\"sk-text-repr-fallback\"><pre>KNeighborsClassifier(n_neighbors=4)</pre><b>In a Jupyter environment, please rerun this cell to show the HTML representation or trust the notebook. <br />On GitHub, the HTML representation is unable to render, please try loading this page with nbviewer.org.</b></div><div class=\"sk-container\" hidden><div class=\"sk-item\"><div class=\"sk-estimator sk-toggleable\"><input class=\"sk-toggleable__control sk-hidden--visually\" id=\"sk-estimator-id-10\" type=\"checkbox\" checked><label for=\"sk-estimator-id-10\" class=\"sk-toggleable__label sk-toggleable__label-arrow\">KNeighborsClassifier</label><div class=\"sk-toggleable__content\"><pre>KNeighborsClassifier(n_neighbors=4)</pre></div></div></div></div></div>"
      ],
      "text/plain": [
       "KNeighborsClassifier(n_neighbors=4)"
      ]
     },
     "execution_count": 119,
     "metadata": {},
     "output_type": "execute_result"
    }
   ],
   "source": [
    "knn_clf = KNeighborsClassifier()\n",
    "param_grid = dict(n_neighbors = k_possibles)\n",
    "\n",
    "grid_search = GridSearchCV(knn_clf, param_grid, cv = 8)\n",
    "grid_search.fit(X_train, y_train)\n",
    "grid_search.best_estimator_"
   ]
  },
  {
   "cell_type": "markdown",
   "id": "86de6645",
   "metadata": {},
   "source": [
    "#### 3F. Use the best or optimal parameter values to build a model, then compute the accuracy score for your estimator. "
   ]
  },
  {
   "cell_type": "code",
   "execution_count": 123,
   "id": "1c36c02a",
   "metadata": {},
   "outputs": [
    {
     "data": {
      "text/plain": [
       "0.8972809667673716"
      ]
     },
     "execution_count": 123,
     "metadata": {},
     "output_type": "execute_result"
    }
   ],
   "source": [
    "knn = KNeighborsClassifier(n_neighbors=4)\n",
    "\n",
    "knn.fit(X_train, y_train)\n",
    "\n",
    "y_pred_train = knn.predict(X_train)\n",
    "\n",
    "accuracy_score(y_pred_train, y_train)"
   ]
  },
  {
   "cell_type": "code",
   "execution_count": 121,
   "id": "cf54e55d",
   "metadata": {},
   "outputs": [
    {
     "data": {
      "text/plain": [
       "0.8881118881118881"
      ]
     },
     "execution_count": 121,
     "metadata": {},
     "output_type": "execute_result"
    }
   ],
   "source": [
    "knn = KNeighborsClassifier(n_neighbors=4)\n",
    "\n",
    "knn.fit(X_train, y_train)\n",
    "\n",
    "y_pred = knn.predict(X_test)\n",
    "\n",
    "accuracy_score(y_pred, y_test)"
   ]
  },
  {
   "cell_type": "markdown",
   "id": "f8de4fe5",
   "metadata": {},
   "source": [
    "#### Discuss about overfitting for the model \n",
    "\n",
    "Based on the accuracy scores of the train and test sets for the tuned model, it would appear that the model is not overfitting. The accuracy scores are very close to eachother. "
   ]
  }
 ],
 "metadata": {
  "kernelspec": {
   "display_name": "Python 3 (ipykernel)",
   "language": "python",
   "name": "python3"
  },
  "language_info": {
   "codemirror_mode": {
    "name": "ipython",
    "version": 3
   },
   "file_extension": ".py",
   "mimetype": "text/x-python",
   "name": "python",
   "nbconvert_exporter": "python",
   "pygments_lexer": "ipython3",
   "version": "3.8.10"
  }
 },
 "nbformat": 4,
 "nbformat_minor": 5
}
