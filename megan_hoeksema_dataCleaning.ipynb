{
 "cells": [
  {
   "cell_type": "markdown",
   "id": "760270cf",
   "metadata": {},
   "source": [
    "### Megan Hoeksema\n",
    "### COMP4488\n",
    "### Data Cleaning Assignment"
   ]
  },
  {
   "cell_type": "markdown",
   "id": "1ad8d27a",
   "metadata": {},
   "source": [
    "#### Packages"
   ]
  },
  {
   "cell_type": "code",
   "execution_count": 359,
   "id": "1fd7e97a",
   "metadata": {},
   "outputs": [],
   "source": [
    "import numpy as np\n",
    "import matplotlib.pyplot as plt\n",
    "%matplotlib inline\n",
    "import pandas as pd\n",
    "import seaborn as sns"
   ]
  },
  {
   "cell_type": "markdown",
   "id": "9420285f",
   "metadata": {},
   "source": [
    "#### Data Preparation (Training Set)"
   ]
  },
  {
   "cell_type": "code",
   "execution_count": 360,
   "id": "9410461c",
   "metadata": {},
   "outputs": [],
   "source": [
    "# Load in the dataset and add column titles\n",
    "training = pd.read_csv('census_income_train.csv', names = ['age', 'class_of_worker', 'detailed_industry_recode', \n",
    "                                                           'detailed_occupation_recode', 'education','wage_per_hour', \n",
    "                                                           'enroll_in_edu_inst_last_wk', 'marital_stat', 'major_industry_code', \n",
    "                                                           'major_occupation_code', 'race', 'hispanic_origin', \n",
    "                                                           'sex','member_of_a_labor_union', 'reason_for_unemployment', \n",
    "                                                           'full_or_part_time_employment_stat', 'capital_gains', \n",
    "                                                           'capital_losses', 'dividends_from_stocks', 'tax_filer_stat', \n",
    "                                                           'region_of_previous_residence', 'state_of_previous_residence', \n",
    "                                                           'detailed_household_and_family_stat', \n",
    "                                                           'detailed_household_summary_in_household', \n",
    "                                                           'instance_weight', 'migration_code_change_in_msa', \n",
    "                                                           'migration_code_change_in_reg', 'migration_code_move_within_reg',\n",
    "                                                           'live_in_this_house_1_year_ago', 'migration_prev_res_in_sunbelt', \n",
    "                                                           'num_persons_worked_for_employer','family_members_under_18', \n",
    "                                                           'country_of_birth_father', 'country_of_birth_mother', \n",
    "                                                           'country_of_birth_self', 'citizenship', \n",
    "                                                           'own_business_or_self_employed', \n",
    "                                                           'fill_inc_questionnaire_for_veterans_admin', 'veterans_benefits', \n",
    "                                                           'weeks_worked_in_year', 'year', 'target'], skipinitialspace = True)\n",
    "# training.head()"
   ]
  },
  {
   "cell_type": "code",
   "execution_count": 361,
   "id": "583a05a8",
   "metadata": {},
   "outputs": [
    {
     "name": "stdout",
     "output_type": "stream",
     "text": [
      "\n",
      "Categories for variable age\n",
      "[73 58 18  9 10 48 42 28 47 34  8 32 51 46 26 13 39 16 35 12 27 56 55  2\n",
      "  1 37  4 63 25 81 11 30  7 66 84 52  5 36 72 61 41 90 49  6  0 33 57 50\n",
      " 24 17 53 40 54 22 29 85 38 76 21 31 74 19 15  3 43 68 71 45 62 23 69 75\n",
      " 44 59 60 64 65 70 67 78 20 14 83 86 89 77 79 82 80 87 88]\n",
      "\n",
      "Categories for variable class_of_worker\n",
      "['Not in universe' 'Self-employed-not incorporated' 'Private'\n",
      " 'Local government' 'Federal government' 'Self-employed-incorporated'\n",
      " 'State government' 'Never worked' 'Without pay']\n",
      "\n",
      "Categories for variable detailed_industry_recode\n",
      "[ 0  4 40 34 43 37 24 39 12 35 45  3 19 29 32 48 33 23 44 36 31 30 41  5\n",
      " 11  9 42  6 18 50  2  1 26 47 16 14 22 17  7  8 25 46 27 15 13 49 38 21\n",
      " 28 20 51 10]\n",
      "\n",
      "Categories for variable detailed_occupation_recode\n",
      "[ 0 34 10  3 40 26 37 31 12 36 41 22  2 35 25 23 42  8 19 29 27 16 33 13\n",
      " 18  9 17 39 32 11 30 38 20  7 21 44 24 43 28  4  1  6 45 14  5 15 46]\n",
      "\n",
      "Categories for variable education\n",
      "['High school graduate' 'Some college but no degree' '10th grade'\n",
      " 'Children' 'Bachelors degree(BA AB BS)'\n",
      " 'Masters degree(MA MS MEng MEd MSW MBA)' 'Less than 1st grade'\n",
      " 'Associates degree-academic program' '7th and 8th grade'\n",
      " '12th grade no diploma' 'Associates degree-occup /vocational'\n",
      " 'Prof school degree (MD DDS DVM LLB JD)' '5th or 6th grade' '11th grade'\n",
      " 'Doctorate degree(PhD EdD)' '9th grade' '1st 2nd 3rd or 4th grade']\n",
      "\n",
      "Categories for variable wage_per_hour\n",
      "[   0 1200  876 ... 3156 2188 1092]\n",
      "\n",
      "Categories for variable enroll_in_edu_inst_last_wk\n",
      "['Not in universe' 'High school' 'College or university']\n",
      "\n",
      "Categories for variable marital_stat\n",
      "['Widowed' 'Divorced' 'Never married' 'Married-civilian spouse present'\n",
      " 'Separated' 'Married-spouse absent' 'Married-A F spouse present']\n",
      "\n",
      "Categories for variable major_industry_code\n",
      "['Not in universe or children' 'Construction' 'Entertainment'\n",
      " 'Finance insurance and real estate' 'Education'\n",
      " 'Business and repair services' 'Manufacturing-nondurable goods'\n",
      " 'Personal services except private HH' 'Manufacturing-durable goods'\n",
      " 'Other professional services' 'Mining' 'Transportation' 'Wholesale trade'\n",
      " 'Public administration' 'Retail trade' 'Social services'\n",
      " 'Private household services' 'Utilities and sanitary services'\n",
      " 'Communications' 'Hospital services' 'Medical except hospital'\n",
      " 'Agriculture' 'Forestry and fisheries' 'Armed Forces']\n",
      "\n",
      "Categories for variable major_occupation_code\n",
      "['Not in universe' 'Precision production craft & repair'\n",
      " 'Professional specialty' 'Executive admin and managerial'\n",
      " 'Handlers equip cleaners etc ' 'Adm support including clerical'\n",
      " 'Machine operators assmblrs & inspctrs' 'Other service' 'Sales'\n",
      " 'Private household services' 'Technicians and related support'\n",
      " 'Transportation and material moving' 'Farming forestry and fishing'\n",
      " 'Protective services' 'Armed Forces']\n",
      "\n",
      "Categories for variable race\n",
      "['White' 'Asian or Pacific Islander' 'Amer Indian Aleut or Eskimo' 'Black'\n",
      " 'Other']\n",
      "\n",
      "Categories for variable hispanic_origin\n",
      "['All other' 'Do not know' 'Central or South American'\n",
      " 'Mexican (Mexicano)' 'Mexican-American' 'Other Spanish' 'Puerto Rican'\n",
      " 'Cuban' 'Chicano' nan]\n",
      "\n",
      "Categories for variable sex\n",
      "['Female' 'Male']\n",
      "\n",
      "Categories for variable member_of_a_labor_union\n",
      "['Not in universe' 'No' 'Yes']\n",
      "\n",
      "Categories for variable reason_for_unemployment\n",
      "['Not in universe' 'Job loser - on layoff' 'Other job loser' 'New entrant'\n",
      " 'Re-entrant' 'Job leaver']\n",
      "\n",
      "Categories for variable full_or_part_time_employment_stat\n",
      "['Not in labor force' 'Children or Armed Forces' 'Full-time schedules'\n",
      " 'Unemployed full-time' 'Unemployed part- time'\n",
      " 'PT for non-econ reasons usually FT' 'PT for econ reasons usually PT'\n",
      " 'PT for econ reasons usually FT']\n",
      "\n",
      "Categories for variable capital_gains\n",
      "[    0  5178   991  2829  3464  5556  7298 15024  1831  3137 10605 20051\n",
      "  2538  3908  2407  2050  3103  1086  7688  5013  4386  2414 99999 13550\n",
      "  2174  4650  4064   914  2354  4787  2009  2597  1055  6097  2635  2105\n",
      "  3325  6767  2228  2062  3942 27828  9562  2176  7262  2202  2290  1173\n",
      "  8614  2329  2653  7430  3456  2580 10520  2907  3471  2885  9386  2993\n",
      "  7896 14084  3818  1409   594  7978  1797  2964  4934  1848  4101  3418\n",
      "  3432  2774  1424  6849  4687  6418  4508  3674  3411  2936  4416  2346\n",
      " 10566  7443  5455  1151 25236  2463  1455  3781 14344  4865 11678  1471\n",
      "  5060   114  4931  1506   401 25124 15020  2036  3273  6514  1111  2977\n",
      " 41310 18481  6497  6723 15831  2098  1264 34095 22040  3887  2961  5721\n",
      "  1090  6360  3800  2387  1731  6612  9472  4594  2601  1140  2227  8530]\n",
      "\n",
      "Categories for variable capital_losses\n",
      "[   0 1590 1977 1669 1719 2444 1421 1848 2205 2149 2001 1902 2090 1573\n",
      " 2415 2377 1876 1602 1740 1974 2339 1887 1258 2597 2603 1408 1980 1721\n",
      " 1816 1340 2788 2174 2042 1485 2489 2129 2457 2051 1762 2057 1672 2258\n",
      "  213 1651 2206 3770 1628 1564 1668 1735 1579  625 4608 2559 2246 4356\n",
      " 1844 2002 2267 3175 1380 2392 1092 1504 2238 2704 2467  810 1539 2824\n",
      " 1741 1870 1944 1825  419 2547 1510  880 1617 1411 1648  323 2282 2352\n",
      " 3004 1755 1429  653 2163 2179 1436 2722 3500 1640  974 1021 2754 1726\n",
      " 3900 2027  772 2231 1138 1594 2465 2519 1956 1911 2472 2201 2080 3683\n",
      "  155]\n",
      "\n",
      "Categories for variable dividends_from_stocks\n",
      "[   0 6000  100 ...  169 1055 7958]\n",
      "\n",
      "Categories for variable tax_filer_stat\n",
      "['Nonfiler' 'Head of household' 'Joint both under 65' 'Single'\n",
      " 'Joint both 65+' 'Joint one under 65 & one 65+']\n",
      "\n",
      "Categories for variable region_of_previous_residence\n",
      "['Not in universe' 'South' 'Northeast' 'Midwest' 'West' 'Abroad']\n",
      "\n",
      "Categories for variable state_of_previous_residence\n",
      "['Not in universe' 'Arkansas' 'Utah' 'Michigan' 'Minnesota' 'Alaska'\n",
      " 'Kansas' 'Indiana' '?' 'Massachusetts' 'New Mexico' 'Nevada' 'Tennessee'\n",
      " 'Colorado' 'Abroad' 'Kentucky' 'California' 'Arizona' 'North Carolina'\n",
      " 'Connecticut' 'Florida' 'Vermont' 'Maryland' 'Oklahoma' 'Oregon' 'Ohio'\n",
      " 'South Carolina' 'Texas' 'Montana' 'Wyoming' 'Georgia' 'Pennsylvania'\n",
      " 'Iowa' 'New Hampshire' 'Missouri' 'Alabama' 'North Dakota' 'New Jersey'\n",
      " 'Louisiana' 'West Virginia' 'Delaware' 'Illinois' 'Maine' 'Wisconsin'\n",
      " 'New York' 'Idaho' 'District of Columbia' 'South Dakota' 'Nebraska'\n",
      " 'Virginia' 'Mississippi']\n",
      "\n",
      "Categories for variable detailed_household_and_family_stat\n",
      "['Other Rel 18+ ever marr not in subfamily' 'Householder'\n",
      " 'Child 18+ never marr Not in a subfamily'\n",
      " 'Child <18 never marr not in subfamily' 'Spouse of householder'\n",
      " 'Secondary individual' 'Other Rel 18+ never marr not in subfamily'\n",
      " 'Nonfamily householder' 'Grandchild <18 never marr not in subfamily'\n",
      " 'Grandchild <18 never marr child of subfamily RP'\n",
      " 'Child 18+ ever marr Not in a subfamily'\n",
      " 'Child 18+ never marr RP of subfamily' 'Child 18+ spouse of subfamily RP'\n",
      " 'Other Rel <18 never marr child of subfamily RP'\n",
      " 'Child under 18 of RP of unrel subfamily'\n",
      " 'Grandchild 18+ never marr not in subfamily'\n",
      " 'Child 18+ ever marr RP of subfamily'\n",
      " 'Other Rel 18+ ever marr RP of subfamily' 'RP of unrelated subfamily'\n",
      " 'Other Rel 18+ spouse of subfamily RP'\n",
      " 'Other Rel <18 never marr not in subfamily'\n",
      " 'Other Rel <18 spouse of subfamily RP' 'In group quarters'\n",
      " 'Grandchild 18+ spouse of subfamily RP'\n",
      " 'Other Rel 18+ never marr RP of subfamily'\n",
      " 'Child <18 never marr RP of subfamily'\n",
      " 'Child <18 ever marr not in subfamily'\n",
      " 'Other Rel <18 ever marr RP of subfamily'\n",
      " 'Grandchild 18+ ever marr not in subfamily'\n",
      " 'Child <18 spouse of subfamily RP' 'Spouse of RP of unrelated subfamily'\n",
      " 'Other Rel <18 never married RP of subfamily'\n",
      " 'Grandchild 18+ never marr RP of subfamily'\n",
      " 'Grandchild 18+ ever marr RP of subfamily'\n",
      " 'Child <18 ever marr RP of subfamily'\n",
      " 'Other Rel <18 ever marr not in subfamily'\n",
      " 'Grandchild <18 never marr RP of subfamily'\n",
      " 'Grandchild <18 ever marr not in subfamily']\n",
      "\n",
      "Categories for variable detailed_household_summary_in_household\n",
      "['Other relative of householder' 'Householder' 'Child 18 or older'\n",
      " 'Child under 18 never married' 'Spouse of householder'\n",
      " 'Nonrelative of householder' 'Group Quarters- Secondary individual'\n",
      " 'Child under 18 ever married']\n",
      "\n",
      "Categories for variable instance_weight\n",
      "[1700.09 1053.55  991.95 ... 2733.75  908.14 4664.87]\n",
      "\n",
      "Categories for variable migration_code_change_in_msa\n",
      "['?' 'MSA to MSA' 'Nonmover' 'NonMSA to nonMSA' 'Not in universe'\n",
      " 'Not identifiable' 'Abroad to MSA' 'MSA to nonMSA' 'Abroad to nonMSA'\n",
      " 'NonMSA to MSA']\n",
      "\n",
      "Categories for variable migration_code_change_in_reg\n",
      "['?' 'Same county' 'Nonmover' 'Different region'\n",
      " 'Different county same state' 'Not in universe'\n",
      " 'Different division same region' 'Abroad' 'Different state same division']\n",
      "\n",
      "Categories for variable migration_code_move_within_reg\n",
      "['?' 'Same county' 'Nonmover' 'Different state in South'\n",
      " 'Different county same state' 'Not in universe'\n",
      " 'Different state in Northeast' 'Abroad' 'Different state in Midwest'\n",
      " 'Different state in West']\n",
      "\n",
      "Categories for variable live_in_this_house_1_year_ago\n"
     ]
    },
    {
     "name": "stdout",
     "output_type": "stream",
     "text": [
      "['Not in universe under 1 year old' 'No' 'Yes']\n",
      "\n",
      "Categories for variable migration_prev_res_in_sunbelt\n",
      "['?' 'Yes' 'Not in universe' 'No']\n",
      "\n",
      "Categories for variable num_persons_worked_for_employer\n",
      "[0 1 6 4 5 3 2]\n",
      "\n",
      "Categories for variable family_members_under_18\n",
      "['Not in universe' 'Both parents present' 'Mother only present'\n",
      " 'Neither parent present' 'Father only present']\n",
      "\n",
      "Categories for variable country_of_birth_father\n",
      "['United-States' 'Vietnam' 'Philippines' '?' 'Columbia' 'Germany' 'Mexico'\n",
      " 'Japan' 'Peru' 'Dominican-Republic' 'South Korea' 'Cuba' 'El-Salvador'\n",
      " 'Canada' 'Scotland' 'Outlying-U S (Guam USVI etc)' 'Italy' 'Guatemala'\n",
      " 'Ecuador' 'Puerto-Rico' 'Cambodia' 'China' 'Poland' 'Nicaragua' 'Taiwan'\n",
      " 'England' 'Ireland' 'Hungary' 'Yugoslavia' 'Trinadad&Tobago' 'Jamaica'\n",
      " 'Honduras' 'Portugal' 'Iran' 'France' 'India' 'Hong Kong' 'Haiti'\n",
      " 'Greece' 'Holand-Netherlands' 'Thailand' 'Laos' 'Panama']\n",
      "\n",
      "Categories for variable country_of_birth_mother\n",
      "['United-States' 'Vietnam' '?' 'Columbia' 'Mexico' 'El-Salvador' 'Peru'\n",
      " 'Puerto-Rico' 'Cuba' 'Philippines' 'Dominican-Republic' 'Germany'\n",
      " 'England' 'Guatemala' 'Scotland' 'Portugal' 'Italy' 'Ecuador'\n",
      " 'Yugoslavia' 'China' 'Poland' 'Hungary' 'Nicaragua' 'Taiwan' 'Ireland'\n",
      " 'Canada' 'South Korea' 'Trinadad&Tobago' 'Jamaica' 'Honduras' 'Iran'\n",
      " 'France' 'Cambodia' 'India' 'Hong Kong' 'Haiti' 'Japan' 'Greece'\n",
      " 'Holand-Netherlands' 'Thailand' 'Panama' 'Laos'\n",
      " 'Outlying-U S (Guam USVI etc)']\n",
      "\n",
      "Categories for variable country_of_birth_self\n",
      "['United-States' 'Vietnam' '?' 'Columbia' 'Mexico' 'Peru' 'Cuba'\n",
      " 'Philippines' 'Dominican-Republic' 'El-Salvador' 'Canada' 'Scotland'\n",
      " 'Portugal' 'Guatemala' 'Ecuador' 'Germany' 'Outlying-U S (Guam USVI etc)'\n",
      " 'Puerto-Rico' 'Italy' 'China' 'Poland' 'Nicaragua' 'Taiwan' 'England'\n",
      " 'Ireland' 'South Korea' 'Trinadad&Tobago' 'Jamaica' 'Honduras' 'Iran'\n",
      " 'Hungary' 'France' 'Cambodia' 'India' 'Hong Kong' 'Japan' 'Haiti'\n",
      " 'Holand-Netherlands' 'Greece' 'Thailand' 'Panama' 'Yugoslavia' 'Laos']\n",
      "\n",
      "Categories for variable citizenship\n",
      "['Native- Born in the United States' 'Foreign born- Not a citizen of U S '\n",
      " 'Foreign born- U S citizen by naturalization'\n",
      " 'Native- Born abroad of American Parent(s)'\n",
      " 'Native- Born in Puerto Rico or U S Outlying']\n",
      "\n",
      "Categories for variable own_business_or_self_employed\n",
      "[0 2 1]\n",
      "\n",
      "Categories for variable fill_inc_questionnaire_for_veterans_admin\n",
      "['Not in universe' 'No' 'Yes']\n",
      "\n",
      "Categories for variable veterans_benefits\n",
      "[2 0 1]\n",
      "\n",
      "Categories for variable weeks_worked_in_year\n",
      "[ 0 52 30 49 32 15 38 48  9 24 50 10 45 43  4 26 40 20  6 12 51  1  8 39\n",
      " 13 16 34 14 36 44 22 41 46 28 23 35 25 17 11 37  5 42 29  2 21 19 47  3\n",
      " 27  7 18 33 31]\n",
      "\n",
      "Categories for variable year\n",
      "[95 94]\n",
      "\n",
      "Categories for variable target\n",
      "['- 50000.' '50000+.']\n"
     ]
    }
   ],
   "source": [
    "# Determine Unique values\n",
    "columns = list(training.columns)\n",
    "\n",
    "for col in columns:\n",
    "    print ('\\nCategories for variable %s'%col)\n",
    "    print (training[col].unique())"
   ]
  },
  {
   "cell_type": "code",
   "execution_count": 362,
   "id": "bcd2ea3b",
   "metadata": {},
   "outputs": [],
   "source": [
    "# Replace Not in universe with NaN\n",
    "\n",
    "training = training.replace('Not in universe','', regex=True)\n",
    "\n",
    "training = training.replace(r'^\\s*$', np.nan, regex=True)\n",
    "\n",
    "# training.head()"
   ]
  },
  {
   "cell_type": "code",
   "execution_count": 363,
   "id": "89fa7ecb",
   "metadata": {},
   "outputs": [],
   "source": [
    "# Correcting values\n",
    "\n",
    "training = training.replace(' ?','', regex=True)\n",
    "\n",
    "training = training.replace(r'^\\s*$', np.nan, regex=True)"
   ]
  },
  {
   "cell_type": "code",
   "execution_count": 364,
   "id": "6d6f540e",
   "metadata": {},
   "outputs": [
    {
     "name": "stdout",
     "output_type": "stream",
     "text": [
      "age                                               0\n",
      "class_of_worker                              100245\n",
      "detailed_industry_recode                          0\n",
      "detailed_occupation_recode                        0\n",
      "education                                         0\n",
      "wage_per_hour                                     0\n",
      "enroll_in_edu_inst_last_wk                   186943\n",
      "marital_stat                                      0\n",
      "major_industry_code                               0\n",
      "major_occupation_code                        100684\n",
      "race                                              0\n",
      "hispanic_origin                                 874\n",
      "sex                                               0\n",
      "member_of_a_labor_union                      180459\n",
      "reason_for_unemployment                      193453\n",
      "full_or_part_time_employment_stat                 0\n",
      "capital_gains                                     0\n",
      "capital_losses                                    0\n",
      "dividends_from_stocks                             0\n",
      "tax_filer_stat                                    0\n",
      "region_of_previous_residence                 183750\n",
      "state_of_previous_residence                  183750\n",
      "detailed_household_and_family_stat                0\n",
      "detailed_household_summary_in_household           0\n",
      "instance_weight                                   0\n",
      "migration_code_change_in_msa                   1516\n",
      "migration_code_change_in_reg                   1516\n",
      "migration_code_move_within_reg                 1516\n",
      "live_in_this_house_1_year_ago                     0\n",
      "migration_prev_res_in_sunbelt                 84054\n",
      "num_persons_worked_for_employer                   0\n",
      "family_members_under_18                      144232\n",
      "country_of_birth_father                           0\n",
      "country_of_birth_mother                           0\n",
      "country_of_birth_self                             0\n",
      "citizenship                                       0\n",
      "own_business_or_self_employed                     0\n",
      "fill_inc_questionnaire_for_veterans_admin    197539\n",
      "veterans_benefits                                 0\n",
      "weeks_worked_in_year                              0\n",
      "year                                              0\n",
      "target                                            0\n",
      "dtype: int64\n"
     ]
    }
   ],
   "source": [
    "# Evaluate missing values per column\n",
    "missingTrain = training.isna().sum()\n",
    "print(missingTrain)"
   ]
  },
  {
   "cell_type": "code",
   "execution_count": 365,
   "id": "fe69ae3a",
   "metadata": {},
   "outputs": [
    {
     "data": {
      "text/plain": [
       "[Text(0.5, 1.0, 'Missing Data in Training')]"
      ]
     },
     "execution_count": 365,
     "metadata": {},
     "output_type": "execute_result"
    },
    {
     "data": {
      "image/png": "[encoded data removed]",
      "text/plain": [
       "<Figure size 432x288 with 2 Axes>"
      ]
     },
     "metadata": {
      "needs_background": "light"
     },
     "output_type": "display_data"
    }
   ],
   "source": [
    "# Visualize the missing values\n",
    "sns.heatmap(training.isnull()).set(title = 'Missing Data in Training')"
   ]
  },
  {
   "cell_type": "code",
   "execution_count": 366,
   "id": "61cb782b",
   "metadata": {},
   "outputs": [
    {
     "name": "stdout",
     "output_type": "stream",
     "text": [
      "0.0\n",
      "50.24\n",
      "0.0\n",
      "0.0\n",
      "0.0\n",
      "0.0\n",
      "93.69\n",
      "0.0\n",
      "0.0\n",
      "50.46\n",
      "0.0\n",
      "0.44\n",
      "0.0\n",
      "90.45\n",
      "96.96\n",
      "0.0\n",
      "0.0\n",
      "0.0\n",
      "0.0\n",
      "0.0\n",
      "92.09\n",
      "92.09\n",
      "0.0\n",
      "0.0\n",
      "0.0\n",
      "0.76\n",
      "0.76\n",
      "0.76\n",
      "0.0\n",
      "42.13\n",
      "0.0\n",
      "72.29\n",
      "0.0\n",
      "0.0\n",
      "0.0\n",
      "0.0\n",
      "0.0\n",
      "99.01\n",
      "0.0\n",
      "0.0\n",
      "0.0\n",
      "0.0\n"
     ]
    }
   ],
   "source": [
    "# Determine if columns are missing 30% of data (number of instances in training = 199523)\n",
    "\n",
    "for value in missingTrain: \n",
    "    percent = (value/199523) * 100\n",
    "\n",
    "    print(round(percent,2))"
   ]
  },
  {
   "cell_type": "code",
   "execution_count": 367,
   "id": "bf2ec6cc",
   "metadata": {},
   "outputs": [
    {
     "data": {
      "text/html": [
       "<div>\n",
       "<style scoped>\n",
       "    .dataframe tbody tr th:only-of-type {\n",
       "        vertical-align: middle;\n",
       "    }\n",
       "\n",
       "    .dataframe tbody tr th {\n",
       "        vertical-align: top;\n",
       "    }\n",
       "\n",
       "    .dataframe thead th {\n",
       "        text-align: right;\n",
       "    }\n",
       "</style>\n",
       "<table border=\"1\" class=\"dataframe\">\n",
       "  <thead>\n",
       "    <tr style=\"text-align: right;\">\n",
       "      <th></th>\n",
       "      <th>age</th>\n",
       "      <th>detailed_industry_recode</th>\n",
       "      <th>detailed_occupation_recode</th>\n",
       "      <th>education</th>\n",
       "      <th>wage_per_hour</th>\n",
       "      <th>marital_stat</th>\n",
       "      <th>major_industry_code</th>\n",
       "      <th>race</th>\n",
       "      <th>hispanic_origin</th>\n",
       "      <th>sex</th>\n",
       "      <th>...</th>\n",
       "      <th>num_persons_worked_for_employer</th>\n",
       "      <th>country_of_birth_father</th>\n",
       "      <th>country_of_birth_mother</th>\n",
       "      <th>country_of_birth_self</th>\n",
       "      <th>citizenship</th>\n",
       "      <th>own_business_or_self_employed</th>\n",
       "      <th>veterans_benefits</th>\n",
       "      <th>weeks_worked_in_year</th>\n",
       "      <th>year</th>\n",
       "      <th>target</th>\n",
       "    </tr>\n",
       "  </thead>\n",
       "  <tbody>\n",
       "    <tr>\n",
       "      <th>0</th>\n",
       "      <td>73</td>\n",
       "      <td>0</td>\n",
       "      <td>0</td>\n",
       "      <td>Highschoolgraduate</td>\n",
       "      <td>0</td>\n",
       "      <td>Widowed</td>\n",
       "      <td>orchildren</td>\n",
       "      <td>White</td>\n",
       "      <td>Allother</td>\n",
       "      <td>Female</td>\n",
       "      <td>...</td>\n",
       "      <td>0</td>\n",
       "      <td>United-States</td>\n",
       "      <td>United-States</td>\n",
       "      <td>United-States</td>\n",
       "      <td>Native-BornintheUnitedStates</td>\n",
       "      <td>0</td>\n",
       "      <td>2</td>\n",
       "      <td>0</td>\n",
       "      <td>95</td>\n",
       "      <td>-50000.</td>\n",
       "    </tr>\n",
       "    <tr>\n",
       "      <th>1</th>\n",
       "      <td>58</td>\n",
       "      <td>4</td>\n",
       "      <td>34</td>\n",
       "      <td>Somecollegebutnodegree</td>\n",
       "      <td>0</td>\n",
       "      <td>Divorced</td>\n",
       "      <td>Construction</td>\n",
       "      <td>White</td>\n",
       "      <td>Allother</td>\n",
       "      <td>Male</td>\n",
       "      <td>...</td>\n",
       "      <td>1</td>\n",
       "      <td>United-States</td>\n",
       "      <td>United-States</td>\n",
       "      <td>United-States</td>\n",
       "      <td>Native-BornintheUnitedStates</td>\n",
       "      <td>0</td>\n",
       "      <td>2</td>\n",
       "      <td>52</td>\n",
       "      <td>94</td>\n",
       "      <td>-50000.</td>\n",
       "    </tr>\n",
       "    <tr>\n",
       "      <th>2</th>\n",
       "      <td>18</td>\n",
       "      <td>0</td>\n",
       "      <td>0</td>\n",
       "      <td>10thgrade</td>\n",
       "      <td>0</td>\n",
       "      <td>Nevermarried</td>\n",
       "      <td>orchildren</td>\n",
       "      <td>AsianorPacificIslander</td>\n",
       "      <td>Allother</td>\n",
       "      <td>Female</td>\n",
       "      <td>...</td>\n",
       "      <td>0</td>\n",
       "      <td>Vietnam</td>\n",
       "      <td>Vietnam</td>\n",
       "      <td>Vietnam</td>\n",
       "      <td>Foreignborn-NotacitizenofUS</td>\n",
       "      <td>0</td>\n",
       "      <td>2</td>\n",
       "      <td>0</td>\n",
       "      <td>95</td>\n",
       "      <td>-50000.</td>\n",
       "    </tr>\n",
       "    <tr>\n",
       "      <th>3</th>\n",
       "      <td>9</td>\n",
       "      <td>0</td>\n",
       "      <td>0</td>\n",
       "      <td>Children</td>\n",
       "      <td>0</td>\n",
       "      <td>Nevermarried</td>\n",
       "      <td>orchildren</td>\n",
       "      <td>White</td>\n",
       "      <td>Allother</td>\n",
       "      <td>Female</td>\n",
       "      <td>...</td>\n",
       "      <td>0</td>\n",
       "      <td>United-States</td>\n",
       "      <td>United-States</td>\n",
       "      <td>United-States</td>\n",
       "      <td>Native-BornintheUnitedStates</td>\n",
       "      <td>0</td>\n",
       "      <td>0</td>\n",
       "      <td>0</td>\n",
       "      <td>94</td>\n",
       "      <td>-50000.</td>\n",
       "    </tr>\n",
       "    <tr>\n",
       "      <th>4</th>\n",
       "      <td>10</td>\n",
       "      <td>0</td>\n",
       "      <td>0</td>\n",
       "      <td>Children</td>\n",
       "      <td>0</td>\n",
       "      <td>Nevermarried</td>\n",
       "      <td>orchildren</td>\n",
       "      <td>White</td>\n",
       "      <td>Allother</td>\n",
       "      <td>Female</td>\n",
       "      <td>...</td>\n",
       "      <td>0</td>\n",
       "      <td>United-States</td>\n",
       "      <td>United-States</td>\n",
       "      <td>United-States</td>\n",
       "      <td>Native-BornintheUnitedStates</td>\n",
       "      <td>0</td>\n",
       "      <td>0</td>\n",
       "      <td>0</td>\n",
       "      <td>94</td>\n",
       "      <td>-50000.</td>\n",
       "    </tr>\n",
       "  </tbody>\n",
       "</table>\n",
       "<p>5 rows × 32 columns</p>\n",
       "</div>"
      ],
      "text/plain": [
       "   age  detailed_industry_recode  detailed_occupation_recode  \\\n",
       "0   73                         0                           0   \n",
       "1   58                         4                          34   \n",
       "2   18                         0                           0   \n",
       "3    9                         0                           0   \n",
       "4   10                         0                           0   \n",
       "\n",
       "                education  wage_per_hour  marital_stat major_industry_code  \\\n",
       "0      Highschoolgraduate              0       Widowed          orchildren   \n",
       "1  Somecollegebutnodegree              0      Divorced        Construction   \n",
       "2               10thgrade              0  Nevermarried          orchildren   \n",
       "3                Children              0  Nevermarried          orchildren   \n",
       "4                Children              0  Nevermarried          orchildren   \n",
       "\n",
       "                     race hispanic_origin     sex  ...  \\\n",
       "0                   White        Allother  Female  ...   \n",
       "1                   White        Allother    Male  ...   \n",
       "2  AsianorPacificIslander        Allother  Female  ...   \n",
       "3                   White        Allother  Female  ...   \n",
       "4                   White        Allother  Female  ...   \n",
       "\n",
       "  num_persons_worked_for_employer  country_of_birth_father  \\\n",
       "0                               0            United-States   \n",
       "1                               1            United-States   \n",
       "2                               0                  Vietnam   \n",
       "3                               0            United-States   \n",
       "4                               0            United-States   \n",
       "\n",
       "   country_of_birth_mother  country_of_birth_self  \\\n",
       "0            United-States          United-States   \n",
       "1            United-States          United-States   \n",
       "2                  Vietnam                Vietnam   \n",
       "3            United-States          United-States   \n",
       "4            United-States          United-States   \n",
       "\n",
       "                    citizenship own_business_or_self_employed  \\\n",
       "0  Native-BornintheUnitedStates                             0   \n",
       "1  Native-BornintheUnitedStates                             0   \n",
       "2   Foreignborn-NotacitizenofUS                             0   \n",
       "3  Native-BornintheUnitedStates                             0   \n",
       "4  Native-BornintheUnitedStates                             0   \n",
       "\n",
       "  veterans_benefits  weeks_worked_in_year year   target  \n",
       "0                 2                     0   95  -50000.  \n",
       "1                 2                    52   94  -50000.  \n",
       "2                 2                     0   95  -50000.  \n",
       "3                 0                     0   94  -50000.  \n",
       "4                 0                     0   94  -50000.  \n",
       "\n",
       "[5 rows x 32 columns]"
      ]
     },
     "execution_count": 367,
     "metadata": {},
     "output_type": "execute_result"
    }
   ],
   "source": [
    "# Drop Columns\n",
    "\n",
    "training = training.drop(columns=['class_of_worker', 'enroll_in_edu_inst_last_wk', 'major_occupation_code', \n",
    "                                  'member_of_a_labor_union', 'reason_for_unemployment', 'region_of_previous_residence',\n",
    "                                  'state_of_previous_residence', 'migration_prev_res_in_sunbelt', 'family_members_under_18',\n",
    "                                  'fill_inc_questionnaire_for_veterans_admin'])\n",
    "\n",
    "training.head()"
   ]
  },
  {
   "cell_type": "code",
   "execution_count": 368,
   "id": "9ad36298",
   "metadata": {},
   "outputs": [
    {
     "name": "stdout",
     "output_type": "stream",
     "text": [
      "<class 'pandas.core.frame.DataFrame'>\n",
      "RangeIndex: 199523 entries, 0 to 199522\n",
      "Data columns (total 32 columns):\n",
      " #   Column                                   Non-Null Count   Dtype  \n",
      "---  ------                                   --------------   -----  \n",
      " 0   age                                      199523 non-null  int64  \n",
      " 1   detailed_industry_recode                 199523 non-null  int64  \n",
      " 2   detailed_occupation_recode               199523 non-null  int64  \n",
      " 3   education                                199523 non-null  object \n",
      " 4   wage_per_hour                            199523 non-null  int64  \n",
      " 5   marital_stat                             199523 non-null  object \n",
      " 6   major_industry_code                      199523 non-null  object \n",
      " 7   race                                     199523 non-null  object \n",
      " 8   hispanic_origin                          198649 non-null  object \n",
      " 9   sex                                      199523 non-null  object \n",
      " 10  full_or_part_time_employment_stat        199523 non-null  object \n",
      " 11  capital_gains                            199523 non-null  int64  \n",
      " 12  capital_losses                           199523 non-null  int64  \n",
      " 13  dividends_from_stocks                    199523 non-null  int64  \n",
      " 14  tax_filer_stat                           199523 non-null  object \n",
      " 15  detailed_household_and_family_stat       199523 non-null  object \n",
      " 16  detailed_household_summary_in_household  199523 non-null  object \n",
      " 17  instance_weight                          199523 non-null  float64\n",
      " 18  migration_code_change_in_msa             198007 non-null  object \n",
      " 19  migration_code_change_in_reg             198007 non-null  object \n",
      " 20  migration_code_move_within_reg           198007 non-null  object \n",
      " 21  live_in_this_house_1_year_ago            199523 non-null  object \n",
      " 22  num_persons_worked_for_employer          199523 non-null  int64  \n",
      " 23  country_of_birth_father                  199523 non-null  object \n",
      " 24  country_of_birth_mother                  199523 non-null  object \n",
      " 25  country_of_birth_self                    199523 non-null  object \n",
      " 26  citizenship                              199523 non-null  object \n",
      " 27  own_business_or_self_employed            199523 non-null  int64  \n",
      " 28  veterans_benefits                        199523 non-null  int64  \n",
      " 29  weeks_worked_in_year                     199523 non-null  int64  \n",
      " 30  year                                     199523 non-null  int64  \n",
      " 31  target                                   199523 non-null  object \n",
      "dtypes: float64(1), int64(12), object(19)\n",
      "memory usage: 48.7+ MB\n"
     ]
    }
   ],
   "source": [
    "training.info()"
   ]
  },
  {
   "cell_type": "code",
   "execution_count": 370,
   "id": "acab9788",
   "metadata": {},
   "outputs": [],
   "source": [
    "nominal_columns = ['detailed_industry_recode', \n",
    "                   'detailed_occupation_recode', \n",
    "                   'education', \n",
    "                   'marital_stat', \n",
    "                   'major_industry_code', \n",
    "                   'race', \n",
    "                   'hispanic_origin', \n",
    "                   'sex',\n",
    "                   'full_or_part_time_employment_stat', \n",
    "                   'dividends_from_stocks', \n",
    "                   'tax_filer_stat', \n",
    "                   'detailed_household_and_family_stat', \n",
    "                   'detailed_household_summary_in_household', \n",
    "                   'instance_weight', \n",
    "                   'migration_code_change_in_msa', \n",
    "                   'migration_code_change_in_reg', \n",
    "                   'migration_code_move_within_reg',\n",
    "                   'live_in_this_house_1_year_ago',\n",
    "                   'country_of_birth_father', \n",
    "                   'country_of_birth_mother', \n",
    "                   'country_of_birth_self', \n",
    "                   'citizenship', \n",
    "                   'own_business_or_self_employed',\n",
    "                   'veterans_benefits', \n",
    "                   'year',\n",
    "                   'target']\n",
    "\n",
    "    \n",
    "for i in nominal_columns:\n",
    "    training[i] = training[i].astype('category')\n"
   ]
  },
  {
   "cell_type": "code",
   "execution_count": 371,
   "id": "ef286e98",
   "metadata": {},
   "outputs": [
    {
     "name": "stdout",
     "output_type": "stream",
     "text": [
      "<class 'pandas.core.frame.DataFrame'>\n",
      "RangeIndex: 199523 entries, 0 to 199522\n",
      "Data columns (total 32 columns):\n",
      " #   Column                                   Non-Null Count   Dtype   \n",
      "---  ------                                   --------------   -----   \n",
      " 0   age                                      199523 non-null  int64   \n",
      " 1   detailed_industry_recode                 199523 non-null  category\n",
      " 2   detailed_occupation_recode               199523 non-null  category\n",
      " 3   education                                199523 non-null  category\n",
      " 4   wage_per_hour                            199523 non-null  int64   \n",
      " 5   marital_stat                             199523 non-null  category\n",
      " 6   major_industry_code                      199523 non-null  category\n",
      " 7   race                                     199523 non-null  category\n",
      " 8   hispanic_origin                          198649 non-null  category\n",
      " 9   sex                                      199523 non-null  category\n",
      " 10  full_or_part_time_employment_stat        199523 non-null  category\n",
      " 11  capital_gains                            199523 non-null  int64   \n",
      " 12  capital_losses                           199523 non-null  int64   \n",
      " 13  dividends_from_stocks                    199523 non-null  category\n",
      " 14  tax_filer_stat                           199523 non-null  category\n",
      " 15  detailed_household_and_family_stat       199523 non-null  category\n",
      " 16  detailed_household_summary_in_household  199523 non-null  category\n",
      " 17  instance_weight                          199523 non-null  category\n",
      " 18  migration_code_change_in_msa             198007 non-null  category\n",
      " 19  migration_code_change_in_reg             198007 non-null  category\n",
      " 20  migration_code_move_within_reg           198007 non-null  category\n",
      " 21  live_in_this_house_1_year_ago            199523 non-null  category\n",
      " 22  num_persons_worked_for_employer          199523 non-null  int64   \n",
      " 23  country_of_birth_father                  199523 non-null  category\n",
      " 24  country_of_birth_mother                  199523 non-null  category\n",
      " 25  country_of_birth_self                    199523 non-null  category\n",
      " 26  citizenship                              199523 non-null  category\n",
      " 27  own_business_or_self_employed            199523 non-null  category\n",
      " 28  veterans_benefits                        199523 non-null  category\n",
      " 29  weeks_worked_in_year                     199523 non-null  int64   \n",
      " 30  year                                     199523 non-null  category\n",
      " 31  target                                   199523 non-null  category\n",
      "dtypes: category(26), int64(6)\n",
      "memory usage: 17.7 MB\n"
     ]
    }
   ],
   "source": [
    "training.info()"
   ]
  },
  {
   "cell_type": "markdown",
   "id": "a4f036ae",
   "metadata": {},
   "source": [
    "#### Data Exploration (Training Set)"
   ]
  },
  {
   "cell_type": "code",
   "execution_count": 372,
   "id": "033210d0",
   "metadata": {},
   "outputs": [
    {
     "name": "stdout",
     "output_type": "stream",
     "text": [
      "sex\n",
      "Female    34.0\n",
      "Male      32.0\n",
      "Name: age, dtype: float64\n"
     ]
    },
    {
     "data": {
      "text/plain": [
       "[Text(0.5, 1.0, 'Median Age Per Sex- Training')]"
      ]
     },
     "execution_count": 372,
     "metadata": {},
     "output_type": "execute_result"
    },
    {
     "data": {
      "image/png": "[encoded data removed]",
      "text/plain": [
       "<Figure size 432x288 with 1 Axes>"
      ]
     },
     "metadata": {
      "needs_background": "light"
     },
     "output_type": "display_data"
    }
   ],
   "source": [
    "# Plot the median age per sex\n",
    "\n",
    "#Calculation\n",
    "medians = training.groupby(['sex'])['age'].median()\n",
    "print(medians)\n",
    "\n",
    "#Visulization\n",
    "box_plot = sns.boxplot(x = \"sex\", y = \"age\", data = training).set(title='Median Age Per Sex- Training')\n",
    "box_plot"
   ]
  },
  {
   "cell_type": "code",
   "execution_count": 373,
   "id": "7f186d54",
   "metadata": {},
   "outputs": [
    {
     "data": {
      "text/plain": [
       "[Text(0.5, 1.0, 'Distribution of Race- Training')]"
      ]
     },
     "execution_count": 373,
     "metadata": {},
     "output_type": "execute_result"
    },
    {
     "data": {
      "image/png": "[encoded data removed]",
      "text/plain": [
       "<Figure size 1080x576 with 1 Axes>"
      ]
     },
     "metadata": {
      "needs_background": "light"
     },
     "output_type": "display_data"
    }
   ],
   "source": [
    "plt.figure(figsize = (15,8))\n",
    "sns.histplot(training, x=\"race\").set(title='Distribution of Race- Training')"
   ]
  },
  {
   "cell_type": "code",
   "execution_count": 374,
   "id": "888c547f",
   "metadata": {},
   "outputs": [
    {
     "name": "stderr",
     "output_type": "stream",
     "text": [
      "/tmp/ipykernel_330/3856961214.py:3: FutureWarning: ['detailed_industry_recode', 'detailed_occupation_recode', 'education', 'marital_stat', 'major_industry_code', 'race', 'hispanic_origin', 'sex', 'full_or_part_time_employment_stat', 'dividends_from_stocks', 'tax_filer_stat', 'detailed_household_and_family_stat', 'detailed_household_summary_in_household', 'instance_weight', 'migration_code_change_in_msa', 'migration_code_change_in_reg', 'migration_code_move_within_reg', 'live_in_this_house_1_year_ago', 'country_of_birth_father', 'country_of_birth_mother', 'country_of_birth_self', 'citizenship', 'own_business_or_self_employed', 'veterans_benefits', 'year', 'target'] did not aggregate successfully. If any error is raised this will raise in a future version of pandas. Drop these columns/ops to avoid this warning.\n",
      "  training.agg([np.mean, np.median, 'min', 'max', np.var, np.std, 'skew'])\n"
     ]
    },
    {
     "data": {
      "text/html": [
       "<div>\n",
       "<style scoped>\n",
       "    .dataframe tbody tr th:only-of-type {\n",
       "        vertical-align: middle;\n",
       "    }\n",
       "\n",
       "    .dataframe tbody tr th {\n",
       "        vertical-align: top;\n",
       "    }\n",
       "\n",
       "    .dataframe thead th {\n",
       "        text-align: right;\n",
       "    }\n",
       "</style>\n",
       "<table border=\"1\" class=\"dataframe\">\n",
       "  <thead>\n",
       "    <tr style=\"text-align: right;\">\n",
       "      <th></th>\n",
       "      <th>age</th>\n",
       "      <th>wage_per_hour</th>\n",
       "      <th>capital_gains</th>\n",
       "      <th>capital_losses</th>\n",
       "      <th>num_persons_worked_for_employer</th>\n",
       "      <th>weeks_worked_in_year</th>\n",
       "    </tr>\n",
       "  </thead>\n",
       "  <tbody>\n",
       "    <tr>\n",
       "      <th>mean</th>\n",
       "      <td>34.494199</td>\n",
       "      <td>55.426908</td>\n",
       "      <td>4.347190e+02</td>\n",
       "      <td>37.313788</td>\n",
       "      <td>1.956180</td>\n",
       "      <td>23.174897</td>\n",
       "    </tr>\n",
       "    <tr>\n",
       "      <th>median</th>\n",
       "      <td>33.000000</td>\n",
       "      <td>0.000000</td>\n",
       "      <td>0.000000e+00</td>\n",
       "      <td>0.000000</td>\n",
       "      <td>1.000000</td>\n",
       "      <td>8.000000</td>\n",
       "    </tr>\n",
       "    <tr>\n",
       "      <th>min</th>\n",
       "      <td>0.000000</td>\n",
       "      <td>0.000000</td>\n",
       "      <td>0.000000e+00</td>\n",
       "      <td>0.000000</td>\n",
       "      <td>0.000000</td>\n",
       "      <td>0.000000</td>\n",
       "    </tr>\n",
       "    <tr>\n",
       "      <th>max</th>\n",
       "      <td>90.000000</td>\n",
       "      <td>9999.000000</td>\n",
       "      <td>9.999900e+04</td>\n",
       "      <td>4608.000000</td>\n",
       "      <td>6.000000</td>\n",
       "      <td>52.000000</td>\n",
       "    </tr>\n",
       "    <tr>\n",
       "      <th>var</th>\n",
       "      <td>497.776045</td>\n",
       "      <td>75568.060368</td>\n",
       "      <td>2.206680e+07</td>\n",
       "      <td>73927.667758</td>\n",
       "      <td>5.593819</td>\n",
       "      <td>595.920755</td>\n",
       "    </tr>\n",
       "    <tr>\n",
       "      <th>std</th>\n",
       "      <td>22.310895</td>\n",
       "      <td>274.896454</td>\n",
       "      <td>4.697531e+03</td>\n",
       "      <td>271.896428</td>\n",
       "      <td>2.365126</td>\n",
       "      <td>24.411488</td>\n",
       "    </tr>\n",
       "    <tr>\n",
       "      <th>skew</th>\n",
       "      <td>0.373290</td>\n",
       "      <td>8.935097</td>\n",
       "      <td>1.899082e+01</td>\n",
       "      <td>7.632565</td>\n",
       "      <td>0.751561</td>\n",
       "      <td>0.210169</td>\n",
       "    </tr>\n",
       "  </tbody>\n",
       "</table>\n",
       "</div>"
      ],
      "text/plain": [
       "               age  wage_per_hour  capital_gains  capital_losses  \\\n",
       "mean     34.494199      55.426908   4.347190e+02       37.313788   \n",
       "median   33.000000       0.000000   0.000000e+00        0.000000   \n",
       "min       0.000000       0.000000   0.000000e+00        0.000000   \n",
       "max      90.000000    9999.000000   9.999900e+04     4608.000000   \n",
       "var     497.776045   75568.060368   2.206680e+07    73927.667758   \n",
       "std      22.310895     274.896454   4.697531e+03      271.896428   \n",
       "skew      0.373290       8.935097   1.899082e+01        7.632565   \n",
       "\n",
       "        num_persons_worked_for_employer  weeks_worked_in_year  \n",
       "mean                           1.956180             23.174897  \n",
       "median                         1.000000              8.000000  \n",
       "min                            0.000000              0.000000  \n",
       "max                            6.000000             52.000000  \n",
       "var                            5.593819            595.920755  \n",
       "std                            2.365126             24.411488  \n",
       "skew                           0.751561              0.210169  "
      ]
     },
     "execution_count": 374,
     "metadata": {},
     "output_type": "execute_result"
    }
   ],
   "source": [
    "# Descriptive statistics for continuous variables\n",
    "\n",
    "training.agg([np.mean, np.median, 'min', 'max', np.var, np.std, 'skew'])"
   ]
  },
  {
   "cell_type": "code",
   "execution_count": 375,
   "id": "2014a53c",
   "metadata": {},
   "outputs": [
    {
     "data": {
      "text/plain": [
       "<function matplotlib.pyplot.show(close=None, block=None)>"
      ]
     },
     "execution_count": 375,
     "metadata": {},
     "output_type": "execute_result"
    },
    {
     "data": {
      "image/png": "[encoded data removed]",
      "text/plain": [
       "<Figure size 720x720 with 2 Axes>"
      ]
     },
     "metadata": {
      "needs_background": "light"
     },
     "output_type": "display_data"
    }
   ],
   "source": [
    "# Correlation Matrix for Continuous Variables\n",
    "\n",
    "corr_matrix = training.corr()\n",
    "\n",
    "heatmap = plt.figure(figsize = (10,10))\n",
    "ax = sns.heatmap(corr_matrix, annot = True).set(title = 'Continuous Variable Correlation- Training')\n",
    "plt.show"
   ]
  },
  {
   "cell_type": "code",
   "execution_count": 376,
   "id": "1613fc5d",
   "metadata": {},
   "outputs": [
    {
     "data": {
      "text/plain": [
       "[Text(0.5, 1.0, 'Distribution of Target- Training')]"
      ]
     },
     "execution_count": 376,
     "metadata": {},
     "output_type": "execute_result"
    },
    {
     "data": {
      "image/png": "[encoded data removed]",
      "text/plain": [
       "<Figure size 1080x576 with 1 Axes>"
      ]
     },
     "metadata": {
      "needs_background": "light"
     },
     "output_type": "display_data"
    }
   ],
   "source": [
    "plt.figure(figsize = (15,8))\n",
    "sns.histplot(training, x=\"target\").set(title='Distribution of Target- Training')"
   ]
  },
  {
   "cell_type": "code",
   "execution_count": 377,
   "id": "ec84016f",
   "metadata": {},
   "outputs": [
    {
     "name": "stdout",
     "output_type": "stream",
     "text": [
      "target\n",
      "-50000.    31.0\n",
      "50000+.    45.0\n",
      "Name: age, dtype: float64\n"
     ]
    },
    {
     "data": {
      "text/plain": [
       "[Text(0.5, 1.0, 'Median Age Per Target Value- Training')]"
      ]
     },
     "execution_count": 377,
     "metadata": {},
     "output_type": "execute_result"
    },
    {
     "data": {
      "image/png": "[encoded data removed]",
      "text/plain": [
       "<Figure size 432x288 with 1 Axes>"
      ]
     },
     "metadata": {
      "needs_background": "light"
     },
     "output_type": "display_data"
    }
   ],
   "source": [
    "# Plot the median age per target\n",
    "\n",
    "#Calculation\n",
    "medians = training.groupby(['target'])['age'].median()\n",
    "print(medians)\n",
    "\n",
    "#Visulization\n",
    "box_plot = sns.boxplot(x = \"target\", y = \"age\", data = training).set(title='Median Age Per Target Value- Training')\n",
    "box_plot"
   ]
  },
  {
   "cell_type": "code",
   "execution_count": 399,
   "id": "2bf4fbb1",
   "metadata": {},
   "outputs": [
    {
     "name": "stdout",
     "output_type": "stream",
     "text": [
      "target\n",
      "-50000.     0.0\n",
      "50000+.    52.0\n",
      "Name: weeks_worked_in_year, dtype: float64\n"
     ]
    },
    {
     "data": {
      "text/plain": [
       "[Text(0.5, 1.0, 'Median Weeks Worked Per Year Per Target Value- Training')]"
      ]
     },
     "execution_count": 399,
     "metadata": {},
     "output_type": "execute_result"
    },
    {
     "data": {
      "image/png": "[encoded data removed]",
      "text/plain": [
       "<Figure size 432x288 with 1 Axes>"
      ]
     },
     "metadata": {
      "needs_background": "light"
     },
     "output_type": "display_data"
    }
   ],
   "source": [
    "# Plot the median age per target\n",
    "\n",
    "#Calculation\n",
    "medians = training.groupby(['target'])['weeks_worked_in_year'].median()\n",
    "print(medians)\n",
    "\n",
    "#Visulization\n",
    "box_plot = sns.boxplot(x = \"target\", y = \"weeks_worked_in_year\", data = training).set(\n",
    "    title='Median Weeks Worked Per Year Per Target Value- Training')\n",
    "\n",
    "box_plot"
   ]
  },
  {
   "cell_type": "markdown",
   "id": "0b749f1e",
   "metadata": {},
   "source": [
    "#### Data Preparation (Test Set)"
   ]
  },
  {
   "cell_type": "code",
   "execution_count": 378,
   "id": "d63dd857",
   "metadata": {},
   "outputs": [],
   "source": [
    "# Load in the dataset and add column titles\n",
    "test = pd.read_csv('census_income_test.csv', names = ['age', 'class_of_worker', 'detailed_industry_recode', \n",
    "                                                           'detailed_occupation_recode', 'education','wage_per_hour', \n",
    "                                                           'enroll_in_edu_inst_last_wk', 'marital_stat', 'major_industry_code', \n",
    "                                                           'major_occupation_code', 'race', 'hispanic_origin', \n",
    "                                                           'sex','member_of_a_labor_union', 'reason_for_unemployment', \n",
    "                                                           'full_or_part_time_employment_stat', 'capital_gains', \n",
    "                                                           'capital_losses', 'dividends_from_stocks', 'tax_filer_stat', \n",
    "                                                           'region_of_previous_residence', 'state_of_previous_residence', \n",
    "                                                           'detailed_household_and_family_stat', \n",
    "                                                           'detailed_household_summary_in_household', \n",
    "                                                           'instance_weight', 'migration_code_change_in_msa', \n",
    "                                                           'migration_code_change_in_reg', 'migration_code_move_within_reg',\n",
    "                                                           'live_in_this_house_1_year_ago', 'migration_prev_res_in_sunbelt', \n",
    "                                                           'num_persons_worked_for_employer','family_members_under_18', \n",
    "                                                           'country_of_birth_father', 'country_of_birth_mother', \n",
    "                                                           'country_of_birth_self', 'citizenship', \n",
    "                                                           'own_business_or_self_employed', \n",
    "                                                           'fill_inc_questionnaire_for_veterans_admin', 'veterans_benefits', \n",
    "                                                           'weeks_worked_in_year', 'year', 'target'], skipinitialspace = True)\n",
    "\n",
    "# test.head()"
   ]
  },
  {
   "cell_type": "code",
   "execution_count": 379,
   "id": "85e99019",
   "metadata": {},
   "outputs": [
    {
     "name": "stdout",
     "output_type": "stream",
     "text": [
      "\n",
      "Categories for variable age\n",
      "[38 44  2 35 49 13  1 61  7 30 85 33 26 46 19 11 23 27  8 29 40 24 45 41\n",
      " 14 73 78 81 15 68 28 54 37 82 55 77 53 25  0 75 80 10 22 43 48  5 16 18\n",
      " 50 64  3 72 47 39 51 12 67 59 42  4 32 83 57  6 60 34 20 21 76 71 31 17\n",
      " 63  9 56 36 65 69 70 62 58 66 74 90 79 89 52 84 87 86 88]\n",
      "\n",
      "Categories for variable class_of_worker\n",
      "['Private' 'Self-employed-not incorporated' 'Not in universe'\n",
      " 'Local government' 'State government' 'Never worked'\n",
      " 'Self-employed-incorporated' 'Federal government' 'Without pay']\n",
      "\n",
      "Categories for variable detailed_industry_recode\n",
      "[ 6 37  0 29  4 45 30 36 33 42 40 47 32 21 35 43 39 22  2 24 38 13 41 34\n",
      " 15 31  9 12  1 48 19 11 14  8 44 18  7 50 23 27 25 49  3  5 46 16 17 28\n",
      " 51 20 26 10]\n",
      "\n",
      "Categories for variable detailed_occupation_recode\n",
      "[36 12  0  3 34 26 27 29 21 31  2 16 23 28 33 17 32 24 19 25 43  1  8 13\n",
      " 10 44 30 18 15 42 37 35 40  4 41 22  6 39 38  9 11  7  5 45 20 14 46]\n",
      "\n",
      "Categories for variable education\n",
      "['1st 2nd 3rd or 4th grade' 'Associates degree-occup /vocational'\n",
      " 'Children' 'High school graduate'\n",
      " 'Masters degree(MA MS MEng MEd MSW MBA)' 'Bachelors degree(BA AB BS)'\n",
      " '10th grade' 'Some college but no degree' '7th and 8th grade' '9th grade'\n",
      " '12th grade no diploma' 'Less than 1st grade' '11th grade'\n",
      " 'Associates degree-academic program' '5th or 6th grade'\n",
      " 'Prof school degree (MD DDS DVM LLB JD)' 'Doctorate degree(PhD EdD)']\n",
      "\n",
      "Categories for variable wage_per_hour\n",
      "[   0  425  930  700 1228  625  900  800  438 1100 1505  670  440 2145\n",
      " 2500 1150 2100 1015 1800 1230 1500  500 3745 2800  743 2300  595  525\n",
      " 1308  600 1425  550 1260  540  992  935 1400 1700 1437 1145  850  710\n",
      "  783  575 1200 1021  450 1085 2290  809  950 2000  959  983 1000 1137\n",
      " 1190  675 8831  987 1675  609 1050 1040  400 1900 1589  780 1243  730\n",
      "  750 1650 4200 1600  960  250 1250 1532  435  953  210 2724  680  650\n",
      " 1079 1125  510  660  630 1660  782  640  772 1735  705 1350 1088 1345\n",
      " 1440  475 1070 1412  920  560  515 1550 3500  795 1275  697  672  855\n",
      "  786  715  845 2400 1300 1950 1586 1120  624 1525  679  805 1450 1245\n",
      "  897  655  200 1234  830  300  834  455  612 1080  211 1175  648  740\n",
      "  690 1588  915 1445  561 1464  512 1485  910 1353  905 1863 1712  925\n",
      "  212  810 1336 1414 1625 1159  587 1475  813 1049  520  875  617  720\n",
      " 1495 2200 1379 1483 1738  874 1247  940 1111  840 1005 1110 1916  735\n",
      "  852  420 1817  685 2448  775  765 1415  706  683  150  832  979  889\n",
      " 1404  952  731  545  901 1501  557  631  825  605 1670  927  702  797\n",
      " 1047  479 1210  490 2510 1067  325  774 1121  762  956 6500  880 2038\n",
      " 1215 1786 1772  535  725  350 1875  926  708 1087  769 1364 1832  853\n",
      "  489 1980  860 2446 3000  590 1740 1075  327  954 1473 1957  814 7400\n",
      "  255  580  760 1025  570  902  480  310 2251  791 1489 1280  213 1758\n",
      "  652  846 1138  620  233  686  682 1907 1683  565 2438 2915  719 1173\n",
      "  505 1549 1765  828  485 1581 1686 1202  551 1166 2700 1363 2051 1999\n",
      " 1201  703 1470 1106 1035  936 1262 2360 2006 2600 1153  991 2379 1750\n",
      " 2747  835  555 1497  633  549 1554  965  815 1094 1845 1389  741  530\n",
      "  445 1799  225  738  721 1062  234 1910  681  755  547  972 1310  975\n",
      "  230 1063  939  571 1405 1242 4500  933 1570 1037  495  945 1325  906\n",
      " 1072  919  943 1930 1880  951 1659 1217  818  790 1027 1239  745  843\n",
      " 1827 1462 1135 1611 1503 1490  667  921  823  890 3600 1195 1394  635\n",
      " 1680 1090  677 2900  869  859 2125  761 1815 1584  610 2317  647 1620\n",
      "  729  661 1154  865 1905 1059  599 1233 1060 1897 1420 2050 1928 1382\n",
      " 1057 1476  886  632 1726 1568 1820  615  665 1949 1720 1460 1380 9900\n",
      "  536 1031 1455 1240 1018  985  986 1375 2090  770  385 1585 1073 1313\n",
      "  989 1361  678 1030 1093 1510 1484 1069 1103 1634 7000 1590  668 1003\n",
      " 1241 1630 1274 1352 2850 2388 1431 1973  883 6000 1170 1576 3100 4000\n",
      " 1225 1124 1594  518 1140  820 2250  460 1041 1180  824  688 2150  641\n",
      " 1272 1374 1357  554 2291  585  623  876  465 1235  948 5400 5500 1684\n",
      " 1682  732  417 1017  980 1105 1692 1392  564 2650 1214  645 1746 1151\n",
      " 1850 1825  844  695 2285 1775  957  784  432  687 1020 1042  712 1055\n",
      " 1254  947 2188  974 1383  463  778 1478  707 1365  961 1667 1555 1165\n",
      " 1342  895  777  657  754 2538 1033  666  963  656 1895 1531 1288 3846\n",
      " 1467  548  793  245  827 1575  847 4400 1258 1789 1238 1386 1016  836\n",
      "  938  799 1187 1360 2052  430  714 2740  908  579 5700 1312 1639  812\n",
      "  673 1335  511  619 1995 1396  995  873  756  453 1607 1701  543 1865\n",
      "  658 1756  968  542 1097 1577  988 1702 1314  533 2048 1068 1605 1745\n",
      "  692 2810 1362 1430 1833 1530 1373 1185  958  728 2226 1219 1955 1256\n",
      " 1849  335 1578 1098 2470 1051 1882 1065 1480 8000 1146  841  990  821\n",
      " 3200  822 1802  676  552 1515  837 1693  691 2275 1457  976 1269 1009\n",
      "  375 1281  567 1188 1672  428 2750 1797  718  785 1488  757 2652 1796\n",
      " 2366 1681 1164  209 1860 2466 2112 1204 1010  100  978 1099  709 1633\n",
      " 1007 1142 1710 1171  636 2540 1540  295 1919  415 3150 1784  671  696\n",
      " 1029 1646 2130 1045 1104 1001 1026 1014 1855  566  205 2713 1395 1191\n",
      " 2037 1130 1523  733  483  492  924 1108  967 1972 1346  215  966 1092\n",
      " 2476  879 1174 2331 2232 1134 1212 1293 1640  586  644 1129 3400 1196\n",
      "  285  638  798 1115  892 1580 1038 1371  588 1096 1829  424  340  970\n",
      "  934 1290 1866 1925 1132 1211 1076 2338 1826  887 2263  694 1647 8800\n",
      " 1155  627  819  997  808  622 1790  776 1255 1764 1399  779 1725  771\n",
      " 2350 3750 2140 1296  717 1592 2825  981 3076  744 2952 1774 1194 1968\n",
      " 1449  701 1883  803  831  870 1813 4600 1923  792 1095 1177 2550 1126\n",
      "  999 1197  208 1370  659 1167 1655  955 2206  817 1123  653 5000 1315\n",
      " 1458 2430  265 1940 1511 2019 1482 1417  768 1002  484 1534 2230  937\n",
      " 1102 1556  962 1024 1641 2222 2480  916  911 7500 1567 1761 2293  753\n",
      " 1528  903  727 1783  621 2310 7700 1330  468 1648 1792 1560 1998 3060\n",
      " 1494  628 3581  877 2116 1728 1385 1378 2211 1965 1994 2288 2123 1477\n",
      " 1651  178 1729 2487 1390  826 3300 1023 1285 1128 1439 1927 1139 1533\n",
      " 1545  929 1469 1978 1536 1122 1259 1267  737  699 2020  497]\n",
      "\n",
      "Categories for variable enroll_in_edu_inst_last_wk\n",
      "['Not in universe' 'College or university' 'High school']\n",
      "\n",
      "Categories for variable marital_stat\n",
      "['Married-civilian spouse present' 'Never married' 'Divorced' 'Widowed'\n",
      " 'Married-A F spouse present' 'Separated' 'Married-spouse absent']\n",
      "\n",
      "Categories for variable major_industry_code\n",
      "['Manufacturing-durable goods' 'Business and repair services'\n",
      " 'Not in universe or children' 'Transportation' 'Construction'\n",
      " 'Other professional services' 'Communications'\n",
      " 'Private household services' 'Retail trade' 'Medical except hospital'\n",
      " 'Entertainment' 'Public administration' 'Wholesale trade'\n",
      " 'Manufacturing-nondurable goods' 'Finance insurance and real estate'\n",
      " 'Education' 'Personal services except private HH' 'Agriculture'\n",
      " 'Hospital services' 'Utilities and sanitary services' 'Social services'\n",
      " 'Mining' 'Forestry and fisheries' 'Armed Forces']\n",
      "\n",
      "Categories for variable major_occupation_code\n",
      "['Machine operators assmblrs & inspctrs' 'Professional specialty'\n",
      " 'Not in universe' 'Executive admin and managerial'\n",
      " 'Precision production craft & repair' 'Adm support including clerical'\n",
      " 'Private household services' 'Other service' 'Sales'\n",
      " 'Protective services' 'Farming forestry and fishing'\n",
      " 'Technicians and related support' 'Handlers equip cleaners etc '\n",
      " 'Transportation and material moving' 'Armed Forces']\n",
      "\n",
      "Categories for variable race\n",
      "['White' 'Black' 'Asian or Pacific Islander' 'Other'\n",
      " 'Amer Indian Aleut or Eskimo']\n",
      "\n",
      "Categories for variable hispanic_origin\n",
      "['Mexican (Mexicano)' 'All other' 'Mexican-American'\n",
      " 'Central or South American' 'Other Spanish' 'Puerto Rican' 'Cuban' nan\n",
      " 'Chicano' 'Do not know']\n",
      "\n",
      "Categories for variable sex\n",
      "['Female' 'Male']\n",
      "\n",
      "Categories for variable member_of_a_labor_union\n",
      "['Not in universe' 'No' 'Yes']\n",
      "\n",
      "Categories for variable reason_for_unemployment\n",
      "['Not in universe' 'Re-entrant' 'Other job loser' 'New entrant'\n",
      " 'Job loser - on layoff' 'Job leaver']\n",
      "\n",
      "Categories for variable full_or_part_time_employment_stat\n",
      "['Full-time schedules' 'PT for econ reasons usually PT'\n",
      " 'Children or Armed Forces' 'Not in labor force'\n",
      " 'PT for non-econ reasons usually FT' 'Unemployed full-time'\n",
      " 'PT for econ reasons usually FT' 'Unemployed part- time']\n",
      "\n",
      "Categories for variable capital_gains\n",
      "[    0 14084 15024  2964  7688  4064  4787  3325  7298 25236  3411 14344\n",
      "  3103  8614  5178  4650  2885  2977  1409  3674   114  7262  5013  6767\n",
      "  6849 10605 10566  9386 99999  3456  4931  4386 10520 13550  2407  3137\n",
      "   594  4416  2961  2635  1111  3818 25124  1797  7978  2290  2176  6360\n",
      " 11678  4101 20051  1506  3432  1173  3887  2174  3464  1424   914  2463\n",
      "  7443  1086  2202  2050   991  2062  3942  2653  4508  3781  3908  1151\n",
      "  2414  5455  2829  2329  4865  6723 27828  6097  1055  2580  9562  6497\n",
      "  6514  2907  2597  3471  6418  1848   401  2098  7430  2105  2538  2036\n",
      "  1455  2228 15831  3418 18481  7896  2354 15020  2346  2009  2936  1831\n",
      "  4934  5556  1264 34095  1731  4687  3273  5721  2993  1471 41310  5060\n",
      "  1140  1639  9472]\n",
      "\n",
      "Categories for variable capital_losses\n",
      "[   0 1721 2415 2090 1617 1668 1977 1669 1504 4356  625 1887 2238 2754\n",
      " 3770 2444 1602 2057 1902 1590 2547 1628 1408 2339 2258 1719 1740 1870\n",
      " 3004 2001 1380 2788 2042 1564 1844 1848 1980 1672 1485 1573 1876 2472\n",
      " 1762 1651 1648 2149 1539  419  213 1421 1974 1579 2824 1825 1092 2467\n",
      "  880 1741 2201 1726 2704 1436  653  974 2205 1021 2179 2377 1258  810\n",
      " 2352 2002 1340 2267 1816 2206 2246 2489 2129 4608 3175 2051 2174 1510\n",
      " 2163 2231  323 2559 2465 2722 1411 2392 1755  772 1429 2603 1944 1735\n",
      " 3500 2282 1138  155 2457 2597 1911 2027 3683 3900 2080 2769 1594]\n",
      "\n",
      "Categories for variable dividends_from_stocks\n",
      "[   0 2500 1000 ... 3822 5168 1317]\n",
      "\n",
      "Categories for variable tax_filer_stat\n",
      "['Joint one under 65 & one 65+' 'Joint both under 65' 'Nonfiler'\n",
      " 'Head of household' 'Single' 'Joint both 65+']\n",
      "\n",
      "Categories for variable region_of_previous_residence\n",
      "['Not in universe' 'Northeast' 'Midwest' 'South' 'West' 'Abroad']\n",
      "\n",
      "Categories for variable state_of_previous_residence\n",
      "['Not in universe' 'North Carolina' 'Kentucky' 'Nevada' 'Arkansas'\n",
      " 'Nebraska' 'North Dakota' 'Arizona' 'Abroad' 'Florida' 'Montana'\n",
      " 'Tennessee' 'Maine' 'Minnesota' 'New Mexico' 'Massachusetts' 'Louisiana'\n",
      " 'Utah' 'Michigan' '?' 'Iowa' 'New Hampshire' 'Alabama' 'Oklahoma'\n",
      " 'California' 'Illinois' 'Connecticut' 'Alaska' 'Pennsylvania' 'Colorado'\n",
      " 'Oregon' 'Maryland' 'New Jersey' 'Vermont' 'Ohio' 'South Dakota'\n",
      " 'Mississippi' 'Indiana' 'Missouri' 'Kansas' 'South Carolina' 'Georgia'\n",
      " 'District of Columbia' 'West Virginia' 'Wyoming' 'New York' 'Delaware'\n",
      " 'Wisconsin' 'Texas' 'Virginia' 'Idaho']\n",
      "\n",
      "Categories for variable detailed_household_and_family_stat\n",
      "['Spouse of householder' 'Child <18 never marr not in subfamily'\n",
      " 'Householder' 'Secondary individual'\n",
      " 'Child 18+ never marr Not in a subfamily' 'Nonfamily householder'\n",
      " 'Grandchild 18+ never marr not in subfamily'\n",
      " 'Other Rel 18+ never marr not in subfamily'\n",
      " 'Child under 18 of RP of unrel subfamily'\n",
      " 'Grandchild <18 never marr child of subfamily RP'\n",
      " 'RP of unrelated subfamily' 'Child 18+ ever marr Not in a subfamily'\n",
      " 'Child 18+ never marr RP of subfamily'\n",
      " 'Other Rel 18+ spouse of subfamily RP'\n",
      " 'Other Rel <18 never marr not in subfamily'\n",
      " 'Other Rel <18 never marr child of subfamily RP'\n",
      " 'Other Rel 18+ ever marr RP of subfamily'\n",
      " 'Other Rel 18+ ever marr not in subfamily'\n",
      " 'Grandchild <18 never marr not in subfamily'\n",
      " 'Child 18+ ever marr RP of subfamily'\n",
      " 'Grandchild 18+ ever marr not in subfamily'\n",
      " 'Child 18+ spouse of subfamily RP' 'In group quarters'\n",
      " 'Other Rel <18 ever marr RP of subfamily'\n",
      " 'Spouse of RP of unrelated subfamily'\n",
      " 'Child <18 never marr RP of subfamily'\n",
      " 'Other Rel 18+ never marr RP of subfamily'\n",
      " 'Grandchild 18+ ever marr RP of subfamily'\n",
      " 'Child <18 ever marr not in subfamily'\n",
      " 'Grandchild 18+ never marr RP of subfamily'\n",
      " 'Other Rel <18 never married RP of subfamily'\n",
      " 'Child <18 ever marr RP of subfamily'\n",
      " 'Grandchild 18+ spouse of subfamily RP'\n",
      " 'Other Rel <18 spouse of subfamily RP'\n",
      " 'Grandchild <18 never marr RP of subfamily'\n",
      " 'Other Rel <18 ever marr not in subfamily'\n",
      " 'Child <18 spouse of subfamily RP']\n",
      "\n",
      "Categories for variable detailed_household_summary_in_household\n",
      "['Spouse of householder' 'Child under 18 never married' 'Householder'\n",
      " 'Nonrelative of householder' 'Child 18 or older'\n",
      " 'Other relative of householder' 'Group Quarters- Secondary individual'\n",
      " 'Child under 18 ever married']\n",
      "\n",
      "Categories for variable instance_weight\n",
      "[1032.38 1462.33 1601.75 ... 1197.34 1335.91 2511.11]\n",
      "\n",
      "Categories for variable migration_code_change_in_msa\n",
      "['?' 'Nonmover' 'MSA to MSA' 'NonMSA to nonMSA' 'Abroad to MSA'\n",
      " 'Not in universe' 'Not identifiable' 'MSA to nonMSA' 'NonMSA to MSA'\n",
      " 'Abroad to nonMSA']\n",
      "\n",
      "Categories for variable migration_code_change_in_reg\n",
      "['?' 'Nonmover' 'Same county' 'Abroad' 'Different county same state'\n",
      " 'Different region' 'Not in universe' 'Different division same region'\n",
      " 'Different state same division']\n",
      "\n",
      "Categories for variable migration_code_move_within_reg\n",
      "['?' 'Nonmover' 'Same county' 'Abroad' 'Different county same state'\n",
      " 'Different state in Midwest' 'Not in universe'\n",
      " 'Different state in Northeast' 'Different state in South'\n",
      " 'Different state in West']\n",
      "\n",
      "Categories for variable live_in_this_house_1_year_ago\n",
      "['Not in universe under 1 year old' 'Yes' 'No']\n",
      "\n",
      "Categories for variable migration_prev_res_in_sunbelt\n",
      "['?' 'Not in universe' 'No' 'Yes']\n",
      "\n",
      "Categories for variable num_persons_worked_for_employer\n",
      "[4 1 0 5 6 3 2]\n",
      "\n",
      "Categories for variable family_members_under_18\n",
      "['Not in universe' 'Both parents present' 'Mother only present'\n",
      " 'Father only present' 'Neither parent present']\n",
      "\n",
      "Categories for variable country_of_birth_father\n",
      "['Mexico' 'United-States' 'Germany' 'Trinadad&Tobago' '?' 'Jamaica'\n",
      " 'South Korea' 'Philippines' 'Puerto-Rico' 'Vietnam' 'Canada' 'Taiwan'\n",
      " 'Japan' 'Italy' 'Cambodia' 'China' 'England' 'Dominican-Republic'\n",
      " 'Ireland' 'Poland' 'Outlying-U S (Guam USVI etc)' 'Yugoslavia'\n",
      " 'Guatemala' 'Columbia' 'El-Salvador' 'France' 'Cuba' 'Nicaragua' 'Peru'\n",
      " 'India' 'Scotland' 'Portugal' 'Honduras' 'Greece' 'Laos' 'Iran'\n",
      " 'Thailand' 'Ecuador' 'Hong Kong' 'Haiti' 'Holand-Netherlands' 'Hungary'\n",
      " 'Panama']\n",
      "\n",
      "Categories for variable country_of_birth_mother\n",
      "['Mexico' 'United-States' 'Trinadad&Tobago' '?' 'Jamaica' 'South Korea'\n",
      " 'Philippines' 'Puerto-Rico' 'Vietnam' 'Taiwan' 'Canada' 'El-Salvador'\n",
      " 'Italy' 'Germany' 'England' 'Ireland' 'Cambodia' 'Hungary'\n",
      " 'Holand-Netherlands' 'Dominican-Republic' 'Outlying-U S (Guam USVI etc)'\n",
      " 'Poland' 'Columbia' 'Japan' 'France' 'Cuba' 'Nicaragua' 'Portugal' 'Peru'\n",
      " 'India' 'Greece' 'China' 'Thailand' 'Honduras' 'Scotland' 'Yugoslavia'\n",
      " 'Guatemala' 'Laos' 'Iran' 'Ecuador' 'Haiti' 'Hong Kong' 'Panama']\n",
      "\n",
      "Categories for variable country_of_birth_self\n",
      "['Mexico' 'United-States' 'Trinadad&Tobago' '?' 'Jamaica' 'South Korea'\n",
      " 'Philippines' 'Puerto-Rico' 'Vietnam' 'Germany' 'Cambodia' 'China'\n",
      " 'Dominican-Republic' 'Ireland' 'Outlying-U S (Guam USVI etc)'\n",
      " 'Yugoslavia' 'France' 'Thailand' 'Cuba' 'Italy' 'Japan' 'Peru' 'India'\n",
      " 'England' 'Canada' 'El-Salvador' 'Portugal' 'Poland' 'Honduras'\n",
      " 'Hong Kong' 'Columbia' 'Scotland' 'Guatemala' 'Greece' 'Taiwan' 'Iran'\n",
      " 'Nicaragua' 'Ecuador' 'Haiti' 'Holand-Netherlands' 'Laos' 'Hungary'\n",
      " 'Panama']\n",
      "\n",
      "Categories for variable citizenship\n",
      "['Foreign born- Not a citizen of U S ' 'Native- Born in the United States'\n",
      " 'Foreign born- U S citizen by naturalization'\n",
      " 'Native- Born in Puerto Rico or U S Outlying'\n",
      " 'Native- Born abroad of American Parent(s)']\n",
      "\n",
      "Categories for variable own_business_or_self_employed\n",
      "[0 2 1]\n",
      "\n",
      "Categories for variable fill_inc_questionnaire_for_veterans_admin\n",
      "['Not in universe' 'No' 'Yes']\n",
      "\n",
      "Categories for variable veterans_benefits\n",
      "[2 0 1]\n",
      "\n",
      "Categories for variable weeks_worked_in_year\n",
      "[12 26  0 52 50 30 17 36 20 24 48  2 45 44 19 47 40  4  6 18 49 46  8 35\n",
      " 28  5 34 38 13 16 51 10  1 39 14 42 32 43 15  3 25 21 41 22 11 29  7 37\n",
      " 27 23  9 31 33]\n",
      "\n",
      "Categories for variable year\n",
      "[95 94]\n",
      "\n",
      "Categories for variable target\n",
      "['- 50000.' '50000+.']\n"
     ]
    }
   ],
   "source": [
    "# Determine Unique values\n",
    "columns = list(test.columns)\n",
    "\n",
    "for col in columns:\n",
    "    print ('\\nCategories for variable %s'%col)\n",
    "    print (test[col].unique())"
   ]
  },
  {
   "cell_type": "code",
   "execution_count": 380,
   "id": "e7692cdc",
   "metadata": {},
   "outputs": [],
   "source": [
    "# Replace Not in universe with NaN\n",
    "\n",
    "test = test.replace('Not in universe','', regex=True)\n",
    "\n",
    "test = test.replace(r'^\\s*$', np.nan, regex=True)\n",
    "\n",
    "# test.head()"
   ]
  },
  {
   "cell_type": "code",
   "execution_count": 381,
   "id": "9b2f05bb",
   "metadata": {},
   "outputs": [],
   "source": [
    "# Correcting values\n",
    "\n",
    "test = test.replace(' ?','', regex=True)\n",
    "\n",
    "test = test.replace(r'^\\s*$', np.nan, regex=True)"
   ]
  },
  {
   "cell_type": "code",
   "execution_count": 382,
   "id": "988c05f0",
   "metadata": {},
   "outputs": [
    {
     "name": "stdout",
     "output_type": "stream",
     "text": [
      "age                                              0\n",
      "class_of_worker                              50079\n",
      "detailed_industry_recode                         0\n",
      "detailed_occupation_recode                       0\n",
      "education                                        0\n",
      "wage_per_hour                                    0\n",
      "enroll_in_edu_inst_last_wk                   93424\n",
      "marital_stat                                     0\n",
      "major_industry_code                              0\n",
      "major_occupation_code                        50283\n",
      "race                                             0\n",
      "hispanic_origin                                405\n",
      "sex                                              0\n",
      "member_of_a_labor_union                      90283\n",
      "reason_for_unemployment                      96632\n",
      "full_or_part_time_employment_stat                0\n",
      "capital_gains                                    0\n",
      "capital_losses                                   0\n",
      "dividends_from_stocks                            0\n",
      "tax_filer_stat                                   0\n",
      "region_of_previous_residence                 92068\n",
      "state_of_previous_residence                  92068\n",
      "detailed_household_and_family_stat               0\n",
      "detailed_household_summary_in_household          0\n",
      "instance_weight                                  0\n",
      "migration_code_change_in_msa                   723\n",
      "migration_code_change_in_reg                   723\n",
      "migration_code_move_within_reg                 723\n",
      "live_in_this_house_1_year_ago                    0\n",
      "migration_prev_res_in_sunbelt                42122\n",
      "num_persons_worked_for_employer                  0\n",
      "family_members_under_18                      72394\n",
      "country_of_birth_father                          0\n",
      "country_of_birth_mother                          0\n",
      "country_of_birth_self                            0\n",
      "citizenship                                      0\n",
      "own_business_or_self_employed                    0\n",
      "fill_inc_questionnaire_for_veterans_admin    98735\n",
      "veterans_benefits                                0\n",
      "weeks_worked_in_year                             0\n",
      "year                                             0\n",
      "target                                           0\n",
      "dtype: int64\n"
     ]
    }
   ],
   "source": [
    "# Evaluate missing values per column\n",
    "missingTest = test.isna().sum()\n",
    "print(missingTest)"
   ]
  },
  {
   "cell_type": "code",
   "execution_count": 383,
   "id": "07fabbb2",
   "metadata": {},
   "outputs": [
    {
     "data": {
      "text/plain": [
       "[Text(0.5, 1.0, 'Missing Data in Test')]"
      ]
     },
     "execution_count": 383,
     "metadata": {},
     "output_type": "execute_result"
    },
    {
     "data": {
      "image/png": "[encoded data removed]",
      "text/plain": [
       "<Figure size 432x288 with 2 Axes>"
      ]
     },
     "metadata": {
      "needs_background": "light"
     },
     "output_type": "display_data"
    }
   ],
   "source": [
    "# Visualize the missing values\n",
    "sns.heatmap(test.isnull()).set(title = 'Missing Data in Test')"
   ]
  },
  {
   "cell_type": "code",
   "execution_count": 384,
   "id": "fc253dba",
   "metadata": {},
   "outputs": [
    {
     "name": "stdout",
     "output_type": "stream",
     "text": [
      "0.0\n",
      "50.2\n",
      "0.0\n",
      "0.0\n",
      "0.0\n",
      "0.0\n",
      "93.65\n",
      "0.0\n",
      "0.0\n",
      "50.4\n",
      "0.0\n",
      "0.41\n",
      "0.0\n",
      "90.5\n",
      "96.86\n",
      "0.0\n",
      "0.0\n",
      "0.0\n",
      "0.0\n",
      "0.0\n",
      "92.29\n",
      "92.29\n",
      "0.0\n",
      "0.0\n",
      "0.0\n",
      "0.72\n",
      "0.72\n",
      "0.72\n",
      "0.0\n",
      "42.22\n",
      "0.0\n",
      "72.57\n",
      "0.0\n",
      "0.0\n",
      "0.0\n",
      "0.0\n",
      "0.0\n",
      "98.97\n",
      "0.0\n",
      "0.0\n",
      "0.0\n",
      "0.0\n"
     ]
    }
   ],
   "source": [
    "# Determine if columns are missing 30% of data (number of instances in test = 99762)\n",
    "\n",
    "for value in missingTest: \n",
    "    percent = (value/99762) * 100\n",
    "\n",
    "    print(round(percent,2))"
   ]
  },
  {
   "cell_type": "code",
   "execution_count": 385,
   "id": "da14f5de",
   "metadata": {},
   "outputs": [
    {
     "data": {
      "text/html": [
       "<div>\n",
       "<style scoped>\n",
       "    .dataframe tbody tr th:only-of-type {\n",
       "        vertical-align: middle;\n",
       "    }\n",
       "\n",
       "    .dataframe tbody tr th {\n",
       "        vertical-align: top;\n",
       "    }\n",
       "\n",
       "    .dataframe thead th {\n",
       "        text-align: right;\n",
       "    }\n",
       "</style>\n",
       "<table border=\"1\" class=\"dataframe\">\n",
       "  <thead>\n",
       "    <tr style=\"text-align: right;\">\n",
       "      <th></th>\n",
       "      <th>age</th>\n",
       "      <th>detailed_industry_recode</th>\n",
       "      <th>detailed_occupation_recode</th>\n",
       "      <th>education</th>\n",
       "      <th>wage_per_hour</th>\n",
       "      <th>marital_stat</th>\n",
       "      <th>major_industry_code</th>\n",
       "      <th>race</th>\n",
       "      <th>hispanic_origin</th>\n",
       "      <th>sex</th>\n",
       "      <th>...</th>\n",
       "      <th>num_persons_worked_for_employer</th>\n",
       "      <th>country_of_birth_father</th>\n",
       "      <th>country_of_birth_mother</th>\n",
       "      <th>country_of_birth_self</th>\n",
       "      <th>citizenship</th>\n",
       "      <th>own_business_or_self_employed</th>\n",
       "      <th>veterans_benefits</th>\n",
       "      <th>weeks_worked_in_year</th>\n",
       "      <th>year</th>\n",
       "      <th>target</th>\n",
       "    </tr>\n",
       "  </thead>\n",
       "  <tbody>\n",
       "    <tr>\n",
       "      <th>0</th>\n",
       "      <td>38</td>\n",
       "      <td>6</td>\n",
       "      <td>36</td>\n",
       "      <td>1st2nd3rdor4thgrade</td>\n",
       "      <td>0</td>\n",
       "      <td>Married-civilianspousepresent</td>\n",
       "      <td>Manufacturing-durablegoods</td>\n",
       "      <td>White</td>\n",
       "      <td>Mexican(Mexicano)</td>\n",
       "      <td>Female</td>\n",
       "      <td>...</td>\n",
       "      <td>4</td>\n",
       "      <td>Mexico</td>\n",
       "      <td>Mexico</td>\n",
       "      <td>Mexico</td>\n",
       "      <td>Foreignborn-NotacitizenofUS</td>\n",
       "      <td>0</td>\n",
       "      <td>2</td>\n",
       "      <td>12</td>\n",
       "      <td>95</td>\n",
       "      <td>-50000.</td>\n",
       "    </tr>\n",
       "    <tr>\n",
       "      <th>1</th>\n",
       "      <td>44</td>\n",
       "      <td>37</td>\n",
       "      <td>12</td>\n",
       "      <td>Associatesdegree-occup/vocational</td>\n",
       "      <td>0</td>\n",
       "      <td>Married-civilianspousepresent</td>\n",
       "      <td>Businessandrepairservices</td>\n",
       "      <td>White</td>\n",
       "      <td>Allother</td>\n",
       "      <td>Female</td>\n",
       "      <td>...</td>\n",
       "      <td>1</td>\n",
       "      <td>United-States</td>\n",
       "      <td>United-States</td>\n",
       "      <td>United-States</td>\n",
       "      <td>Native-BornintheUnitedStates</td>\n",
       "      <td>0</td>\n",
       "      <td>2</td>\n",
       "      <td>26</td>\n",
       "      <td>95</td>\n",
       "      <td>-50000.</td>\n",
       "    </tr>\n",
       "    <tr>\n",
       "      <th>2</th>\n",
       "      <td>2</td>\n",
       "      <td>0</td>\n",
       "      <td>0</td>\n",
       "      <td>Children</td>\n",
       "      <td>0</td>\n",
       "      <td>Nevermarried</td>\n",
       "      <td>orchildren</td>\n",
       "      <td>White</td>\n",
       "      <td>Mexican-American</td>\n",
       "      <td>Male</td>\n",
       "      <td>...</td>\n",
       "      <td>0</td>\n",
       "      <td>United-States</td>\n",
       "      <td>United-States</td>\n",
       "      <td>United-States</td>\n",
       "      <td>Native-BornintheUnitedStates</td>\n",
       "      <td>0</td>\n",
       "      <td>0</td>\n",
       "      <td>0</td>\n",
       "      <td>95</td>\n",
       "      <td>-50000.</td>\n",
       "    </tr>\n",
       "    <tr>\n",
       "      <th>3</th>\n",
       "      <td>35</td>\n",
       "      <td>29</td>\n",
       "      <td>3</td>\n",
       "      <td>Highschoolgraduate</td>\n",
       "      <td>0</td>\n",
       "      <td>Divorced</td>\n",
       "      <td>Transportation</td>\n",
       "      <td>White</td>\n",
       "      <td>Allother</td>\n",
       "      <td>Female</td>\n",
       "      <td>...</td>\n",
       "      <td>5</td>\n",
       "      <td>United-States</td>\n",
       "      <td>United-States</td>\n",
       "      <td>United-States</td>\n",
       "      <td>Native-BornintheUnitedStates</td>\n",
       "      <td>2</td>\n",
       "      <td>2</td>\n",
       "      <td>52</td>\n",
       "      <td>94</td>\n",
       "      <td>-50000.</td>\n",
       "    </tr>\n",
       "    <tr>\n",
       "      <th>4</th>\n",
       "      <td>49</td>\n",
       "      <td>4</td>\n",
       "      <td>34</td>\n",
       "      <td>Highschoolgraduate</td>\n",
       "      <td>0</td>\n",
       "      <td>Divorced</td>\n",
       "      <td>Construction</td>\n",
       "      <td>White</td>\n",
       "      <td>Allother</td>\n",
       "      <td>Male</td>\n",
       "      <td>...</td>\n",
       "      <td>4</td>\n",
       "      <td>United-States</td>\n",
       "      <td>United-States</td>\n",
       "      <td>United-States</td>\n",
       "      <td>Native-BornintheUnitedStates</td>\n",
       "      <td>0</td>\n",
       "      <td>2</td>\n",
       "      <td>50</td>\n",
       "      <td>95</td>\n",
       "      <td>-50000.</td>\n",
       "    </tr>\n",
       "  </tbody>\n",
       "</table>\n",
       "<p>5 rows × 32 columns</p>\n",
       "</div>"
      ],
      "text/plain": [
       "   age  detailed_industry_recode  detailed_occupation_recode  \\\n",
       "0   38                         6                          36   \n",
       "1   44                        37                          12   \n",
       "2    2                         0                           0   \n",
       "3   35                        29                           3   \n",
       "4   49                         4                          34   \n",
       "\n",
       "                           education  wage_per_hour  \\\n",
       "0                1st2nd3rdor4thgrade              0   \n",
       "1  Associatesdegree-occup/vocational              0   \n",
       "2                           Children              0   \n",
       "3                 Highschoolgraduate              0   \n",
       "4                 Highschoolgraduate              0   \n",
       "\n",
       "                    marital_stat         major_industry_code   race  \\\n",
       "0  Married-civilianspousepresent  Manufacturing-durablegoods  White   \n",
       "1  Married-civilianspousepresent   Businessandrepairservices  White   \n",
       "2                   Nevermarried                  orchildren  White   \n",
       "3                       Divorced              Transportation  White   \n",
       "4                       Divorced                Construction  White   \n",
       "\n",
       "     hispanic_origin     sex  ... num_persons_worked_for_employer  \\\n",
       "0  Mexican(Mexicano)  Female  ...                               4   \n",
       "1           Allother  Female  ...                               1   \n",
       "2   Mexican-American    Male  ...                               0   \n",
       "3           Allother  Female  ...                               5   \n",
       "4           Allother    Male  ...                               4   \n",
       "\n",
       "   country_of_birth_father  country_of_birth_mother  country_of_birth_self  \\\n",
       "0                   Mexico                   Mexico                 Mexico   \n",
       "1            United-States            United-States          United-States   \n",
       "2            United-States            United-States          United-States   \n",
       "3            United-States            United-States          United-States   \n",
       "4            United-States            United-States          United-States   \n",
       "\n",
       "                    citizenship own_business_or_self_employed  \\\n",
       "0   Foreignborn-NotacitizenofUS                             0   \n",
       "1  Native-BornintheUnitedStates                             0   \n",
       "2  Native-BornintheUnitedStates                             0   \n",
       "3  Native-BornintheUnitedStates                             2   \n",
       "4  Native-BornintheUnitedStates                             0   \n",
       "\n",
       "  veterans_benefits  weeks_worked_in_year year   target  \n",
       "0                 2                    12   95  -50000.  \n",
       "1                 2                    26   95  -50000.  \n",
       "2                 0                     0   95  -50000.  \n",
       "3                 2                    52   94  -50000.  \n",
       "4                 2                    50   95  -50000.  \n",
       "\n",
       "[5 rows x 32 columns]"
      ]
     },
     "execution_count": 385,
     "metadata": {},
     "output_type": "execute_result"
    }
   ],
   "source": [
    "# Drop Columns\n",
    "\n",
    "test = test.drop(columns=['class_of_worker', 'enroll_in_edu_inst_last_wk', 'major_occupation_code', \n",
    "                                  'member_of_a_labor_union', 'reason_for_unemployment', 'region_of_previous_residence',\n",
    "                                  'state_of_previous_residence', 'migration_prev_res_in_sunbelt', 'family_members_under_18',\n",
    "                                  'fill_inc_questionnaire_for_veterans_admin'])\n",
    "\n",
    "test.head()"
   ]
  },
  {
   "cell_type": "code",
   "execution_count": 386,
   "id": "6c765072",
   "metadata": {},
   "outputs": [
    {
     "name": "stdout",
     "output_type": "stream",
     "text": [
      "<class 'pandas.core.frame.DataFrame'>\n",
      "RangeIndex: 99762 entries, 0 to 99761\n",
      "Data columns (total 32 columns):\n",
      " #   Column                                   Non-Null Count  Dtype  \n",
      "---  ------                                   --------------  -----  \n",
      " 0   age                                      99762 non-null  int64  \n",
      " 1   detailed_industry_recode                 99762 non-null  int64  \n",
      " 2   detailed_occupation_recode               99762 non-null  int64  \n",
      " 3   education                                99762 non-null  object \n",
      " 4   wage_per_hour                            99762 non-null  int64  \n",
      " 5   marital_stat                             99762 non-null  object \n",
      " 6   major_industry_code                      99762 non-null  object \n",
      " 7   race                                     99762 non-null  object \n",
      " 8   hispanic_origin                          99357 non-null  object \n",
      " 9   sex                                      99762 non-null  object \n",
      " 10  full_or_part_time_employment_stat        99762 non-null  object \n",
      " 11  capital_gains                            99762 non-null  int64  \n",
      " 12  capital_losses                           99762 non-null  int64  \n",
      " 13  dividends_from_stocks                    99762 non-null  int64  \n",
      " 14  tax_filer_stat                           99762 non-null  object \n",
      " 15  detailed_household_and_family_stat       99762 non-null  object \n",
      " 16  detailed_household_summary_in_household  99762 non-null  object \n",
      " 17  instance_weight                          99762 non-null  float64\n",
      " 18  migration_code_change_in_msa             99039 non-null  object \n",
      " 19  migration_code_change_in_reg             99039 non-null  object \n",
      " 20  migration_code_move_within_reg           99039 non-null  object \n",
      " 21  live_in_this_house_1_year_ago            99762 non-null  object \n",
      " 22  num_persons_worked_for_employer          99762 non-null  int64  \n",
      " 23  country_of_birth_father                  99762 non-null  object \n",
      " 24  country_of_birth_mother                  99762 non-null  object \n",
      " 25  country_of_birth_self                    99762 non-null  object \n",
      " 26  citizenship                              99762 non-null  object \n",
      " 27  own_business_or_self_employed            99762 non-null  int64  \n",
      " 28  veterans_benefits                        99762 non-null  int64  \n",
      " 29  weeks_worked_in_year                     99762 non-null  int64  \n",
      " 30  year                                     99762 non-null  int64  \n",
      " 31  target                                   99762 non-null  object \n",
      "dtypes: float64(1), int64(12), object(19)\n",
      "memory usage: 24.4+ MB\n"
     ]
    }
   ],
   "source": [
    "test.info()"
   ]
  },
  {
   "cell_type": "code",
   "execution_count": 387,
   "id": "a2ee33ca",
   "metadata": {},
   "outputs": [
    {
     "name": "stdout",
     "output_type": "stream",
     "text": [
      "<class 'pandas.core.frame.DataFrame'>\n",
      "RangeIndex: 99762 entries, 0 to 99761\n",
      "Data columns (total 32 columns):\n",
      " #   Column                                   Non-Null Count  Dtype   \n",
      "---  ------                                   --------------  -----   \n",
      " 0   age                                      99762 non-null  int64   \n",
      " 1   detailed_industry_recode                 99762 non-null  category\n",
      " 2   detailed_occupation_recode               99762 non-null  category\n",
      " 3   education                                99762 non-null  category\n",
      " 4   wage_per_hour                            99762 non-null  int64   \n",
      " 5   marital_stat                             99762 non-null  category\n",
      " 6   major_industry_code                      99762 non-null  category\n",
      " 7   race                                     99762 non-null  category\n",
      " 8   hispanic_origin                          99357 non-null  category\n",
      " 9   sex                                      99762 non-null  category\n",
      " 10  full_or_part_time_employment_stat        99762 non-null  category\n",
      " 11  capital_gains                            99762 non-null  int64   \n",
      " 12  capital_losses                           99762 non-null  int64   \n",
      " 13  dividends_from_stocks                    99762 non-null  category\n",
      " 14  tax_filer_stat                           99762 non-null  category\n",
      " 15  detailed_household_and_family_stat       99762 non-null  category\n",
      " 16  detailed_household_summary_in_household  99762 non-null  category\n",
      " 17  instance_weight                          99762 non-null  category\n",
      " 18  migration_code_change_in_msa             99039 non-null  category\n",
      " 19  migration_code_change_in_reg             99039 non-null  category\n",
      " 20  migration_code_move_within_reg           99039 non-null  category\n",
      " 21  live_in_this_house_1_year_ago            99762 non-null  category\n",
      " 22  num_persons_worked_for_employer          99762 non-null  int64   \n",
      " 23  country_of_birth_father                  99762 non-null  category\n",
      " 24  country_of_birth_mother                  99762 non-null  category\n",
      " 25  country_of_birth_self                    99762 non-null  category\n",
      " 26  citizenship                              99762 non-null  category\n",
      " 27  own_business_or_self_employed            99762 non-null  category\n",
      " 28  veterans_benefits                        99762 non-null  category\n",
      " 29  weeks_worked_in_year                     99762 non-null  int64   \n",
      " 30  year                                     99762 non-null  category\n",
      " 31  target                                   99762 non-null  category\n",
      "dtypes: category(26), int64(6)\n",
      "memory usage: 10.0 MB\n"
     ]
    }
   ],
   "source": [
    "nominal_columns = ['detailed_industry_recode', 'detailed_occupation_recode', 'education', 'marital_stat', 'major_industry_code',\n",
    "                   'race', 'hispanic_origin', 'sex', 'full_or_part_time_employment_stat', 'dividends_from_stocks', \n",
    "                   'tax_filer_stat', 'detailed_household_and_family_stat', 'detailed_household_summary_in_household', \n",
    "                   'instance_weight', 'migration_code_change_in_msa', 'migration_code_change_in_reg', \n",
    "                   'migration_code_move_within_reg','live_in_this_house_1_year_ago','country_of_birth_father', \n",
    "                   'country_of_birth_mother', 'country_of_birth_self', 'citizenship', 'own_business_or_self_employed',\n",
    "                   'veterans_benefits', 'year','target']\n",
    "    \n",
    "for i in nominal_columns:\n",
    "    test[i] = test[i].astype('category')\n",
    "    \n",
    "test.info()"
   ]
  },
  {
   "cell_type": "markdown",
   "id": "075b0611",
   "metadata": {},
   "source": [
    "#### Exploratory Data Analysis (Test Set)"
   ]
  },
  {
   "cell_type": "code",
   "execution_count": 388,
   "id": "900d2681",
   "metadata": {},
   "outputs": [
    {
     "name": "stdout",
     "output_type": "stream",
     "text": [
      "sex\n",
      "Female    34.0\n",
      "Male      32.0\n",
      "Name: age, dtype: float64\n"
     ]
    },
    {
     "data": {
      "text/plain": [
       "[Text(0.5, 1.0, 'Median Age Per Sex- Test')]"
      ]
     },
     "execution_count": 388,
     "metadata": {},
     "output_type": "execute_result"
    },
    {
     "data": {
      "image/png": "[encoded data removed]",
      "text/plain": [
       "<Figure size 432x288 with 1 Axes>"
      ]
     },
     "metadata": {
      "needs_background": "light"
     },
     "output_type": "display_data"
    }
   ],
   "source": [
    "# Plot the median age per sex\n",
    "\n",
    "#Calculation\n",
    "medians = test.groupby(['sex'])['age'].median()\n",
    "print(medians)\n",
    "\n",
    "#Visulization\n",
    "box_plot = sns.boxplot(x = \"sex\", y = \"age\", data = test).set(title='Median Age Per Sex- Test')\n",
    "box_plot"
   ]
  },
  {
   "cell_type": "code",
   "execution_count": 389,
   "id": "02e5f50b",
   "metadata": {},
   "outputs": [
    {
     "data": {
      "text/plain": [
       "[Text(0.5, 1.0, 'Distribution of Race- Test')]"
      ]
     },
     "execution_count": 389,
     "metadata": {},
     "output_type": "execute_result"
    },
    {
     "data": {
      "image/png": "[encoded data removed]",
      "text/plain": [
       "<Figure size 1080x576 with 1 Axes>"
      ]
     },
     "metadata": {
      "needs_background": "light"
     },
     "output_type": "display_data"
    }
   ],
   "source": [
    "plt.figure(figsize = (15,8))\n",
    "sns.histplot(test, x=\"race\").set(title='Distribution of Race- Test')"
   ]
  },
  {
   "cell_type": "code",
   "execution_count": 390,
   "id": "51b50b30",
   "metadata": {},
   "outputs": [
    {
     "name": "stderr",
     "output_type": "stream",
     "text": [
      "/tmp/ipykernel_330/1526452814.py:3: FutureWarning: ['detailed_industry_recode', 'detailed_occupation_recode', 'education', 'marital_stat', 'major_industry_code', 'race', 'hispanic_origin', 'sex', 'full_or_part_time_employment_stat', 'dividends_from_stocks', 'tax_filer_stat', 'detailed_household_and_family_stat', 'detailed_household_summary_in_household', 'instance_weight', 'migration_code_change_in_msa', 'migration_code_change_in_reg', 'migration_code_move_within_reg', 'live_in_this_house_1_year_ago', 'country_of_birth_father', 'country_of_birth_mother', 'country_of_birth_self', 'citizenship', 'own_business_or_self_employed', 'veterans_benefits', 'year', 'target'] did not aggregate successfully. If any error is raised this will raise in a future version of pandas. Drop these columns/ops to avoid this warning.\n",
      "  test.agg([np.mean, np.median, 'min', 'max', np.var, np.std, 'skew'])\n"
     ]
    },
    {
     "data": {
      "text/html": [
       "<div>\n",
       "<style scoped>\n",
       "    .dataframe tbody tr th:only-of-type {\n",
       "        vertical-align: middle;\n",
       "    }\n",
       "\n",
       "    .dataframe tbody tr th {\n",
       "        vertical-align: top;\n",
       "    }\n",
       "\n",
       "    .dataframe thead th {\n",
       "        text-align: right;\n",
       "    }\n",
       "</style>\n",
       "<table border=\"1\" class=\"dataframe\">\n",
       "  <thead>\n",
       "    <tr style=\"text-align: right;\">\n",
       "      <th></th>\n",
       "      <th>age</th>\n",
       "      <th>wage_per_hour</th>\n",
       "      <th>capital_gains</th>\n",
       "      <th>capital_losses</th>\n",
       "      <th>num_persons_worked_for_employer</th>\n",
       "      <th>weeks_worked_in_year</th>\n",
       "    </tr>\n",
       "  </thead>\n",
       "  <tbody>\n",
       "    <tr>\n",
       "      <th>mean</th>\n",
       "      <td>34.628596</td>\n",
       "      <td>54.461268</td>\n",
       "      <td>4.257886e+02</td>\n",
       "      <td>35.919458</td>\n",
       "      <td>1.956156</td>\n",
       "      <td>23.185331</td>\n",
       "    </tr>\n",
       "    <tr>\n",
       "      <th>median</th>\n",
       "      <td>33.000000</td>\n",
       "      <td>0.000000</td>\n",
       "      <td>0.000000e+00</td>\n",
       "      <td>0.000000</td>\n",
       "      <td>1.000000</td>\n",
       "      <td>8.000000</td>\n",
       "    </tr>\n",
       "    <tr>\n",
       "      <th>min</th>\n",
       "      <td>0.000000</td>\n",
       "      <td>0.000000</td>\n",
       "      <td>0.000000e+00</td>\n",
       "      <td>0.000000</td>\n",
       "      <td>0.000000</td>\n",
       "      <td>0.000000</td>\n",
       "    </tr>\n",
       "    <tr>\n",
       "      <th>max</th>\n",
       "      <td>90.000000</td>\n",
       "      <td>9900.000000</td>\n",
       "      <td>9.999900e+04</td>\n",
       "      <td>4608.000000</td>\n",
       "      <td>6.000000</td>\n",
       "      <td>52.000000</td>\n",
       "    </tr>\n",
       "    <tr>\n",
       "      <th>var</th>\n",
       "      <td>498.782939</td>\n",
       "      <td>73009.468318</td>\n",
       "      <td>2.131480e+07</td>\n",
       "      <td>70503.659244</td>\n",
       "      <td>5.590062</td>\n",
       "      <td>594.832313</td>\n",
       "    </tr>\n",
       "    <tr>\n",
       "      <th>std</th>\n",
       "      <td>22.333449</td>\n",
       "      <td>270.202643</td>\n",
       "      <td>4.616796e+03</td>\n",
       "      <td>265.525252</td>\n",
       "      <td>2.364331</td>\n",
       "      <td>24.389184</td>\n",
       "    </tr>\n",
       "    <tr>\n",
       "      <th>skew</th>\n",
       "      <td>0.371770</td>\n",
       "      <td>8.757473</td>\n",
       "      <td>1.929506e+01</td>\n",
       "      <td>7.795863</td>\n",
       "      <td>0.753843</td>\n",
       "      <td>0.209719</td>\n",
       "    </tr>\n",
       "  </tbody>\n",
       "</table>\n",
       "</div>"
      ],
      "text/plain": [
       "               age  wage_per_hour  capital_gains  capital_losses  \\\n",
       "mean     34.628596      54.461268   4.257886e+02       35.919458   \n",
       "median   33.000000       0.000000   0.000000e+00        0.000000   \n",
       "min       0.000000       0.000000   0.000000e+00        0.000000   \n",
       "max      90.000000    9900.000000   9.999900e+04     4608.000000   \n",
       "var     498.782939   73009.468318   2.131480e+07    70503.659244   \n",
       "std      22.333449     270.202643   4.616796e+03      265.525252   \n",
       "skew      0.371770       8.757473   1.929506e+01        7.795863   \n",
       "\n",
       "        num_persons_worked_for_employer  weeks_worked_in_year  \n",
       "mean                           1.956156             23.185331  \n",
       "median                         1.000000              8.000000  \n",
       "min                            0.000000              0.000000  \n",
       "max                            6.000000             52.000000  \n",
       "var                            5.590062            594.832313  \n",
       "std                            2.364331             24.389184  \n",
       "skew                           0.753843              0.209719  "
      ]
     },
     "execution_count": 390,
     "metadata": {},
     "output_type": "execute_result"
    }
   ],
   "source": [
    "# Descriptive statistics for continuous variables\n",
    "\n",
    "test.agg([np.mean, np.median, 'min', 'max', np.var, np.std, 'skew'])"
   ]
  },
  {
   "cell_type": "code",
   "execution_count": 391,
   "id": "e7729fb4",
   "metadata": {},
   "outputs": [
    {
     "data": {
      "text/plain": [
       "<function matplotlib.pyplot.show(close=None, block=None)>"
      ]
     },
     "execution_count": 391,
     "metadata": {},
     "output_type": "execute_result"
    },
    {
     "data": {
      "image/png": "[encoded data removed]",
      "text/plain": [
       "<Figure size 720x720 with 2 Axes>"
      ]
     },
     "metadata": {
      "needs_background": "light"
     },
     "output_type": "display_data"
    }
   ],
   "source": [
    "# Correlation Matrix for Continuous Variables\n",
    "\n",
    "corr_matrix = test.corr()\n",
    "\n",
    "heatmap = plt.figure(figsize = (10,10))\n",
    "ax = sns.heatmap(corr_matrix, annot = True).set(title = 'Continuous Variable Correlation- Test')\n",
    "plt.show"
   ]
  },
  {
   "cell_type": "code",
   "execution_count": 392,
   "id": "c11b5be9",
   "metadata": {},
   "outputs": [
    {
     "data": {
      "text/plain": [
       "[Text(0.5, 1.0, 'Distribution of Target- Test')]"
      ]
     },
     "execution_count": 392,
     "metadata": {},
     "output_type": "execute_result"
    },
    {
     "data": {
      "image/png": "[encoded data removed]",
      "text/plain": [
       "<Figure size 1080x576 with 1 Axes>"
      ]
     },
     "metadata": {
      "needs_background": "light"
     },
     "output_type": "display_data"
    }
   ],
   "source": [
    "plt.figure(figsize = (15,8))\n",
    "sns.histplot(test, x=\"target\").set(title='Distribution of Target- Test')"
   ]
  },
  {
   "cell_type": "code",
   "execution_count": 393,
   "id": "1ef02025",
   "metadata": {},
   "outputs": [
    {
     "name": "stdout",
     "output_type": "stream",
     "text": [
      "target\n",
      "-50000.    32.0\n",
      "50000+.    45.0\n",
      "Name: age, dtype: float64\n"
     ]
    },
    {
     "data": {
      "text/plain": [
       "[Text(0.5, 1.0, 'Median Age Per Target Value- Test')]"
      ]
     },
     "execution_count": 393,
     "metadata": {},
     "output_type": "execute_result"
    },
    {
     "data": {
      "image/png": "[encoded data removed]",
      "text/plain": [
       "<Figure size 432x288 with 1 Axes>"
      ]
     },
     "metadata": {
      "needs_background": "light"
     },
     "output_type": "display_data"
    }
   ],
   "source": [
    "# Plot the median age per target\n",
    "\n",
    "#Calculation\n",
    "medians = test.groupby(['target'])['age'].median()\n",
    "print(medians)\n",
    "\n",
    "#Visulization\n",
    "box_plot = sns.boxplot(x = \"target\", y = \"age\", data = test).set(title='Median Age Per Target Value- Test')\n",
    "box_plot"
   ]
  },
  {
   "cell_type": "markdown",
   "id": "27255e56",
   "metadata": {},
   "source": [
    "Median Age is higher in 50000+ category"
   ]
  },
  {
   "cell_type": "code",
   "execution_count": 400,
   "id": "c04a3e93",
   "metadata": {},
   "outputs": [
    {
     "name": "stdout",
     "output_type": "stream",
     "text": [
      "target\n",
      "-50000.     0.0\n",
      "50000+.    52.0\n",
      "Name: weeks_worked_in_year, dtype: float64\n"
     ]
    },
    {
     "data": {
      "text/plain": [
       "[Text(0.5, 1.0, 'Median Weeks Worked Per Year Per Target Value- Test')]"
      ]
     },
     "execution_count": 400,
     "metadata": {},
     "output_type": "execute_result"
    },
    {
     "data": {
      "image/png": "[encoded data removed]",
      "text/plain": [
       "<Figure size 432x288 with 1 Axes>"
      ]
     },
     "metadata": {
      "needs_background": "light"
     },
     "output_type": "display_data"
    }
   ],
   "source": [
    "# Plot the median age per target\n",
    "\n",
    "#Calculation\n",
    "medians = test.groupby(['target'])['weeks_worked_in_year'].median()\n",
    "print(medians)\n",
    "\n",
    "#Visulization\n",
    "box_plot = sns.boxplot(x = \"target\", y = \"weeks_worked_in_year\", data = test).set(\n",
    "    title='Median Weeks Worked Per Year Per Target Value- Test')\n",
    "box_plot"
   ]
  },
  {
   "cell_type": "code",
   "execution_count": null,
   "id": "daeaa4d7",
   "metadata": {},
   "outputs": [],
   "source": []
  }
 ],
 "metadata": {
  "kernelspec": {
   "display_name": "Python 3 (ipykernel)",
   "language": "python",
   "name": "python3"
  },
  "language_info": {
   "codemirror_mode": {
    "name": "ipython",
    "version": 3
   },
   "file_extension": ".py",
   "mimetype": "text/x-python",
   "name": "python",
   "nbconvert_exporter": "python",
   "pygments_lexer": "ipython3",
   "version": "3.8.10"
  }
 },
 "nbformat": 4,
 "nbformat_minor": 5
}
